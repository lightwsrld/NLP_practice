{
  "cells": [
    {
      "cell_type": "code",
      "metadata": {
        "id": "FA8Yal54oxpp"
      },
      "source": [
        "from nltk.translate.bleu_score import sentence_bleu, SmoothingFunction\n",
        "import numpy as np\n",
        "\n",
        "# -Translate- #\n",
        "\n",
        "def translate_1(model, test_dataloader, tokenizer, max_token_length):\n",
        "    bleu_scores = []\n",
        "    model.cpu()\n",
        "    smoothing = SmoothingFunction()\n",
        "\n",
        "    for test_batch in test_dataloader:\n",
        "        test_input = {key: test_batch[key] for key in ('input_ids', 'attention_mask')}\n",
        "        English_1 = model.generate(\n",
        "            **test_input,\n",
        "            max_length=max_token_length,\n",
        "            num_beams=5,\n",
        "        )\n",
        "        labels = np.where(test_batch['labels'] != -100, test_batch['labels'], tokenizer.pad_token_id)\n",
        "\n",
        "        Gen_sents = tokenizer.batch_decode(test_batch['input_ids'], skip_special_tokens=True)\n",
        "        references = tokenizer.batch_decode(labels, skip_special_tokens=True)\n",
        "        preds = tokenizer.batch_decode(English_1, skip_special_tokens=True)\n",
        "\n",
        "        for s in zip(Gen_sents, references, preds):\n",
        "            # Calculate BLEU-4 score\n",
        "            reference_sentence = s[1].split()\n",
        "            translate_sentence = s[2].split()\n",
        "            bleu_score = sentence_bleu([reference_sentence], translate_sentence, weights=(0.25, 0.25, 0.25, 0.25),\n",
        "                                                                             smoothing_function=smoothing.method1)\n",
        "            bleu_scores.append(bleu_score)\n",
        "\n",
        "    average_bleu_score = sum(bleu_scores) / len(bleu_scores)\n",
        "    return average_bleu_score"
      ],
      "outputs": [],
      "execution_count": null
    }
  ],
  "metadata": {
    "anaconda-cloud": {},
    "kernelspec": {
      "display_name": "Python 3",
      "language": "python",
      "name": "python3"
    },
    "language_info": {
      "codemirror_mode": {
        "name": "ipython",
        "version": 3
      },
      "file_extension": ".py",
      "mimetype": "text/x-python",
      "name": "python",
      "nbconvert_exporter": "python",
      "pygments_lexer": "ipython3",
      "version": "3.6.1"
    },
    "colab": {
      "provenance": []
    }
  },
  "nbformat": 4,
  "nbformat_minor": 0
}