{
  "cells": [
    {
      "cell_type": "code",
      "metadata": {
        "id": "jperWVAJ7rP7"
      },
      "source": [
        "import torch\n",
        "\n",
        "# -test- #\n",
        "\n",
        "device = torch.device('cuda' if torch.cuda.is_available() else 'cpu')\n",
        "\n",
        "def test_model(model, test_loader, criterion):\n",
        "    model.eval()\n",
        "\n",
        "    test_loss = 0\n",
        "    test_acc = 0\n",
        "    total = 0\n",
        "\n",
        "    with torch.no_grad():\n",
        "        for id, (feature, target) in enumerate(test_loader):\n",
        "            feature, target = feature.to(device), target.to(device)\n",
        "\n",
        "            out = model(feature)\n",
        "\n",
        "            predicted = torch.argmax(out, dim=1)\n",
        "            correct = predicted.squeeze() == target.int()\n",
        "            test_acc += correct.sum().item()\n",
        "            total += correct.size(0)\n",
        "\n",
        "            loss = criterion(out, target.cuda())\n",
        "            test_loss += loss.item()\n",
        "\n",
        "    accuracy = test_acc / total\n",
        "    loss = test_loss / len(test_loader)\n",
        "\n",
        "    return accuracy, loss\n",
        "\n",
        "def test_result(test_accuracy, test_loss):\n",
        "    print(f'Test Accuracy: {test_accuracy:.5f}, Test Loss: {test_loss:.5f}')"
      ],
      "outputs": [],
      "execution_count": null
    }
  ],
  "metadata": {
    "anaconda-cloud": {},
    "kernelspec": {
      "display_name": "Python 3",
      "language": "python",
      "name": "python3"
    },
    "language_info": {
      "codemirror_mode": {
        "name": "ipython",
        "version": 3
      },
      "file_extension": ".py",
      "mimetype": "text/x-python",
      "name": "python",
      "nbconvert_exporter": "python",
      "pygments_lexer": "ipython3",
      "version": "3.6.1"
    },
    "colab": {
      "provenance": []
    }
  },
  "nbformat": 4,
  "nbformat_minor": 0
}