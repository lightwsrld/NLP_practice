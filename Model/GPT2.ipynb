{
  "nbformat": 4,
  "nbformat_minor": 0,
  "metadata": {
    "colab": {
      "provenance": [],
      "machine_shape": "hm",
      "gpuType": "A100",
      "authorship_tag": "ABX9TyMIPFLcQnQxaqFaA2MEmKTA"
    },
    "kernelspec": {
      "name": "python3",
      "display_name": "Python 3"
    },
    "language_info": {
      "name": "python"
    },
    "accelerator": "GPU",
    "widgets": {
      "application/vnd.jupyter.widget-state+json": {
        "520d5a7d9a214edfaa0a4cfd76f3ecd6": {
          "model_module": "@jupyter-widgets/controls",
          "model_name": "HBoxModel",
          "model_module_version": "1.5.0",
          "state": {
            "_dom_classes": [],
            "_model_module": "@jupyter-widgets/controls",
            "_model_module_version": "1.5.0",
            "_model_name": "HBoxModel",
            "_view_count": null,
            "_view_module": "@jupyter-widgets/controls",
            "_view_module_version": "1.5.0",
            "_view_name": "HBoxView",
            "box_style": "",
            "children": [
              "IPY_MODEL_e6ad9620d32a411884d353fe76414381",
              "IPY_MODEL_e7d2569a5d674aaea73b72d3f3243a5f",
              "IPY_MODEL_8f4637efee7f47599b7096c47a0bb383"
            ],
            "layout": "IPY_MODEL_9a81067d1112436ba950de5f63c9ec7c"
          }
        },
        "e6ad9620d32a411884d353fe76414381": {
          "model_module": "@jupyter-widgets/controls",
          "model_name": "HTMLModel",
          "model_module_version": "1.5.0",
          "state": {
            "_dom_classes": [],
            "_model_module": "@jupyter-widgets/controls",
            "_model_module_version": "1.5.0",
            "_model_name": "HTMLModel",
            "_view_count": null,
            "_view_module": "@jupyter-widgets/controls",
            "_view_module_version": "1.5.0",
            "_view_name": "HTMLView",
            "description": "",
            "description_tooltip": null,
            "layout": "IPY_MODEL_1773c1bd1ee4429fb2092acda746fa07",
            "placeholder": "​",
            "style": "IPY_MODEL_5562c5d9f29c4698848921679270d63a",
            "value": "Downloading (…)lve/main/config.json: 100%"
          }
        },
        "e7d2569a5d674aaea73b72d3f3243a5f": {
          "model_module": "@jupyter-widgets/controls",
          "model_name": "FloatProgressModel",
          "model_module_version": "1.5.0",
          "state": {
            "_dom_classes": [],
            "_model_module": "@jupyter-widgets/controls",
            "_model_module_version": "1.5.0",
            "_model_name": "FloatProgressModel",
            "_view_count": null,
            "_view_module": "@jupyter-widgets/controls",
            "_view_module_version": "1.5.0",
            "_view_name": "ProgressView",
            "bar_style": "success",
            "description": "",
            "description_tooltip": null,
            "layout": "IPY_MODEL_291eaf0162c74912a7e42f037b5bd786",
            "max": 666,
            "min": 0,
            "orientation": "horizontal",
            "style": "IPY_MODEL_a886c0905cab4f72ae1a4d27be33917c",
            "value": 666
          }
        },
        "8f4637efee7f47599b7096c47a0bb383": {
          "model_module": "@jupyter-widgets/controls",
          "model_name": "HTMLModel",
          "model_module_version": "1.5.0",
          "state": {
            "_dom_classes": [],
            "_model_module": "@jupyter-widgets/controls",
            "_model_module_version": "1.5.0",
            "_model_name": "HTMLModel",
            "_view_count": null,
            "_view_module": "@jupyter-widgets/controls",
            "_view_module_version": "1.5.0",
            "_view_name": "HTMLView",
            "description": "",
            "description_tooltip": null,
            "layout": "IPY_MODEL_398335e25b2745369fca0c8ad40613ed",
            "placeholder": "​",
            "style": "IPY_MODEL_daa77493250541ac87281f438b0b514d",
            "value": " 666/666 [00:00&lt;00:00, 60.1kB/s]"
          }
        },
        "9a81067d1112436ba950de5f63c9ec7c": {
          "model_module": "@jupyter-widgets/base",
          "model_name": "LayoutModel",
          "model_module_version": "1.2.0",
          "state": {
            "_model_module": "@jupyter-widgets/base",
            "_model_module_version": "1.2.0",
            "_model_name": "LayoutModel",
            "_view_count": null,
            "_view_module": "@jupyter-widgets/base",
            "_view_module_version": "1.2.0",
            "_view_name": "LayoutView",
            "align_content": null,
            "align_items": null,
            "align_self": null,
            "border": null,
            "bottom": null,
            "display": null,
            "flex": null,
            "flex_flow": null,
            "grid_area": null,
            "grid_auto_columns": null,
            "grid_auto_flow": null,
            "grid_auto_rows": null,
            "grid_column": null,
            "grid_gap": null,
            "grid_row": null,
            "grid_template_areas": null,
            "grid_template_columns": null,
            "grid_template_rows": null,
            "height": null,
            "justify_content": null,
            "justify_items": null,
            "left": null,
            "margin": null,
            "max_height": null,
            "max_width": null,
            "min_height": null,
            "min_width": null,
            "object_fit": null,
            "object_position": null,
            "order": null,
            "overflow": null,
            "overflow_x": null,
            "overflow_y": null,
            "padding": null,
            "right": null,
            "top": null,
            "visibility": null,
            "width": null
          }
        },
        "1773c1bd1ee4429fb2092acda746fa07": {
          "model_module": "@jupyter-widgets/base",
          "model_name": "LayoutModel",
          "model_module_version": "1.2.0",
          "state": {
            "_model_module": "@jupyter-widgets/base",
            "_model_module_version": "1.2.0",
            "_model_name": "LayoutModel",
            "_view_count": null,
            "_view_module": "@jupyter-widgets/base",
            "_view_module_version": "1.2.0",
            "_view_name": "LayoutView",
            "align_content": null,
            "align_items": null,
            "align_self": null,
            "border": null,
            "bottom": null,
            "display": null,
            "flex": null,
            "flex_flow": null,
            "grid_area": null,
            "grid_auto_columns": null,
            "grid_auto_flow": null,
            "grid_auto_rows": null,
            "grid_column": null,
            "grid_gap": null,
            "grid_row": null,
            "grid_template_areas": null,
            "grid_template_columns": null,
            "grid_template_rows": null,
            "height": null,
            "justify_content": null,
            "justify_items": null,
            "left": null,
            "margin": null,
            "max_height": null,
            "max_width": null,
            "min_height": null,
            "min_width": null,
            "object_fit": null,
            "object_position": null,
            "order": null,
            "overflow": null,
            "overflow_x": null,
            "overflow_y": null,
            "padding": null,
            "right": null,
            "top": null,
            "visibility": null,
            "width": null
          }
        },
        "5562c5d9f29c4698848921679270d63a": {
          "model_module": "@jupyter-widgets/controls",
          "model_name": "DescriptionStyleModel",
          "model_module_version": "1.5.0",
          "state": {
            "_model_module": "@jupyter-widgets/controls",
            "_model_module_version": "1.5.0",
            "_model_name": "DescriptionStyleModel",
            "_view_count": null,
            "_view_module": "@jupyter-widgets/base",
            "_view_module_version": "1.2.0",
            "_view_name": "StyleView",
            "description_width": ""
          }
        },
        "291eaf0162c74912a7e42f037b5bd786": {
          "model_module": "@jupyter-widgets/base",
          "model_name": "LayoutModel",
          "model_module_version": "1.2.0",
          "state": {
            "_model_module": "@jupyter-widgets/base",
            "_model_module_version": "1.2.0",
            "_model_name": "LayoutModel",
            "_view_count": null,
            "_view_module": "@jupyter-widgets/base",
            "_view_module_version": "1.2.0",
            "_view_name": "LayoutView",
            "align_content": null,
            "align_items": null,
            "align_self": null,
            "border": null,
            "bottom": null,
            "display": null,
            "flex": null,
            "flex_flow": null,
            "grid_area": null,
            "grid_auto_columns": null,
            "grid_auto_flow": null,
            "grid_auto_rows": null,
            "grid_column": null,
            "grid_gap": null,
            "grid_row": null,
            "grid_template_areas": null,
            "grid_template_columns": null,
            "grid_template_rows": null,
            "height": null,
            "justify_content": null,
            "justify_items": null,
            "left": null,
            "margin": null,
            "max_height": null,
            "max_width": null,
            "min_height": null,
            "min_width": null,
            "object_fit": null,
            "object_position": null,
            "order": null,
            "overflow": null,
            "overflow_x": null,
            "overflow_y": null,
            "padding": null,
            "right": null,
            "top": null,
            "visibility": null,
            "width": null
          }
        },
        "a886c0905cab4f72ae1a4d27be33917c": {
          "model_module": "@jupyter-widgets/controls",
          "model_name": "ProgressStyleModel",
          "model_module_version": "1.5.0",
          "state": {
            "_model_module": "@jupyter-widgets/controls",
            "_model_module_version": "1.5.0",
            "_model_name": "ProgressStyleModel",
            "_view_count": null,
            "_view_module": "@jupyter-widgets/base",
            "_view_module_version": "1.2.0",
            "_view_name": "StyleView",
            "bar_color": null,
            "description_width": ""
          }
        },
        "398335e25b2745369fca0c8ad40613ed": {
          "model_module": "@jupyter-widgets/base",
          "model_name": "LayoutModel",
          "model_module_version": "1.2.0",
          "state": {
            "_model_module": "@jupyter-widgets/base",
            "_model_module_version": "1.2.0",
            "_model_name": "LayoutModel",
            "_view_count": null,
            "_view_module": "@jupyter-widgets/base",
            "_view_module_version": "1.2.0",
            "_view_name": "LayoutView",
            "align_content": null,
            "align_items": null,
            "align_self": null,
            "border": null,
            "bottom": null,
            "display": null,
            "flex": null,
            "flex_flow": null,
            "grid_area": null,
            "grid_auto_columns": null,
            "grid_auto_flow": null,
            "grid_auto_rows": null,
            "grid_column": null,
            "grid_gap": null,
            "grid_row": null,
            "grid_template_areas": null,
            "grid_template_columns": null,
            "grid_template_rows": null,
            "height": null,
            "justify_content": null,
            "justify_items": null,
            "left": null,
            "margin": null,
            "max_height": null,
            "max_width": null,
            "min_height": null,
            "min_width": null,
            "object_fit": null,
            "object_position": null,
            "order": null,
            "overflow": null,
            "overflow_x": null,
            "overflow_y": null,
            "padding": null,
            "right": null,
            "top": null,
            "visibility": null,
            "width": null
          }
        },
        "daa77493250541ac87281f438b0b514d": {
          "model_module": "@jupyter-widgets/controls",
          "model_name": "DescriptionStyleModel",
          "model_module_version": "1.5.0",
          "state": {
            "_model_module": "@jupyter-widgets/controls",
            "_model_module_version": "1.5.0",
            "_model_name": "DescriptionStyleModel",
            "_view_count": null,
            "_view_module": "@jupyter-widgets/base",
            "_view_module_version": "1.2.0",
            "_view_name": "StyleView",
            "description_width": ""
          }
        },
        "4d8ce215ed5f4b129a090d38bd98fed7": {
          "model_module": "@jupyter-widgets/controls",
          "model_name": "HBoxModel",
          "model_module_version": "1.5.0",
          "state": {
            "_dom_classes": [],
            "_model_module": "@jupyter-widgets/controls",
            "_model_module_version": "1.5.0",
            "_model_name": "HBoxModel",
            "_view_count": null,
            "_view_module": "@jupyter-widgets/controls",
            "_view_module_version": "1.5.0",
            "_view_name": "HBoxView",
            "box_style": "",
            "children": [
              "IPY_MODEL_97cffda1343f4c24aad76fc644fa4a49",
              "IPY_MODEL_406c3bac2e384d1581098e4c6aa0c645",
              "IPY_MODEL_9d476c0a3783418591efbd63881a0cd5"
            ],
            "layout": "IPY_MODEL_9a6fae3b443a4da59baf691c9db9366b"
          }
        },
        "97cffda1343f4c24aad76fc644fa4a49": {
          "model_module": "@jupyter-widgets/controls",
          "model_name": "HTMLModel",
          "model_module_version": "1.5.0",
          "state": {
            "_dom_classes": [],
            "_model_module": "@jupyter-widgets/controls",
            "_model_module_version": "1.5.0",
            "_model_name": "HTMLModel",
            "_view_count": null,
            "_view_module": "@jupyter-widgets/controls",
            "_view_module_version": "1.5.0",
            "_view_name": "HTMLView",
            "description": "",
            "description_tooltip": null,
            "layout": "IPY_MODEL_b9bfbad39cc94766a3ac12ded4f37a9f",
            "placeholder": "​",
            "style": "IPY_MODEL_a6470166f64a41fc83723a8805c8ec51",
            "value": "Downloading (…)olve/main/vocab.json: 100%"
          }
        },
        "406c3bac2e384d1581098e4c6aa0c645": {
          "model_module": "@jupyter-widgets/controls",
          "model_name": "FloatProgressModel",
          "model_module_version": "1.5.0",
          "state": {
            "_dom_classes": [],
            "_model_module": "@jupyter-widgets/controls",
            "_model_module_version": "1.5.0",
            "_model_name": "FloatProgressModel",
            "_view_count": null,
            "_view_module": "@jupyter-widgets/controls",
            "_view_module_version": "1.5.0",
            "_view_name": "ProgressView",
            "bar_style": "success",
            "description": "",
            "description_tooltip": null,
            "layout": "IPY_MODEL_2d324e493d9f436ea34c6b9b0b845487",
            "max": 1042301,
            "min": 0,
            "orientation": "horizontal",
            "style": "IPY_MODEL_eadd95ab42174d4eaee773f2d5bd3961",
            "value": 1042301
          }
        },
        "9d476c0a3783418591efbd63881a0cd5": {
          "model_module": "@jupyter-widgets/controls",
          "model_name": "HTMLModel",
          "model_module_version": "1.5.0",
          "state": {
            "_dom_classes": [],
            "_model_module": "@jupyter-widgets/controls",
            "_model_module_version": "1.5.0",
            "_model_name": "HTMLModel",
            "_view_count": null,
            "_view_module": "@jupyter-widgets/controls",
            "_view_module_version": "1.5.0",
            "_view_name": "HTMLView",
            "description": "",
            "description_tooltip": null,
            "layout": "IPY_MODEL_15da06c1d670444f8830aa8d42334fe9",
            "placeholder": "​",
            "style": "IPY_MODEL_bdde0a8db8304278b8e7cb5ad0ccec37",
            "value": " 1.04M/1.04M [00:00&lt;00:00, 2.11MB/s]"
          }
        },
        "9a6fae3b443a4da59baf691c9db9366b": {
          "model_module": "@jupyter-widgets/base",
          "model_name": "LayoutModel",
          "model_module_version": "1.2.0",
          "state": {
            "_model_module": "@jupyter-widgets/base",
            "_model_module_version": "1.2.0",
            "_model_name": "LayoutModel",
            "_view_count": null,
            "_view_module": "@jupyter-widgets/base",
            "_view_module_version": "1.2.0",
            "_view_name": "LayoutView",
            "align_content": null,
            "align_items": null,
            "align_self": null,
            "border": null,
            "bottom": null,
            "display": null,
            "flex": null,
            "flex_flow": null,
            "grid_area": null,
            "grid_auto_columns": null,
            "grid_auto_flow": null,
            "grid_auto_rows": null,
            "grid_column": null,
            "grid_gap": null,
            "grid_row": null,
            "grid_template_areas": null,
            "grid_template_columns": null,
            "grid_template_rows": null,
            "height": null,
            "justify_content": null,
            "justify_items": null,
            "left": null,
            "margin": null,
            "max_height": null,
            "max_width": null,
            "min_height": null,
            "min_width": null,
            "object_fit": null,
            "object_position": null,
            "order": null,
            "overflow": null,
            "overflow_x": null,
            "overflow_y": null,
            "padding": null,
            "right": null,
            "top": null,
            "visibility": null,
            "width": null
          }
        },
        "b9bfbad39cc94766a3ac12ded4f37a9f": {
          "model_module": "@jupyter-widgets/base",
          "model_name": "LayoutModel",
          "model_module_version": "1.2.0",
          "state": {
            "_model_module": "@jupyter-widgets/base",
            "_model_module_version": "1.2.0",
            "_model_name": "LayoutModel",
            "_view_count": null,
            "_view_module": "@jupyter-widgets/base",
            "_view_module_version": "1.2.0",
            "_view_name": "LayoutView",
            "align_content": null,
            "align_items": null,
            "align_self": null,
            "border": null,
            "bottom": null,
            "display": null,
            "flex": null,
            "flex_flow": null,
            "grid_area": null,
            "grid_auto_columns": null,
            "grid_auto_flow": null,
            "grid_auto_rows": null,
            "grid_column": null,
            "grid_gap": null,
            "grid_row": null,
            "grid_template_areas": null,
            "grid_template_columns": null,
            "grid_template_rows": null,
            "height": null,
            "justify_content": null,
            "justify_items": null,
            "left": null,
            "margin": null,
            "max_height": null,
            "max_width": null,
            "min_height": null,
            "min_width": null,
            "object_fit": null,
            "object_position": null,
            "order": null,
            "overflow": null,
            "overflow_x": null,
            "overflow_y": null,
            "padding": null,
            "right": null,
            "top": null,
            "visibility": null,
            "width": null
          }
        },
        "a6470166f64a41fc83723a8805c8ec51": {
          "model_module": "@jupyter-widgets/controls",
          "model_name": "DescriptionStyleModel",
          "model_module_version": "1.5.0",
          "state": {
            "_model_module": "@jupyter-widgets/controls",
            "_model_module_version": "1.5.0",
            "_model_name": "DescriptionStyleModel",
            "_view_count": null,
            "_view_module": "@jupyter-widgets/base",
            "_view_module_version": "1.2.0",
            "_view_name": "StyleView",
            "description_width": ""
          }
        },
        "2d324e493d9f436ea34c6b9b0b845487": {
          "model_module": "@jupyter-widgets/base",
          "model_name": "LayoutModel",
          "model_module_version": "1.2.0",
          "state": {
            "_model_module": "@jupyter-widgets/base",
            "_model_module_version": "1.2.0",
            "_model_name": "LayoutModel",
            "_view_count": null,
            "_view_module": "@jupyter-widgets/base",
            "_view_module_version": "1.2.0",
            "_view_name": "LayoutView",
            "align_content": null,
            "align_items": null,
            "align_self": null,
            "border": null,
            "bottom": null,
            "display": null,
            "flex": null,
            "flex_flow": null,
            "grid_area": null,
            "grid_auto_columns": null,
            "grid_auto_flow": null,
            "grid_auto_rows": null,
            "grid_column": null,
            "grid_gap": null,
            "grid_row": null,
            "grid_template_areas": null,
            "grid_template_columns": null,
            "grid_template_rows": null,
            "height": null,
            "justify_content": null,
            "justify_items": null,
            "left": null,
            "margin": null,
            "max_height": null,
            "max_width": null,
            "min_height": null,
            "min_width": null,
            "object_fit": null,
            "object_position": null,
            "order": null,
            "overflow": null,
            "overflow_x": null,
            "overflow_y": null,
            "padding": null,
            "right": null,
            "top": null,
            "visibility": null,
            "width": null
          }
        },
        "eadd95ab42174d4eaee773f2d5bd3961": {
          "model_module": "@jupyter-widgets/controls",
          "model_name": "ProgressStyleModel",
          "model_module_version": "1.5.0",
          "state": {
            "_model_module": "@jupyter-widgets/controls",
            "_model_module_version": "1.5.0",
            "_model_name": "ProgressStyleModel",
            "_view_count": null,
            "_view_module": "@jupyter-widgets/base",
            "_view_module_version": "1.2.0",
            "_view_name": "StyleView",
            "bar_color": null,
            "description_width": ""
          }
        },
        "15da06c1d670444f8830aa8d42334fe9": {
          "model_module": "@jupyter-widgets/base",
          "model_name": "LayoutModel",
          "model_module_version": "1.2.0",
          "state": {
            "_model_module": "@jupyter-widgets/base",
            "_model_module_version": "1.2.0",
            "_model_name": "LayoutModel",
            "_view_count": null,
            "_view_module": "@jupyter-widgets/base",
            "_view_module_version": "1.2.0",
            "_view_name": "LayoutView",
            "align_content": null,
            "align_items": null,
            "align_self": null,
            "border": null,
            "bottom": null,
            "display": null,
            "flex": null,
            "flex_flow": null,
            "grid_area": null,
            "grid_auto_columns": null,
            "grid_auto_flow": null,
            "grid_auto_rows": null,
            "grid_column": null,
            "grid_gap": null,
            "grid_row": null,
            "grid_template_areas": null,
            "grid_template_columns": null,
            "grid_template_rows": null,
            "height": null,
            "justify_content": null,
            "justify_items": null,
            "left": null,
            "margin": null,
            "max_height": null,
            "max_width": null,
            "min_height": null,
            "min_width": null,
            "object_fit": null,
            "object_position": null,
            "order": null,
            "overflow": null,
            "overflow_x": null,
            "overflow_y": null,
            "padding": null,
            "right": null,
            "top": null,
            "visibility": null,
            "width": null
          }
        },
        "bdde0a8db8304278b8e7cb5ad0ccec37": {
          "model_module": "@jupyter-widgets/controls",
          "model_name": "DescriptionStyleModel",
          "model_module_version": "1.5.0",
          "state": {
            "_model_module": "@jupyter-widgets/controls",
            "_model_module_version": "1.5.0",
            "_model_name": "DescriptionStyleModel",
            "_view_count": null,
            "_view_module": "@jupyter-widgets/base",
            "_view_module_version": "1.2.0",
            "_view_name": "StyleView",
            "description_width": ""
          }
        },
        "e3799da4e954411b9c30f52632f01798": {
          "model_module": "@jupyter-widgets/controls",
          "model_name": "HBoxModel",
          "model_module_version": "1.5.0",
          "state": {
            "_dom_classes": [],
            "_model_module": "@jupyter-widgets/controls",
            "_model_module_version": "1.5.0",
            "_model_name": "HBoxModel",
            "_view_count": null,
            "_view_module": "@jupyter-widgets/controls",
            "_view_module_version": "1.5.0",
            "_view_name": "HBoxView",
            "box_style": "",
            "children": [
              "IPY_MODEL_cee29caa2c4a43fdac3f518a16136104",
              "IPY_MODEL_3fa2dea082ec41a8b4de639d533e2651",
              "IPY_MODEL_717724b5a35446b58acdd97c48b279c6"
            ],
            "layout": "IPY_MODEL_2850c63999854224b9b29a042461f6bf"
          }
        },
        "cee29caa2c4a43fdac3f518a16136104": {
          "model_module": "@jupyter-widgets/controls",
          "model_name": "HTMLModel",
          "model_module_version": "1.5.0",
          "state": {
            "_dom_classes": [],
            "_model_module": "@jupyter-widgets/controls",
            "_model_module_version": "1.5.0",
            "_model_name": "HTMLModel",
            "_view_count": null,
            "_view_module": "@jupyter-widgets/controls",
            "_view_module_version": "1.5.0",
            "_view_name": "HTMLView",
            "description": "",
            "description_tooltip": null,
            "layout": "IPY_MODEL_37111994024941d392fb1b670a1bf7bb",
            "placeholder": "​",
            "style": "IPY_MODEL_27af2579cda345968c027180b542e5ea",
            "value": "Downloading (…)olve/main/merges.txt: 100%"
          }
        },
        "3fa2dea082ec41a8b4de639d533e2651": {
          "model_module": "@jupyter-widgets/controls",
          "model_name": "FloatProgressModel",
          "model_module_version": "1.5.0",
          "state": {
            "_dom_classes": [],
            "_model_module": "@jupyter-widgets/controls",
            "_model_module_version": "1.5.0",
            "_model_name": "FloatProgressModel",
            "_view_count": null,
            "_view_module": "@jupyter-widgets/controls",
            "_view_module_version": "1.5.0",
            "_view_name": "ProgressView",
            "bar_style": "success",
            "description": "",
            "description_tooltip": null,
            "layout": "IPY_MODEL_b93e5cc428bf424b8203ece203ee6727",
            "max": 456318,
            "min": 0,
            "orientation": "horizontal",
            "style": "IPY_MODEL_5b742d4189f54847a55139e7e8260e76",
            "value": 456318
          }
        },
        "717724b5a35446b58acdd97c48b279c6": {
          "model_module": "@jupyter-widgets/controls",
          "model_name": "HTMLModel",
          "model_module_version": "1.5.0",
          "state": {
            "_dom_classes": [],
            "_model_module": "@jupyter-widgets/controls",
            "_model_module_version": "1.5.0",
            "_model_name": "HTMLModel",
            "_view_count": null,
            "_view_module": "@jupyter-widgets/controls",
            "_view_module_version": "1.5.0",
            "_view_name": "HTMLView",
            "description": "",
            "description_tooltip": null,
            "layout": "IPY_MODEL_a882f52c39bd4fadaf25c10c60a2ef20",
            "placeholder": "​",
            "style": "IPY_MODEL_cd98435e863242c591ee6512e9e22a41",
            "value": " 456k/456k [00:00&lt;00:00, 590kB/s]"
          }
        },
        "2850c63999854224b9b29a042461f6bf": {
          "model_module": "@jupyter-widgets/base",
          "model_name": "LayoutModel",
          "model_module_version": "1.2.0",
          "state": {
            "_model_module": "@jupyter-widgets/base",
            "_model_module_version": "1.2.0",
            "_model_name": "LayoutModel",
            "_view_count": null,
            "_view_module": "@jupyter-widgets/base",
            "_view_module_version": "1.2.0",
            "_view_name": "LayoutView",
            "align_content": null,
            "align_items": null,
            "align_self": null,
            "border": null,
            "bottom": null,
            "display": null,
            "flex": null,
            "flex_flow": null,
            "grid_area": null,
            "grid_auto_columns": null,
            "grid_auto_flow": null,
            "grid_auto_rows": null,
            "grid_column": null,
            "grid_gap": null,
            "grid_row": null,
            "grid_template_areas": null,
            "grid_template_columns": null,
            "grid_template_rows": null,
            "height": null,
            "justify_content": null,
            "justify_items": null,
            "left": null,
            "margin": null,
            "max_height": null,
            "max_width": null,
            "min_height": null,
            "min_width": null,
            "object_fit": null,
            "object_position": null,
            "order": null,
            "overflow": null,
            "overflow_x": null,
            "overflow_y": null,
            "padding": null,
            "right": null,
            "top": null,
            "visibility": null,
            "width": null
          }
        },
        "37111994024941d392fb1b670a1bf7bb": {
          "model_module": "@jupyter-widgets/base",
          "model_name": "LayoutModel",
          "model_module_version": "1.2.0",
          "state": {
            "_model_module": "@jupyter-widgets/base",
            "_model_module_version": "1.2.0",
            "_model_name": "LayoutModel",
            "_view_count": null,
            "_view_module": "@jupyter-widgets/base",
            "_view_module_version": "1.2.0",
            "_view_name": "LayoutView",
            "align_content": null,
            "align_items": null,
            "align_self": null,
            "border": null,
            "bottom": null,
            "display": null,
            "flex": null,
            "flex_flow": null,
            "grid_area": null,
            "grid_auto_columns": null,
            "grid_auto_flow": null,
            "grid_auto_rows": null,
            "grid_column": null,
            "grid_gap": null,
            "grid_row": null,
            "grid_template_areas": null,
            "grid_template_columns": null,
            "grid_template_rows": null,
            "height": null,
            "justify_content": null,
            "justify_items": null,
            "left": null,
            "margin": null,
            "max_height": null,
            "max_width": null,
            "min_height": null,
            "min_width": null,
            "object_fit": null,
            "object_position": null,
            "order": null,
            "overflow": null,
            "overflow_x": null,
            "overflow_y": null,
            "padding": null,
            "right": null,
            "top": null,
            "visibility": null,
            "width": null
          }
        },
        "27af2579cda345968c027180b542e5ea": {
          "model_module": "@jupyter-widgets/controls",
          "model_name": "DescriptionStyleModel",
          "model_module_version": "1.5.0",
          "state": {
            "_model_module": "@jupyter-widgets/controls",
            "_model_module_version": "1.5.0",
            "_model_name": "DescriptionStyleModel",
            "_view_count": null,
            "_view_module": "@jupyter-widgets/base",
            "_view_module_version": "1.2.0",
            "_view_name": "StyleView",
            "description_width": ""
          }
        },
        "b93e5cc428bf424b8203ece203ee6727": {
          "model_module": "@jupyter-widgets/base",
          "model_name": "LayoutModel",
          "model_module_version": "1.2.0",
          "state": {
            "_model_module": "@jupyter-widgets/base",
            "_model_module_version": "1.2.0",
            "_model_name": "LayoutModel",
            "_view_count": null,
            "_view_module": "@jupyter-widgets/base",
            "_view_module_version": "1.2.0",
            "_view_name": "LayoutView",
            "align_content": null,
            "align_items": null,
            "align_self": null,
            "border": null,
            "bottom": null,
            "display": null,
            "flex": null,
            "flex_flow": null,
            "grid_area": null,
            "grid_auto_columns": null,
            "grid_auto_flow": null,
            "grid_auto_rows": null,
            "grid_column": null,
            "grid_gap": null,
            "grid_row": null,
            "grid_template_areas": null,
            "grid_template_columns": null,
            "grid_template_rows": null,
            "height": null,
            "justify_content": null,
            "justify_items": null,
            "left": null,
            "margin": null,
            "max_height": null,
            "max_width": null,
            "min_height": null,
            "min_width": null,
            "object_fit": null,
            "object_position": null,
            "order": null,
            "overflow": null,
            "overflow_x": null,
            "overflow_y": null,
            "padding": null,
            "right": null,
            "top": null,
            "visibility": null,
            "width": null
          }
        },
        "5b742d4189f54847a55139e7e8260e76": {
          "model_module": "@jupyter-widgets/controls",
          "model_name": "ProgressStyleModel",
          "model_module_version": "1.5.0",
          "state": {
            "_model_module": "@jupyter-widgets/controls",
            "_model_module_version": "1.5.0",
            "_model_name": "ProgressStyleModel",
            "_view_count": null,
            "_view_module": "@jupyter-widgets/base",
            "_view_module_version": "1.2.0",
            "_view_name": "StyleView",
            "bar_color": null,
            "description_width": ""
          }
        },
        "a882f52c39bd4fadaf25c10c60a2ef20": {
          "model_module": "@jupyter-widgets/base",
          "model_name": "LayoutModel",
          "model_module_version": "1.2.0",
          "state": {
            "_model_module": "@jupyter-widgets/base",
            "_model_module_version": "1.2.0",
            "_model_name": "LayoutModel",
            "_view_count": null,
            "_view_module": "@jupyter-widgets/base",
            "_view_module_version": "1.2.0",
            "_view_name": "LayoutView",
            "align_content": null,
            "align_items": null,
            "align_self": null,
            "border": null,
            "bottom": null,
            "display": null,
            "flex": null,
            "flex_flow": null,
            "grid_area": null,
            "grid_auto_columns": null,
            "grid_auto_flow": null,
            "grid_auto_rows": null,
            "grid_column": null,
            "grid_gap": null,
            "grid_row": null,
            "grid_template_areas": null,
            "grid_template_columns": null,
            "grid_template_rows": null,
            "height": null,
            "justify_content": null,
            "justify_items": null,
            "left": null,
            "margin": null,
            "max_height": null,
            "max_width": null,
            "min_height": null,
            "min_width": null,
            "object_fit": null,
            "object_position": null,
            "order": null,
            "overflow": null,
            "overflow_x": null,
            "overflow_y": null,
            "padding": null,
            "right": null,
            "top": null,
            "visibility": null,
            "width": null
          }
        },
        "cd98435e863242c591ee6512e9e22a41": {
          "model_module": "@jupyter-widgets/controls",
          "model_name": "DescriptionStyleModel",
          "model_module_version": "1.5.0",
          "state": {
            "_model_module": "@jupyter-widgets/controls",
            "_model_module_version": "1.5.0",
            "_model_name": "DescriptionStyleModel",
            "_view_count": null,
            "_view_module": "@jupyter-widgets/base",
            "_view_module_version": "1.2.0",
            "_view_name": "StyleView",
            "description_width": ""
          }
        },
        "f0645381de724a60a9a50977afcd7f6d": {
          "model_module": "@jupyter-widgets/controls",
          "model_name": "HBoxModel",
          "model_module_version": "1.5.0",
          "state": {
            "_dom_classes": [],
            "_model_module": "@jupyter-widgets/controls",
            "_model_module_version": "1.5.0",
            "_model_name": "HBoxModel",
            "_view_count": null,
            "_view_module": "@jupyter-widgets/controls",
            "_view_module_version": "1.5.0",
            "_view_name": "HBoxView",
            "box_style": "",
            "children": [
              "IPY_MODEL_e4440e8b3d2e4558b8df06934ab906e6",
              "IPY_MODEL_c2dce99ace5b42e9a4997af16bcb35d5",
              "IPY_MODEL_9874a1318ea34941aa4c4cc0fa2b203e"
            ],
            "layout": "IPY_MODEL_0c86119be3c24482b13e379b195b6090"
          }
        },
        "e4440e8b3d2e4558b8df06934ab906e6": {
          "model_module": "@jupyter-widgets/controls",
          "model_name": "HTMLModel",
          "model_module_version": "1.5.0",
          "state": {
            "_dom_classes": [],
            "_model_module": "@jupyter-widgets/controls",
            "_model_module_version": "1.5.0",
            "_model_name": "HTMLModel",
            "_view_count": null,
            "_view_module": "@jupyter-widgets/controls",
            "_view_module_version": "1.5.0",
            "_view_name": "HTMLView",
            "description": "",
            "description_tooltip": null,
            "layout": "IPY_MODEL_34b0079702fb479dba07ccb10fdeb57c",
            "placeholder": "​",
            "style": "IPY_MODEL_478df217e3d14ab5b038605cc2c86ac1",
            "value": "Downloading (…)/main/tokenizer.json: 100%"
          }
        },
        "c2dce99ace5b42e9a4997af16bcb35d5": {
          "model_module": "@jupyter-widgets/controls",
          "model_name": "FloatProgressModel",
          "model_module_version": "1.5.0",
          "state": {
            "_dom_classes": [],
            "_model_module": "@jupyter-widgets/controls",
            "_model_module_version": "1.5.0",
            "_model_name": "FloatProgressModel",
            "_view_count": null,
            "_view_module": "@jupyter-widgets/controls",
            "_view_module_version": "1.5.0",
            "_view_name": "ProgressView",
            "bar_style": "success",
            "description": "",
            "description_tooltip": null,
            "layout": "IPY_MODEL_bcbe12b40ad44acf8e7c73e41455c310",
            "max": 1355256,
            "min": 0,
            "orientation": "horizontal",
            "style": "IPY_MODEL_c86b6668f79545919c416d9e783b1583",
            "value": 1355256
          }
        },
        "9874a1318ea34941aa4c4cc0fa2b203e": {
          "model_module": "@jupyter-widgets/controls",
          "model_name": "HTMLModel",
          "model_module_version": "1.5.0",
          "state": {
            "_dom_classes": [],
            "_model_module": "@jupyter-widgets/controls",
            "_model_module_version": "1.5.0",
            "_model_name": "HTMLModel",
            "_view_count": null,
            "_view_module": "@jupyter-widgets/controls",
            "_view_module_version": "1.5.0",
            "_view_name": "HTMLView",
            "description": "",
            "description_tooltip": null,
            "layout": "IPY_MODEL_1a4d64d4c71947cb8f7333353ad8b5e3",
            "placeholder": "​",
            "style": "IPY_MODEL_7aba8abd90d044ab83264fe3fe691274",
            "value": " 1.36M/1.36M [00:00&lt;00:00, 54.9MB/s]"
          }
        },
        "0c86119be3c24482b13e379b195b6090": {
          "model_module": "@jupyter-widgets/base",
          "model_name": "LayoutModel",
          "model_module_version": "1.2.0",
          "state": {
            "_model_module": "@jupyter-widgets/base",
            "_model_module_version": "1.2.0",
            "_model_name": "LayoutModel",
            "_view_count": null,
            "_view_module": "@jupyter-widgets/base",
            "_view_module_version": "1.2.0",
            "_view_name": "LayoutView",
            "align_content": null,
            "align_items": null,
            "align_self": null,
            "border": null,
            "bottom": null,
            "display": null,
            "flex": null,
            "flex_flow": null,
            "grid_area": null,
            "grid_auto_columns": null,
            "grid_auto_flow": null,
            "grid_auto_rows": null,
            "grid_column": null,
            "grid_gap": null,
            "grid_row": null,
            "grid_template_areas": null,
            "grid_template_columns": null,
            "grid_template_rows": null,
            "height": null,
            "justify_content": null,
            "justify_items": null,
            "left": null,
            "margin": null,
            "max_height": null,
            "max_width": null,
            "min_height": null,
            "min_width": null,
            "object_fit": null,
            "object_position": null,
            "order": null,
            "overflow": null,
            "overflow_x": null,
            "overflow_y": null,
            "padding": null,
            "right": null,
            "top": null,
            "visibility": null,
            "width": null
          }
        },
        "34b0079702fb479dba07ccb10fdeb57c": {
          "model_module": "@jupyter-widgets/base",
          "model_name": "LayoutModel",
          "model_module_version": "1.2.0",
          "state": {
            "_model_module": "@jupyter-widgets/base",
            "_model_module_version": "1.2.0",
            "_model_name": "LayoutModel",
            "_view_count": null,
            "_view_module": "@jupyter-widgets/base",
            "_view_module_version": "1.2.0",
            "_view_name": "LayoutView",
            "align_content": null,
            "align_items": null,
            "align_self": null,
            "border": null,
            "bottom": null,
            "display": null,
            "flex": null,
            "flex_flow": null,
            "grid_area": null,
            "grid_auto_columns": null,
            "grid_auto_flow": null,
            "grid_auto_rows": null,
            "grid_column": null,
            "grid_gap": null,
            "grid_row": null,
            "grid_template_areas": null,
            "grid_template_columns": null,
            "grid_template_rows": null,
            "height": null,
            "justify_content": null,
            "justify_items": null,
            "left": null,
            "margin": null,
            "max_height": null,
            "max_width": null,
            "min_height": null,
            "min_width": null,
            "object_fit": null,
            "object_position": null,
            "order": null,
            "overflow": null,
            "overflow_x": null,
            "overflow_y": null,
            "padding": null,
            "right": null,
            "top": null,
            "visibility": null,
            "width": null
          }
        },
        "478df217e3d14ab5b038605cc2c86ac1": {
          "model_module": "@jupyter-widgets/controls",
          "model_name": "DescriptionStyleModel",
          "model_module_version": "1.5.0",
          "state": {
            "_model_module": "@jupyter-widgets/controls",
            "_model_module_version": "1.5.0",
            "_model_name": "DescriptionStyleModel",
            "_view_count": null,
            "_view_module": "@jupyter-widgets/base",
            "_view_module_version": "1.2.0",
            "_view_name": "StyleView",
            "description_width": ""
          }
        },
        "bcbe12b40ad44acf8e7c73e41455c310": {
          "model_module": "@jupyter-widgets/base",
          "model_name": "LayoutModel",
          "model_module_version": "1.2.0",
          "state": {
            "_model_module": "@jupyter-widgets/base",
            "_model_module_version": "1.2.0",
            "_model_name": "LayoutModel",
            "_view_count": null,
            "_view_module": "@jupyter-widgets/base",
            "_view_module_version": "1.2.0",
            "_view_name": "LayoutView",
            "align_content": null,
            "align_items": null,
            "align_self": null,
            "border": null,
            "bottom": null,
            "display": null,
            "flex": null,
            "flex_flow": null,
            "grid_area": null,
            "grid_auto_columns": null,
            "grid_auto_flow": null,
            "grid_auto_rows": null,
            "grid_column": null,
            "grid_gap": null,
            "grid_row": null,
            "grid_template_areas": null,
            "grid_template_columns": null,
            "grid_template_rows": null,
            "height": null,
            "justify_content": null,
            "justify_items": null,
            "left": null,
            "margin": null,
            "max_height": null,
            "max_width": null,
            "min_height": null,
            "min_width": null,
            "object_fit": null,
            "object_position": null,
            "order": null,
            "overflow": null,
            "overflow_x": null,
            "overflow_y": null,
            "padding": null,
            "right": null,
            "top": null,
            "visibility": null,
            "width": null
          }
        },
        "c86b6668f79545919c416d9e783b1583": {
          "model_module": "@jupyter-widgets/controls",
          "model_name": "ProgressStyleModel",
          "model_module_version": "1.5.0",
          "state": {
            "_model_module": "@jupyter-widgets/controls",
            "_model_module_version": "1.5.0",
            "_model_name": "ProgressStyleModel",
            "_view_count": null,
            "_view_module": "@jupyter-widgets/base",
            "_view_module_version": "1.2.0",
            "_view_name": "StyleView",
            "bar_color": null,
            "description_width": ""
          }
        },
        "1a4d64d4c71947cb8f7333353ad8b5e3": {
          "model_module": "@jupyter-widgets/base",
          "model_name": "LayoutModel",
          "model_module_version": "1.2.0",
          "state": {
            "_model_module": "@jupyter-widgets/base",
            "_model_module_version": "1.2.0",
            "_model_name": "LayoutModel",
            "_view_count": null,
            "_view_module": "@jupyter-widgets/base",
            "_view_module_version": "1.2.0",
            "_view_name": "LayoutView",
            "align_content": null,
            "align_items": null,
            "align_self": null,
            "border": null,
            "bottom": null,
            "display": null,
            "flex": null,
            "flex_flow": null,
            "grid_area": null,
            "grid_auto_columns": null,
            "grid_auto_flow": null,
            "grid_auto_rows": null,
            "grid_column": null,
            "grid_gap": null,
            "grid_row": null,
            "grid_template_areas": null,
            "grid_template_columns": null,
            "grid_template_rows": null,
            "height": null,
            "justify_content": null,
            "justify_items": null,
            "left": null,
            "margin": null,
            "max_height": null,
            "max_width": null,
            "min_height": null,
            "min_width": null,
            "object_fit": null,
            "object_position": null,
            "order": null,
            "overflow": null,
            "overflow_x": null,
            "overflow_y": null,
            "padding": null,
            "right": null,
            "top": null,
            "visibility": null,
            "width": null
          }
        },
        "7aba8abd90d044ab83264fe3fe691274": {
          "model_module": "@jupyter-widgets/controls",
          "model_name": "DescriptionStyleModel",
          "model_module_version": "1.5.0",
          "state": {
            "_model_module": "@jupyter-widgets/controls",
            "_model_module_version": "1.5.0",
            "_model_name": "DescriptionStyleModel",
            "_view_count": null,
            "_view_module": "@jupyter-widgets/base",
            "_view_module_version": "1.2.0",
            "_view_name": "StyleView",
            "description_width": ""
          }
        },
        "74b187077b704ce19b6a19808ea9af09": {
          "model_module": "@jupyter-widgets/controls",
          "model_name": "HBoxModel",
          "model_module_version": "1.5.0",
          "state": {
            "_dom_classes": [],
            "_model_module": "@jupyter-widgets/controls",
            "_model_module_version": "1.5.0",
            "_model_name": "HBoxModel",
            "_view_count": null,
            "_view_module": "@jupyter-widgets/controls",
            "_view_module_version": "1.5.0",
            "_view_name": "HBoxView",
            "box_style": "",
            "children": [
              "IPY_MODEL_34b583b0c66349f7885a9bcaba694aeb",
              "IPY_MODEL_3ee0e3dea8f44eb08dcaca5165b5da42",
              "IPY_MODEL_8d1ea1bbbd894f55a372b0ff184d0a0c"
            ],
            "layout": "IPY_MODEL_0851ebb691c34600b3046070ebc44fb4"
          }
        },
        "34b583b0c66349f7885a9bcaba694aeb": {
          "model_module": "@jupyter-widgets/controls",
          "model_name": "HTMLModel",
          "model_module_version": "1.5.0",
          "state": {
            "_dom_classes": [],
            "_model_module": "@jupyter-widgets/controls",
            "_model_module_version": "1.5.0",
            "_model_name": "HTMLModel",
            "_view_count": null,
            "_view_module": "@jupyter-widgets/controls",
            "_view_module_version": "1.5.0",
            "_view_name": "HTMLView",
            "description": "",
            "description_tooltip": null,
            "layout": "IPY_MODEL_e40be2828526470cb457e3a3b91f5f83",
            "placeholder": "​",
            "style": "IPY_MODEL_77e3c0ad3efd434bae3fd99f71007dfa",
            "value": "Downloading model.safetensors: 100%"
          }
        },
        "3ee0e3dea8f44eb08dcaca5165b5da42": {
          "model_module": "@jupyter-widgets/controls",
          "model_name": "FloatProgressModel",
          "model_module_version": "1.5.0",
          "state": {
            "_dom_classes": [],
            "_model_module": "@jupyter-widgets/controls",
            "_model_module_version": "1.5.0",
            "_model_name": "FloatProgressModel",
            "_view_count": null,
            "_view_module": "@jupyter-widgets/controls",
            "_view_module_version": "1.5.0",
            "_view_name": "ProgressView",
            "bar_style": "success",
            "description": "",
            "description_tooltip": null,
            "layout": "IPY_MODEL_0b78cbe98f6c4b22bbfa75a550f10f76",
            "max": 3247159078,
            "min": 0,
            "orientation": "horizontal",
            "style": "IPY_MODEL_ca1023c76aa7468888f1dc663a8e3342",
            "value": 3247159078
          }
        },
        "8d1ea1bbbd894f55a372b0ff184d0a0c": {
          "model_module": "@jupyter-widgets/controls",
          "model_name": "HTMLModel",
          "model_module_version": "1.5.0",
          "state": {
            "_dom_classes": [],
            "_model_module": "@jupyter-widgets/controls",
            "_model_module_version": "1.5.0",
            "_model_name": "HTMLModel",
            "_view_count": null,
            "_view_module": "@jupyter-widgets/controls",
            "_view_module_version": "1.5.0",
            "_view_name": "HTMLView",
            "description": "",
            "description_tooltip": null,
            "layout": "IPY_MODEL_0a9073bf3bfe468cb59d9734e0150073",
            "placeholder": "​",
            "style": "IPY_MODEL_b6e3cee301bb4bd289f5e7270e470a81",
            "value": " 3.25G/3.25G [00:09&lt;00:00, 359MB/s]"
          }
        },
        "0851ebb691c34600b3046070ebc44fb4": {
          "model_module": "@jupyter-widgets/base",
          "model_name": "LayoutModel",
          "model_module_version": "1.2.0",
          "state": {
            "_model_module": "@jupyter-widgets/base",
            "_model_module_version": "1.2.0",
            "_model_name": "LayoutModel",
            "_view_count": null,
            "_view_module": "@jupyter-widgets/base",
            "_view_module_version": "1.2.0",
            "_view_name": "LayoutView",
            "align_content": null,
            "align_items": null,
            "align_self": null,
            "border": null,
            "bottom": null,
            "display": null,
            "flex": null,
            "flex_flow": null,
            "grid_area": null,
            "grid_auto_columns": null,
            "grid_auto_flow": null,
            "grid_auto_rows": null,
            "grid_column": null,
            "grid_gap": null,
            "grid_row": null,
            "grid_template_areas": null,
            "grid_template_columns": null,
            "grid_template_rows": null,
            "height": null,
            "justify_content": null,
            "justify_items": null,
            "left": null,
            "margin": null,
            "max_height": null,
            "max_width": null,
            "min_height": null,
            "min_width": null,
            "object_fit": null,
            "object_position": null,
            "order": null,
            "overflow": null,
            "overflow_x": null,
            "overflow_y": null,
            "padding": null,
            "right": null,
            "top": null,
            "visibility": null,
            "width": null
          }
        },
        "e40be2828526470cb457e3a3b91f5f83": {
          "model_module": "@jupyter-widgets/base",
          "model_name": "LayoutModel",
          "model_module_version": "1.2.0",
          "state": {
            "_model_module": "@jupyter-widgets/base",
            "_model_module_version": "1.2.0",
            "_model_name": "LayoutModel",
            "_view_count": null,
            "_view_module": "@jupyter-widgets/base",
            "_view_module_version": "1.2.0",
            "_view_name": "LayoutView",
            "align_content": null,
            "align_items": null,
            "align_self": null,
            "border": null,
            "bottom": null,
            "display": null,
            "flex": null,
            "flex_flow": null,
            "grid_area": null,
            "grid_auto_columns": null,
            "grid_auto_flow": null,
            "grid_auto_rows": null,
            "grid_column": null,
            "grid_gap": null,
            "grid_row": null,
            "grid_template_areas": null,
            "grid_template_columns": null,
            "grid_template_rows": null,
            "height": null,
            "justify_content": null,
            "justify_items": null,
            "left": null,
            "margin": null,
            "max_height": null,
            "max_width": null,
            "min_height": null,
            "min_width": null,
            "object_fit": null,
            "object_position": null,
            "order": null,
            "overflow": null,
            "overflow_x": null,
            "overflow_y": null,
            "padding": null,
            "right": null,
            "top": null,
            "visibility": null,
            "width": null
          }
        },
        "77e3c0ad3efd434bae3fd99f71007dfa": {
          "model_module": "@jupyter-widgets/controls",
          "model_name": "DescriptionStyleModel",
          "model_module_version": "1.5.0",
          "state": {
            "_model_module": "@jupyter-widgets/controls",
            "_model_module_version": "1.5.0",
            "_model_name": "DescriptionStyleModel",
            "_view_count": null,
            "_view_module": "@jupyter-widgets/base",
            "_view_module_version": "1.2.0",
            "_view_name": "StyleView",
            "description_width": ""
          }
        },
        "0b78cbe98f6c4b22bbfa75a550f10f76": {
          "model_module": "@jupyter-widgets/base",
          "model_name": "LayoutModel",
          "model_module_version": "1.2.0",
          "state": {
            "_model_module": "@jupyter-widgets/base",
            "_model_module_version": "1.2.0",
            "_model_name": "LayoutModel",
            "_view_count": null,
            "_view_module": "@jupyter-widgets/base",
            "_view_module_version": "1.2.0",
            "_view_name": "LayoutView",
            "align_content": null,
            "align_items": null,
            "align_self": null,
            "border": null,
            "bottom": null,
            "display": null,
            "flex": null,
            "flex_flow": null,
            "grid_area": null,
            "grid_auto_columns": null,
            "grid_auto_flow": null,
            "grid_auto_rows": null,
            "grid_column": null,
            "grid_gap": null,
            "grid_row": null,
            "grid_template_areas": null,
            "grid_template_columns": null,
            "grid_template_rows": null,
            "height": null,
            "justify_content": null,
            "justify_items": null,
            "left": null,
            "margin": null,
            "max_height": null,
            "max_width": null,
            "min_height": null,
            "min_width": null,
            "object_fit": null,
            "object_position": null,
            "order": null,
            "overflow": null,
            "overflow_x": null,
            "overflow_y": null,
            "padding": null,
            "right": null,
            "top": null,
            "visibility": null,
            "width": null
          }
        },
        "ca1023c76aa7468888f1dc663a8e3342": {
          "model_module": "@jupyter-widgets/controls",
          "model_name": "ProgressStyleModel",
          "model_module_version": "1.5.0",
          "state": {
            "_model_module": "@jupyter-widgets/controls",
            "_model_module_version": "1.5.0",
            "_model_name": "ProgressStyleModel",
            "_view_count": null,
            "_view_module": "@jupyter-widgets/base",
            "_view_module_version": "1.2.0",
            "_view_name": "StyleView",
            "bar_color": null,
            "description_width": ""
          }
        },
        "0a9073bf3bfe468cb59d9734e0150073": {
          "model_module": "@jupyter-widgets/base",
          "model_name": "LayoutModel",
          "model_module_version": "1.2.0",
          "state": {
            "_model_module": "@jupyter-widgets/base",
            "_model_module_version": "1.2.0",
            "_model_name": "LayoutModel",
            "_view_count": null,
            "_view_module": "@jupyter-widgets/base",
            "_view_module_version": "1.2.0",
            "_view_name": "LayoutView",
            "align_content": null,
            "align_items": null,
            "align_self": null,
            "border": null,
            "bottom": null,
            "display": null,
            "flex": null,
            "flex_flow": null,
            "grid_area": null,
            "grid_auto_columns": null,
            "grid_auto_flow": null,
            "grid_auto_rows": null,
            "grid_column": null,
            "grid_gap": null,
            "grid_row": null,
            "grid_template_areas": null,
            "grid_template_columns": null,
            "grid_template_rows": null,
            "height": null,
            "justify_content": null,
            "justify_items": null,
            "left": null,
            "margin": null,
            "max_height": null,
            "max_width": null,
            "min_height": null,
            "min_width": null,
            "object_fit": null,
            "object_position": null,
            "order": null,
            "overflow": null,
            "overflow_x": null,
            "overflow_y": null,
            "padding": null,
            "right": null,
            "top": null,
            "visibility": null,
            "width": null
          }
        },
        "b6e3cee301bb4bd289f5e7270e470a81": {
          "model_module": "@jupyter-widgets/controls",
          "model_name": "DescriptionStyleModel",
          "model_module_version": "1.5.0",
          "state": {
            "_model_module": "@jupyter-widgets/controls",
            "_model_module_version": "1.5.0",
            "_model_name": "DescriptionStyleModel",
            "_view_count": null,
            "_view_module": "@jupyter-widgets/base",
            "_view_module_version": "1.2.0",
            "_view_name": "StyleView",
            "description_width": ""
          }
        },
        "aa8a819160b94ee182d585ba68dc41dd": {
          "model_module": "@jupyter-widgets/controls",
          "model_name": "HBoxModel",
          "model_module_version": "1.5.0",
          "state": {
            "_dom_classes": [],
            "_model_module": "@jupyter-widgets/controls",
            "_model_module_version": "1.5.0",
            "_model_name": "HBoxModel",
            "_view_count": null,
            "_view_module": "@jupyter-widgets/controls",
            "_view_module_version": "1.5.0",
            "_view_name": "HBoxView",
            "box_style": "",
            "children": [
              "IPY_MODEL_43fef42423134cae9a8970e8933785d2",
              "IPY_MODEL_ac6e1d456cd54ed99c6dc52f5a1a4691",
              "IPY_MODEL_640be81139b14a6197e568b3f8905d23"
            ],
            "layout": "IPY_MODEL_2e625af5700949ed9da27549a32995e4"
          }
        },
        "43fef42423134cae9a8970e8933785d2": {
          "model_module": "@jupyter-widgets/controls",
          "model_name": "HTMLModel",
          "model_module_version": "1.5.0",
          "state": {
            "_dom_classes": [],
            "_model_module": "@jupyter-widgets/controls",
            "_model_module_version": "1.5.0",
            "_model_name": "HTMLModel",
            "_view_count": null,
            "_view_module": "@jupyter-widgets/controls",
            "_view_module_version": "1.5.0",
            "_view_name": "HTMLView",
            "description": "",
            "description_tooltip": null,
            "layout": "IPY_MODEL_036bccd0e81d49d2bc28bc2516163829",
            "placeholder": "​",
            "style": "IPY_MODEL_fd725a47e1924dda9dc13bdfd4bad246",
            "value": "Downloading (…)neration_config.json: 100%"
          }
        },
        "ac6e1d456cd54ed99c6dc52f5a1a4691": {
          "model_module": "@jupyter-widgets/controls",
          "model_name": "FloatProgressModel",
          "model_module_version": "1.5.0",
          "state": {
            "_dom_classes": [],
            "_model_module": "@jupyter-widgets/controls",
            "_model_module_version": "1.5.0",
            "_model_name": "FloatProgressModel",
            "_view_count": null,
            "_view_module": "@jupyter-widgets/controls",
            "_view_module_version": "1.5.0",
            "_view_name": "ProgressView",
            "bar_style": "success",
            "description": "",
            "description_tooltip": null,
            "layout": "IPY_MODEL_a80d722981e24ffbbbd355b37af9bec5",
            "max": 124,
            "min": 0,
            "orientation": "horizontal",
            "style": "IPY_MODEL_b9a4edc6c8054c4590160bc4f7ab6ec3",
            "value": 124
          }
        },
        "640be81139b14a6197e568b3f8905d23": {
          "model_module": "@jupyter-widgets/controls",
          "model_name": "HTMLModel",
          "model_module_version": "1.5.0",
          "state": {
            "_dom_classes": [],
            "_model_module": "@jupyter-widgets/controls",
            "_model_module_version": "1.5.0",
            "_model_name": "HTMLModel",
            "_view_count": null,
            "_view_module": "@jupyter-widgets/controls",
            "_view_module_version": "1.5.0",
            "_view_name": "HTMLView",
            "description": "",
            "description_tooltip": null,
            "layout": "IPY_MODEL_f3b1dcd0b1324b07834113433dbd7c14",
            "placeholder": "​",
            "style": "IPY_MODEL_f50ec67556064fc6b4e0e6de426cb8ae",
            "value": " 124/124 [00:00&lt;00:00, 11.3kB/s]"
          }
        },
        "2e625af5700949ed9da27549a32995e4": {
          "model_module": "@jupyter-widgets/base",
          "model_name": "LayoutModel",
          "model_module_version": "1.2.0",
          "state": {
            "_model_module": "@jupyter-widgets/base",
            "_model_module_version": "1.2.0",
            "_model_name": "LayoutModel",
            "_view_count": null,
            "_view_module": "@jupyter-widgets/base",
            "_view_module_version": "1.2.0",
            "_view_name": "LayoutView",
            "align_content": null,
            "align_items": null,
            "align_self": null,
            "border": null,
            "bottom": null,
            "display": null,
            "flex": null,
            "flex_flow": null,
            "grid_area": null,
            "grid_auto_columns": null,
            "grid_auto_flow": null,
            "grid_auto_rows": null,
            "grid_column": null,
            "grid_gap": null,
            "grid_row": null,
            "grid_template_areas": null,
            "grid_template_columns": null,
            "grid_template_rows": null,
            "height": null,
            "justify_content": null,
            "justify_items": null,
            "left": null,
            "margin": null,
            "max_height": null,
            "max_width": null,
            "min_height": null,
            "min_width": null,
            "object_fit": null,
            "object_position": null,
            "order": null,
            "overflow": null,
            "overflow_x": null,
            "overflow_y": null,
            "padding": null,
            "right": null,
            "top": null,
            "visibility": null,
            "width": null
          }
        },
        "036bccd0e81d49d2bc28bc2516163829": {
          "model_module": "@jupyter-widgets/base",
          "model_name": "LayoutModel",
          "model_module_version": "1.2.0",
          "state": {
            "_model_module": "@jupyter-widgets/base",
            "_model_module_version": "1.2.0",
            "_model_name": "LayoutModel",
            "_view_count": null,
            "_view_module": "@jupyter-widgets/base",
            "_view_module_version": "1.2.0",
            "_view_name": "LayoutView",
            "align_content": null,
            "align_items": null,
            "align_self": null,
            "border": null,
            "bottom": null,
            "display": null,
            "flex": null,
            "flex_flow": null,
            "grid_area": null,
            "grid_auto_columns": null,
            "grid_auto_flow": null,
            "grid_auto_rows": null,
            "grid_column": null,
            "grid_gap": null,
            "grid_row": null,
            "grid_template_areas": null,
            "grid_template_columns": null,
            "grid_template_rows": null,
            "height": null,
            "justify_content": null,
            "justify_items": null,
            "left": null,
            "margin": null,
            "max_height": null,
            "max_width": null,
            "min_height": null,
            "min_width": null,
            "object_fit": null,
            "object_position": null,
            "order": null,
            "overflow": null,
            "overflow_x": null,
            "overflow_y": null,
            "padding": null,
            "right": null,
            "top": null,
            "visibility": null,
            "width": null
          }
        },
        "fd725a47e1924dda9dc13bdfd4bad246": {
          "model_module": "@jupyter-widgets/controls",
          "model_name": "DescriptionStyleModel",
          "model_module_version": "1.5.0",
          "state": {
            "_model_module": "@jupyter-widgets/controls",
            "_model_module_version": "1.5.0",
            "_model_name": "DescriptionStyleModel",
            "_view_count": null,
            "_view_module": "@jupyter-widgets/base",
            "_view_module_version": "1.2.0",
            "_view_name": "StyleView",
            "description_width": ""
          }
        },
        "a80d722981e24ffbbbd355b37af9bec5": {
          "model_module": "@jupyter-widgets/base",
          "model_name": "LayoutModel",
          "model_module_version": "1.2.0",
          "state": {
            "_model_module": "@jupyter-widgets/base",
            "_model_module_version": "1.2.0",
            "_model_name": "LayoutModel",
            "_view_count": null,
            "_view_module": "@jupyter-widgets/base",
            "_view_module_version": "1.2.0",
            "_view_name": "LayoutView",
            "align_content": null,
            "align_items": null,
            "align_self": null,
            "border": null,
            "bottom": null,
            "display": null,
            "flex": null,
            "flex_flow": null,
            "grid_area": null,
            "grid_auto_columns": null,
            "grid_auto_flow": null,
            "grid_auto_rows": null,
            "grid_column": null,
            "grid_gap": null,
            "grid_row": null,
            "grid_template_areas": null,
            "grid_template_columns": null,
            "grid_template_rows": null,
            "height": null,
            "justify_content": null,
            "justify_items": null,
            "left": null,
            "margin": null,
            "max_height": null,
            "max_width": null,
            "min_height": null,
            "min_width": null,
            "object_fit": null,
            "object_position": null,
            "order": null,
            "overflow": null,
            "overflow_x": null,
            "overflow_y": null,
            "padding": null,
            "right": null,
            "top": null,
            "visibility": null,
            "width": null
          }
        },
        "b9a4edc6c8054c4590160bc4f7ab6ec3": {
          "model_module": "@jupyter-widgets/controls",
          "model_name": "ProgressStyleModel",
          "model_module_version": "1.5.0",
          "state": {
            "_model_module": "@jupyter-widgets/controls",
            "_model_module_version": "1.5.0",
            "_model_name": "ProgressStyleModel",
            "_view_count": null,
            "_view_module": "@jupyter-widgets/base",
            "_view_module_version": "1.2.0",
            "_view_name": "StyleView",
            "bar_color": null,
            "description_width": ""
          }
        },
        "f3b1dcd0b1324b07834113433dbd7c14": {
          "model_module": "@jupyter-widgets/base",
          "model_name": "LayoutModel",
          "model_module_version": "1.2.0",
          "state": {
            "_model_module": "@jupyter-widgets/base",
            "_model_module_version": "1.2.0",
            "_model_name": "LayoutModel",
            "_view_count": null,
            "_view_module": "@jupyter-widgets/base",
            "_view_module_version": "1.2.0",
            "_view_name": "LayoutView",
            "align_content": null,
            "align_items": null,
            "align_self": null,
            "border": null,
            "bottom": null,
            "display": null,
            "flex": null,
            "flex_flow": null,
            "grid_area": null,
            "grid_auto_columns": null,
            "grid_auto_flow": null,
            "grid_auto_rows": null,
            "grid_column": null,
            "grid_gap": null,
            "grid_row": null,
            "grid_template_areas": null,
            "grid_template_columns": null,
            "grid_template_rows": null,
            "height": null,
            "justify_content": null,
            "justify_items": null,
            "left": null,
            "margin": null,
            "max_height": null,
            "max_width": null,
            "min_height": null,
            "min_width": null,
            "object_fit": null,
            "object_position": null,
            "order": null,
            "overflow": null,
            "overflow_x": null,
            "overflow_y": null,
            "padding": null,
            "right": null,
            "top": null,
            "visibility": null,
            "width": null
          }
        },
        "f50ec67556064fc6b4e0e6de426cb8ae": {
          "model_module": "@jupyter-widgets/controls",
          "model_name": "DescriptionStyleModel",
          "model_module_version": "1.5.0",
          "state": {
            "_model_module": "@jupyter-widgets/controls",
            "_model_module_version": "1.5.0",
            "_model_name": "DescriptionStyleModel",
            "_view_count": null,
            "_view_module": "@jupyter-widgets/base",
            "_view_module_version": "1.2.0",
            "_view_name": "StyleView",
            "description_width": ""
          }
        }
      }
    }
  },
  "cells": [
    {
      "cell_type": "code",
      "execution_count": null,
      "metadata": {
        "id": "u-ipF4B8WWqX"
      },
      "outputs": [],
      "source": [
        "# do_sample을 False로 설정한다면 Search (최대화 기법)으로 추론 진행\n",
        "# do_sample=True로 설정하면 Sampling 기법으로 추론 진행\n",
        "\n",
        "# num_return_sequence는 생성 문장들 가운데 몇 개를 결과로 받을 것인지 선택하는 것으로, num_return < num_beams 여야 함"
      ]
    },
    {
      "cell_type": "code",
      "source": [
        "# 문장을 decoding하는 데 사용되는 대표적인 알고리즘으로, 토큰의 시퀀스 출력 생성을 목표\n",
        "\n",
        "# GPT와 같은 decoder model 혹은 Seq2seq 모델의 decoder에서 사용\n",
        "# 생성 모델은 generate() 함수를 통해 다음 token을 생성"
      ],
      "metadata": {
        "id": "Ae1WVg1BWimu"
      },
      "execution_count": null,
      "outputs": []
    },
    {
      "cell_type": "code",
      "source": [
        "from google.colab import drive\n",
        "drive.mount('/content/drive')"
      ],
      "metadata": {
        "colab": {
          "base_uri": "https://localhost:8080/"
        },
        "id": "0nojigAf87-M",
        "outputId": "80ac168a-11f9-4120-f687-e79037a81ba4"
      },
      "execution_count": null,
      "outputs": [
        {
          "output_type": "stream",
          "name": "stdout",
          "text": [
            "Drive already mounted at /content/drive; to attempt to forcibly remount, call drive.mount(\"/content/drive\", force_remount=True).\n"
          ]
        }
      ]
    },
    {
      "cell_type": "code",
      "source": [
        "!git clone https://github.com/rickiepark/nlp-with-transformers.git\n",
        "%cd nlp-with-transformers\n",
        "from install import *\n",
        "install_requirements(chapter=5)"
      ],
      "metadata": {
        "id": "Zku38MT6W4sZ"
      },
      "execution_count": null,
      "outputs": []
    },
    {
      "cell_type": "markdown",
      "source": [
        "# Greedy search"
      ],
      "metadata": {
        "id": "Pyc6KQstW-9L"
      }
    },
    {
      "cell_type": "code",
      "source": [
        "import torch\n",
        "from transformers import AutoTokenizer, AutoModelForCausalLM\n",
        "import pandas as pd\n",
        "import numpy as np\n",
        "import torch.nn.functional as F\n",
        "import matplotlib.pyplot as plt\n",
        "\n",
        "torch.manual_seed(42);\n",
        "device = \"cuda\" if torch.cuda.is_available() else \"cpu\""
      ],
      "metadata": {
        "id": "Nzay8bsRW7pS"
      },
      "execution_count": null,
      "outputs": []
    },
    {
      "cell_type": "code",
      "source": [
        "model_name = \"gpt2-large\"\n",
        "\n",
        "tokenizer = AutoTokenizer.from_pretrained(model_name)\n",
        "model = AutoModelForCausalLM.from_pretrained(model_name).to(device)"
      ],
      "metadata": {
        "colab": {
          "base_uri": "https://localhost:8080/",
          "height": 209,
          "referenced_widgets": [
            "520d5a7d9a214edfaa0a4cfd76f3ecd6",
            "e6ad9620d32a411884d353fe76414381",
            "e7d2569a5d674aaea73b72d3f3243a5f",
            "8f4637efee7f47599b7096c47a0bb383",
            "9a81067d1112436ba950de5f63c9ec7c",
            "1773c1bd1ee4429fb2092acda746fa07",
            "5562c5d9f29c4698848921679270d63a",
            "291eaf0162c74912a7e42f037b5bd786",
            "a886c0905cab4f72ae1a4d27be33917c",
            "398335e25b2745369fca0c8ad40613ed",
            "daa77493250541ac87281f438b0b514d",
            "4d8ce215ed5f4b129a090d38bd98fed7",
            "97cffda1343f4c24aad76fc644fa4a49",
            "406c3bac2e384d1581098e4c6aa0c645",
            "9d476c0a3783418591efbd63881a0cd5",
            "9a6fae3b443a4da59baf691c9db9366b",
            "b9bfbad39cc94766a3ac12ded4f37a9f",
            "a6470166f64a41fc83723a8805c8ec51",
            "2d324e493d9f436ea34c6b9b0b845487",
            "eadd95ab42174d4eaee773f2d5bd3961",
            "15da06c1d670444f8830aa8d42334fe9",
            "bdde0a8db8304278b8e7cb5ad0ccec37",
            "e3799da4e954411b9c30f52632f01798",
            "cee29caa2c4a43fdac3f518a16136104",
            "3fa2dea082ec41a8b4de639d533e2651",
            "717724b5a35446b58acdd97c48b279c6",
            "2850c63999854224b9b29a042461f6bf",
            "37111994024941d392fb1b670a1bf7bb",
            "27af2579cda345968c027180b542e5ea",
            "b93e5cc428bf424b8203ece203ee6727",
            "5b742d4189f54847a55139e7e8260e76",
            "a882f52c39bd4fadaf25c10c60a2ef20",
            "cd98435e863242c591ee6512e9e22a41",
            "f0645381de724a60a9a50977afcd7f6d",
            "e4440e8b3d2e4558b8df06934ab906e6",
            "c2dce99ace5b42e9a4997af16bcb35d5",
            "9874a1318ea34941aa4c4cc0fa2b203e",
            "0c86119be3c24482b13e379b195b6090",
            "34b0079702fb479dba07ccb10fdeb57c",
            "478df217e3d14ab5b038605cc2c86ac1",
            "bcbe12b40ad44acf8e7c73e41455c310",
            "c86b6668f79545919c416d9e783b1583",
            "1a4d64d4c71947cb8f7333353ad8b5e3",
            "7aba8abd90d044ab83264fe3fe691274",
            "74b187077b704ce19b6a19808ea9af09",
            "34b583b0c66349f7885a9bcaba694aeb",
            "3ee0e3dea8f44eb08dcaca5165b5da42",
            "8d1ea1bbbd894f55a372b0ff184d0a0c",
            "0851ebb691c34600b3046070ebc44fb4",
            "e40be2828526470cb457e3a3b91f5f83",
            "77e3c0ad3efd434bae3fd99f71007dfa",
            "0b78cbe98f6c4b22bbfa75a550f10f76",
            "ca1023c76aa7468888f1dc663a8e3342",
            "0a9073bf3bfe468cb59d9734e0150073",
            "b6e3cee301bb4bd289f5e7270e470a81",
            "aa8a819160b94ee182d585ba68dc41dd",
            "43fef42423134cae9a8970e8933785d2",
            "ac6e1d456cd54ed99c6dc52f5a1a4691",
            "640be81139b14a6197e568b3f8905d23",
            "2e625af5700949ed9da27549a32995e4",
            "036bccd0e81d49d2bc28bc2516163829",
            "fd725a47e1924dda9dc13bdfd4bad246",
            "a80d722981e24ffbbbd355b37af9bec5",
            "b9a4edc6c8054c4590160bc4f7ab6ec3",
            "f3b1dcd0b1324b07834113433dbd7c14",
            "f50ec67556064fc6b4e0e6de426cb8ae"
          ]
        },
        "id": "QG11bfF9XCHz",
        "outputId": "ef046649-e8a5-4355-b7b6-bda1fcf68866"
      },
      "execution_count": null,
      "outputs": [
        {
          "output_type": "display_data",
          "data": {
            "text/plain": [
              "Downloading (…)lve/main/config.json:   0%|          | 0.00/666 [00:00<?, ?B/s]"
            ],
            "application/vnd.jupyter.widget-view+json": {
              "version_major": 2,
              "version_minor": 0,
              "model_id": "520d5a7d9a214edfaa0a4cfd76f3ecd6"
            }
          },
          "metadata": {}
        },
        {
          "output_type": "display_data",
          "data": {
            "text/plain": [
              "Downloading (…)olve/main/vocab.json:   0%|          | 0.00/1.04M [00:00<?, ?B/s]"
            ],
            "application/vnd.jupyter.widget-view+json": {
              "version_major": 2,
              "version_minor": 0,
              "model_id": "4d8ce215ed5f4b129a090d38bd98fed7"
            }
          },
          "metadata": {}
        },
        {
          "output_type": "display_data",
          "data": {
            "text/plain": [
              "Downloading (…)olve/main/merges.txt:   0%|          | 0.00/456k [00:00<?, ?B/s]"
            ],
            "application/vnd.jupyter.widget-view+json": {
              "version_major": 2,
              "version_minor": 0,
              "model_id": "e3799da4e954411b9c30f52632f01798"
            }
          },
          "metadata": {}
        },
        {
          "output_type": "display_data",
          "data": {
            "text/plain": [
              "Downloading (…)/main/tokenizer.json:   0%|          | 0.00/1.36M [00:00<?, ?B/s]"
            ],
            "application/vnd.jupyter.widget-view+json": {
              "version_major": 2,
              "version_minor": 0,
              "model_id": "f0645381de724a60a9a50977afcd7f6d"
            }
          },
          "metadata": {}
        },
        {
          "output_type": "display_data",
          "data": {
            "text/plain": [
              "Downloading model.safetensors:   0%|          | 0.00/3.25G [00:00<?, ?B/s]"
            ],
            "application/vnd.jupyter.widget-view+json": {
              "version_major": 2,
              "version_minor": 0,
              "model_id": "74b187077b704ce19b6a19808ea9af09"
            }
          },
          "metadata": {}
        },
        {
          "output_type": "display_data",
          "data": {
            "text/plain": [
              "Downloading (…)neration_config.json:   0%|          | 0.00/124 [00:00<?, ?B/s]"
            ],
            "application/vnd.jupyter.widget-view+json": {
              "version_major": 2,
              "version_minor": 0,
              "model_id": "aa8a819160b94ee182d585ba68dc41dd"
            }
          },
          "metadata": {}
        }
      ]
    },
    {
      "cell_type": "code",
      "source": [
        "input_txt = \"I enjoy walking with my cute dog\"\n",
        "input_ids = tokenizer(input_txt, return_tensors=\"pt\")[\"input_ids\"].to(device)\n",
        "iterations = []\n",
        "# 텍스트를 생성하기 위한 반복 (단계)의 수\n",
        "n_steps = 8\n",
        "# 상위 선택 항목을 몇 개 고려할 것인지\n",
        "choices_per_step = 5"
      ],
      "metadata": {
        "id": "UJbQuqMvXUcP"
      },
      "execution_count": null,
      "outputs": []
    },
    {
      "cell_type": "code",
      "source": [
        "with torch.no_grad():\n",
        "    for _ in range(n_steps):\n",
        "        iteration = dict()\n",
        "        iteration[\"Input\"] = tokenizer.decode(input_ids[0])\n",
        "        output = model(input_ids=input_ids)\n",
        "        next_token_logits = output.logits[0, -1, :]\n",
        "        next_token_probs = torch.softmax(next_token_logits, dim=-1)\n",
        "        sorted_ids = torch.argsort(next_token_probs, dim=-1, descending=True)\n",
        "\n",
        "        for choice_idx in range(choices_per_step):\n",
        "            token_id = sorted_ids[choice_idx]\n",
        "            token_prob = next_token_probs[token_id].cpu().numpy()\n",
        "            token_choice = (\n",
        "                f\"{tokenizer.decode(token_id)} ({100 * token_prob:.2f}%)\"\n",
        "            )\n",
        "            iteration[f\"Choice {choice_idx+1}\"] = token_choice\n",
        "        input_ids = torch.cat([input_ids, sorted_ids[None, 0, None]], dim=-1)\n",
        "        iterations.append(iteration)\n",
        "\n",
        "pd.DataFrame(iterations)"
      ],
      "metadata": {
        "colab": {
          "base_uri": "https://localhost:8080/",
          "height": 300
        },
        "id": "iBdTXq9dXi8a",
        "outputId": "70612eca-2988-456c-f5a7-d8f74aac555f"
      },
      "execution_count": null,
      "outputs": [
        {
          "output_type": "execute_result",
          "data": {
            "text/plain": [
              "                                               Input        Choice 1  \\\n",
              "0                   I enjoy walking with my cute dog      , (18.03%)   \n",
              "1                  I enjoy walking with my cute dog,     and (4.34%)   \n",
              "2              I enjoy walking with my cute dog, and      I (27.42%)   \n",
              "3            I enjoy walking with my cute dog, and I   love (17.41%)   \n",
              "4       I enjoy walking with my cute dog, and I love     to (13.92%)   \n",
              "5    I enjoy walking with my cute dog, and I love to      go (6.47%)   \n",
              "6  I enjoy walking with my cute dog, and I love t...    for (20.44%)   \n",
              "7  I enjoy walking with my cute dog, and I love t...      a (43.23%)   \n",
              "\n",
              "          Choice 2       Choice 3         Choice 4        Choice 5  \n",
              "0       . (12.05%)   and (10.12%)       on (4.16%)      in (3.35%)  \n",
              "1      but (3.91%)     so (1.31%)      who (1.30%)       L (0.97%)  \n",
              "2       it (4.73%)    the (3.15%)       he (2.86%)     she (2.71%)  \n",
              "3       'm (7.09%)   like (5.52%)    enjoy (5.39%)    have (4.65%)  \n",
              "4     the (11.27%)     my (3.58%)    being (3.34%)   going (3.30%)  \n",
              "5     read (5.43%)   walk (5.24%)     play (4.43%)     run (3.69%)  \n",
              "6      to (18.24%)    on (16.85%)   hiking (6.78%)     out (5.86%)  \n",
              "7   walks (31.43%)   long (5.03%)    hikes (3.70%)    runs (3.58%)  "
            ],
            "text/html": [
              "\n",
              "  <div id=\"df-5f5fccaf-e2f2-441a-af86-1bbb29008c61\" class=\"colab-df-container\">\n",
              "    <div>\n",
              "<style scoped>\n",
              "    .dataframe tbody tr th:only-of-type {\n",
              "        vertical-align: middle;\n",
              "    }\n",
              "\n",
              "    .dataframe tbody tr th {\n",
              "        vertical-align: top;\n",
              "    }\n",
              "\n",
              "    .dataframe thead th {\n",
              "        text-align: right;\n",
              "    }\n",
              "</style>\n",
              "<table border=\"1\" class=\"dataframe\">\n",
              "  <thead>\n",
              "    <tr style=\"text-align: right;\">\n",
              "      <th></th>\n",
              "      <th>Input</th>\n",
              "      <th>Choice 1</th>\n",
              "      <th>Choice 2</th>\n",
              "      <th>Choice 3</th>\n",
              "      <th>Choice 4</th>\n",
              "      <th>Choice 5</th>\n",
              "    </tr>\n",
              "  </thead>\n",
              "  <tbody>\n",
              "    <tr>\n",
              "      <th>0</th>\n",
              "      <td>I enjoy walking with my cute dog</td>\n",
              "      <td>, (18.03%)</td>\n",
              "      <td>. (12.05%)</td>\n",
              "      <td>and (10.12%)</td>\n",
              "      <td>on (4.16%)</td>\n",
              "      <td>in (3.35%)</td>\n",
              "    </tr>\n",
              "    <tr>\n",
              "      <th>1</th>\n",
              "      <td>I enjoy walking with my cute dog,</td>\n",
              "      <td>and (4.34%)</td>\n",
              "      <td>but (3.91%)</td>\n",
              "      <td>so (1.31%)</td>\n",
              "      <td>who (1.30%)</td>\n",
              "      <td>L (0.97%)</td>\n",
              "    </tr>\n",
              "    <tr>\n",
              "      <th>2</th>\n",
              "      <td>I enjoy walking with my cute dog, and</td>\n",
              "      <td>I (27.42%)</td>\n",
              "      <td>it (4.73%)</td>\n",
              "      <td>the (3.15%)</td>\n",
              "      <td>he (2.86%)</td>\n",
              "      <td>she (2.71%)</td>\n",
              "    </tr>\n",
              "    <tr>\n",
              "      <th>3</th>\n",
              "      <td>I enjoy walking with my cute dog, and I</td>\n",
              "      <td>love (17.41%)</td>\n",
              "      <td>'m (7.09%)</td>\n",
              "      <td>like (5.52%)</td>\n",
              "      <td>enjoy (5.39%)</td>\n",
              "      <td>have (4.65%)</td>\n",
              "    </tr>\n",
              "    <tr>\n",
              "      <th>4</th>\n",
              "      <td>I enjoy walking with my cute dog, and I love</td>\n",
              "      <td>to (13.92%)</td>\n",
              "      <td>the (11.27%)</td>\n",
              "      <td>my (3.58%)</td>\n",
              "      <td>being (3.34%)</td>\n",
              "      <td>going (3.30%)</td>\n",
              "    </tr>\n",
              "    <tr>\n",
              "      <th>5</th>\n",
              "      <td>I enjoy walking with my cute dog, and I love to</td>\n",
              "      <td>go (6.47%)</td>\n",
              "      <td>read (5.43%)</td>\n",
              "      <td>walk (5.24%)</td>\n",
              "      <td>play (4.43%)</td>\n",
              "      <td>run (3.69%)</td>\n",
              "    </tr>\n",
              "    <tr>\n",
              "      <th>6</th>\n",
              "      <td>I enjoy walking with my cute dog, and I love t...</td>\n",
              "      <td>for (20.44%)</td>\n",
              "      <td>to (18.24%)</td>\n",
              "      <td>on (16.85%)</td>\n",
              "      <td>hiking (6.78%)</td>\n",
              "      <td>out (5.86%)</td>\n",
              "    </tr>\n",
              "    <tr>\n",
              "      <th>7</th>\n",
              "      <td>I enjoy walking with my cute dog, and I love t...</td>\n",
              "      <td>a (43.23%)</td>\n",
              "      <td>walks (31.43%)</td>\n",
              "      <td>long (5.03%)</td>\n",
              "      <td>hikes (3.70%)</td>\n",
              "      <td>runs (3.58%)</td>\n",
              "    </tr>\n",
              "  </tbody>\n",
              "</table>\n",
              "</div>\n",
              "    <div class=\"colab-df-buttons\">\n",
              "\n",
              "  <div class=\"colab-df-container\">\n",
              "    <button class=\"colab-df-convert\" onclick=\"convertToInteractive('df-5f5fccaf-e2f2-441a-af86-1bbb29008c61')\"\n",
              "            title=\"Convert this dataframe to an interactive table.\"\n",
              "            style=\"display:none;\">\n",
              "\n",
              "  <svg xmlns=\"http://www.w3.org/2000/svg\" height=\"24px\" viewBox=\"0 -960 960 960\">\n",
              "    <path d=\"M120-120v-720h720v720H120Zm60-500h600v-160H180v160Zm220 220h160v-160H400v160Zm0 220h160v-160H400v160ZM180-400h160v-160H180v160Zm440 0h160v-160H620v160ZM180-180h160v-160H180v160Zm440 0h160v-160H620v160Z\"/>\n",
              "  </svg>\n",
              "    </button>\n",
              "\n",
              "  <style>\n",
              "    .colab-df-container {\n",
              "      display:flex;\n",
              "      gap: 12px;\n",
              "    }\n",
              "\n",
              "    .colab-df-convert {\n",
              "      background-color: #E8F0FE;\n",
              "      border: none;\n",
              "      border-radius: 50%;\n",
              "      cursor: pointer;\n",
              "      display: none;\n",
              "      fill: #1967D2;\n",
              "      height: 32px;\n",
              "      padding: 0 0 0 0;\n",
              "      width: 32px;\n",
              "    }\n",
              "\n",
              "    .colab-df-convert:hover {\n",
              "      background-color: #E2EBFA;\n",
              "      box-shadow: 0px 1px 2px rgba(60, 64, 67, 0.3), 0px 1px 3px 1px rgba(60, 64, 67, 0.15);\n",
              "      fill: #174EA6;\n",
              "    }\n",
              "\n",
              "    .colab-df-buttons div {\n",
              "      margin-bottom: 4px;\n",
              "    }\n",
              "\n",
              "    [theme=dark] .colab-df-convert {\n",
              "      background-color: #3B4455;\n",
              "      fill: #D2E3FC;\n",
              "    }\n",
              "\n",
              "    [theme=dark] .colab-df-convert:hover {\n",
              "      background-color: #434B5C;\n",
              "      box-shadow: 0px 1px 3px 1px rgba(0, 0, 0, 0.15);\n",
              "      filter: drop-shadow(0px 1px 2px rgba(0, 0, 0, 0.3));\n",
              "      fill: #FFFFFF;\n",
              "    }\n",
              "  </style>\n",
              "\n",
              "    <script>\n",
              "      const buttonEl =\n",
              "        document.querySelector('#df-5f5fccaf-e2f2-441a-af86-1bbb29008c61 button.colab-df-convert');\n",
              "      buttonEl.style.display =\n",
              "        google.colab.kernel.accessAllowed ? 'block' : 'none';\n",
              "\n",
              "      async function convertToInteractive(key) {\n",
              "        const element = document.querySelector('#df-5f5fccaf-e2f2-441a-af86-1bbb29008c61');\n",
              "        const dataTable =\n",
              "          await google.colab.kernel.invokeFunction('convertToInteractive',\n",
              "                                                    [key], {});\n",
              "        if (!dataTable) return;\n",
              "\n",
              "        const docLinkHtml = 'Like what you see? Visit the ' +\n",
              "          '<a target=\"_blank\" href=https://colab.research.google.com/notebooks/data_table.ipynb>data table notebook</a>'\n",
              "          + ' to learn more about interactive tables.';\n",
              "        element.innerHTML = '';\n",
              "        dataTable['output_type'] = 'display_data';\n",
              "        await google.colab.output.renderOutput(dataTable, element);\n",
              "        const docLink = document.createElement('div');\n",
              "        docLink.innerHTML = docLinkHtml;\n",
              "        element.appendChild(docLink);\n",
              "      }\n",
              "    </script>\n",
              "  </div>\n",
              "\n",
              "\n",
              "<div id=\"df-67a3ebe9-d7df-4865-8776-f7b556ea2647\">\n",
              "  <button class=\"colab-df-quickchart\" onclick=\"quickchart('df-67a3ebe9-d7df-4865-8776-f7b556ea2647')\"\n",
              "            title=\"Suggest charts.\"\n",
              "            style=\"display:none;\">\n",
              "\n",
              "<svg xmlns=\"http://www.w3.org/2000/svg\" height=\"24px\"viewBox=\"0 0 24 24\"\n",
              "     width=\"24px\">\n",
              "    <g>\n",
              "        <path d=\"M19 3H5c-1.1 0-2 .9-2 2v14c0 1.1.9 2 2 2h14c1.1 0 2-.9 2-2V5c0-1.1-.9-2-2-2zM9 17H7v-7h2v7zm4 0h-2V7h2v10zm4 0h-2v-4h2v4z\"/>\n",
              "    </g>\n",
              "</svg>\n",
              "  </button>\n",
              "\n",
              "<style>\n",
              "  .colab-df-quickchart {\n",
              "      --bg-color: #E8F0FE;\n",
              "      --fill-color: #1967D2;\n",
              "      --hover-bg-color: #E2EBFA;\n",
              "      --hover-fill-color: #174EA6;\n",
              "      --disabled-fill-color: #AAA;\n",
              "      --disabled-bg-color: #DDD;\n",
              "  }\n",
              "\n",
              "  [theme=dark] .colab-df-quickchart {\n",
              "      --bg-color: #3B4455;\n",
              "      --fill-color: #D2E3FC;\n",
              "      --hover-bg-color: #434B5C;\n",
              "      --hover-fill-color: #FFFFFF;\n",
              "      --disabled-bg-color: #3B4455;\n",
              "      --disabled-fill-color: #666;\n",
              "  }\n",
              "\n",
              "  .colab-df-quickchart {\n",
              "    background-color: var(--bg-color);\n",
              "    border: none;\n",
              "    border-radius: 50%;\n",
              "    cursor: pointer;\n",
              "    display: none;\n",
              "    fill: var(--fill-color);\n",
              "    height: 32px;\n",
              "    padding: 0;\n",
              "    width: 32px;\n",
              "  }\n",
              "\n",
              "  .colab-df-quickchart:hover {\n",
              "    background-color: var(--hover-bg-color);\n",
              "    box-shadow: 0 1px 2px rgba(60, 64, 67, 0.3), 0 1px 3px 1px rgba(60, 64, 67, 0.15);\n",
              "    fill: var(--button-hover-fill-color);\n",
              "  }\n",
              "\n",
              "  .colab-df-quickchart-complete:disabled,\n",
              "  .colab-df-quickchart-complete:disabled:hover {\n",
              "    background-color: var(--disabled-bg-color);\n",
              "    fill: var(--disabled-fill-color);\n",
              "    box-shadow: none;\n",
              "  }\n",
              "\n",
              "  .colab-df-spinner {\n",
              "    border: 2px solid var(--fill-color);\n",
              "    border-color: transparent;\n",
              "    border-bottom-color: var(--fill-color);\n",
              "    animation:\n",
              "      spin 1s steps(1) infinite;\n",
              "  }\n",
              "\n",
              "  @keyframes spin {\n",
              "    0% {\n",
              "      border-color: transparent;\n",
              "      border-bottom-color: var(--fill-color);\n",
              "      border-left-color: var(--fill-color);\n",
              "    }\n",
              "    20% {\n",
              "      border-color: transparent;\n",
              "      border-left-color: var(--fill-color);\n",
              "      border-top-color: var(--fill-color);\n",
              "    }\n",
              "    30% {\n",
              "      border-color: transparent;\n",
              "      border-left-color: var(--fill-color);\n",
              "      border-top-color: var(--fill-color);\n",
              "      border-right-color: var(--fill-color);\n",
              "    }\n",
              "    40% {\n",
              "      border-color: transparent;\n",
              "      border-right-color: var(--fill-color);\n",
              "      border-top-color: var(--fill-color);\n",
              "    }\n",
              "    60% {\n",
              "      border-color: transparent;\n",
              "      border-right-color: var(--fill-color);\n",
              "    }\n",
              "    80% {\n",
              "      border-color: transparent;\n",
              "      border-right-color: var(--fill-color);\n",
              "      border-bottom-color: var(--fill-color);\n",
              "    }\n",
              "    90% {\n",
              "      border-color: transparent;\n",
              "      border-bottom-color: var(--fill-color);\n",
              "    }\n",
              "  }\n",
              "</style>\n",
              "\n",
              "  <script>\n",
              "    async function quickchart(key) {\n",
              "      const quickchartButtonEl =\n",
              "        document.querySelector('#' + key + ' button');\n",
              "      quickchartButtonEl.disabled = true;  // To prevent multiple clicks.\n",
              "      quickchartButtonEl.classList.add('colab-df-spinner');\n",
              "      try {\n",
              "        const charts = await google.colab.kernel.invokeFunction(\n",
              "            'suggestCharts', [key], {});\n",
              "      } catch (error) {\n",
              "        console.error('Error during call to suggestCharts:', error);\n",
              "      }\n",
              "      quickchartButtonEl.classList.remove('colab-df-spinner');\n",
              "      quickchartButtonEl.classList.add('colab-df-quickchart-complete');\n",
              "    }\n",
              "    (() => {\n",
              "      let quickchartButtonEl =\n",
              "        document.querySelector('#df-67a3ebe9-d7df-4865-8776-f7b556ea2647 button');\n",
              "      quickchartButtonEl.style.display =\n",
              "        google.colab.kernel.accessAllowed ? 'block' : 'none';\n",
              "    })();\n",
              "  </script>\n",
              "</div>\n",
              "    </div>\n",
              "  </div>\n"
            ]
          },
          "metadata": {},
          "execution_count": 5
        }
      ]
    },
    {
      "cell_type": "code",
      "source": [
        "input_ids = tokenizer(input_txt, return_tensors=\"pt\")[\"input_ids\"].to(device)\n",
        "output = model.generate(input_ids, max_new_tokens=n_steps, do_sample=False)\n",
        "print(tokenizer.decode(output[0]))"
      ],
      "metadata": {
        "colab": {
          "base_uri": "https://localhost:8080/"
        },
        "id": "0r3bcaArXzO8",
        "outputId": "1824e6c8-469d-483a-862f-ea1dbee1a032"
      },
      "execution_count": null,
      "outputs": [
        {
          "output_type": "stream",
          "name": "stdout",
          "text": [
            "I enjoy walking with my cute dog, and I love to go for a\n"
          ]
        }
      ]
    },
    {
      "cell_type": "code",
      "source": [
        "max_length = 128\n",
        "input_txt = \"\"\"In a shocking finding, scientist discovered \\\n",
        "a herd of unicorns living in a remote, previously unexplored \\\n",
        "valley, in the Andes Mountains. Even more surprising to the \\\n",
        "researchers was the fact that the unicorns spoke perfect English.\\n\\n\n",
        "\"\"\"\n",
        "input_ids = tokenizer(input_txt, return_tensors=\"pt\")[\"input_ids\"].to(device)\n",
        "output_greedy = model.generate(input_ids, max_length=max_length,\n",
        "                               do_sample=False)\n",
        "print(tokenizer.decode(output_greedy[0]))"
      ],
      "metadata": {
        "colab": {
          "base_uri": "https://localhost:8080/"
        },
        "id": "l1adePL7X7Ef",
        "outputId": "ca8f4c87-b180-43c0-9812-c3ade056ae1e"
      },
      "execution_count": null,
      "outputs": [
        {
          "output_type": "stream",
          "name": "stdout",
          "text": [
            "In a shocking finding, scientist discovered a herd of unicorns living in a\n",
            "remote, previously unexplored valley, in the Andes Mountains. Even more\n",
            "surprising to the researchers was the fact that the unicorns spoke perfect\n",
            "English.\n",
            "\n",
            "\n",
            "The researchers, led by Dr. David R. Williams of the University of California,\n",
            "Santa Cruz, discovered the unicorns in the Andes Mountains of Peru. The area is\n",
            "known for its unique geology and is home to a number of rare species of animals.\n",
            "\n",
            "\n",
            "The researchers found the unicorns in the Andes Mountains of Peru. The area is\n",
            "known for its unique geology and is home\n"
          ]
        }
      ]
    },
    {
      "cell_type": "markdown",
      "source": [
        "# Beam Search"
      ],
      "metadata": {
        "id": "NEYbumqHYguc"
      }
    },
    {
      "cell_type": "code",
      "source": [
        "def log_probs_from_logits(logits, labels):\n",
        "    logp = F.log_softmax(logits, dim=-1)\n",
        "    logp_label = torch.gather(logp, 2, labels.unsqueeze(2)).squeeze(-1)\n",
        "    return logp_label"
      ],
      "metadata": {
        "id": "kdsP-mzkX-JT"
      },
      "execution_count": null,
      "outputs": []
    },
    {
      "cell_type": "code",
      "source": [
        "# 모델에서 생성된 토큰 시퀀스의 로그 확률을 계산\n",
        "\n",
        "def sequence_logprob(model, labels, input_len=0):\n",
        "    with torch.no_grad():\n",
        "        output = model(labels)\n",
        "        log_probs = log_probs_from_logits(\n",
        "            output.logits[:, :-1, :], labels[:, 1:])\n",
        "        seq_log_prob = torch.sum(log_probs[:, input_len:])\n",
        "    return seq_log_prob.cpu().numpy()"
      ],
      "metadata": {
        "id": "KiXpBj-tYm1A"
      },
      "execution_count": null,
      "outputs": []
    },
    {
      "cell_type": "code",
      "source": [
        "logp = sequence_logprob(model, output_greedy, input_len=len(input_ids[0]))\n",
        "print(tokenizer.decode(output_greedy[0]))\n",
        "print(f\"\\n로그 확률: {logp:.2f}\")"
      ],
      "metadata": {
        "colab": {
          "base_uri": "https://localhost:8080/"
        },
        "id": "mbCyGncEYqlP",
        "outputId": "78f8e6e5-3929-466a-db35-d90231475ed0"
      },
      "execution_count": null,
      "outputs": [
        {
          "output_type": "stream",
          "name": "stdout",
          "text": [
            "In a shocking finding, scientist discovered a herd of unicorns living in a\n",
            "remote, previously unexplored valley, in the Andes Mountains. Even more\n",
            "surprising to the researchers was the fact that the unicorns spoke perfect\n",
            "English.\n",
            "\n",
            "\n",
            "The researchers, led by Dr. David R. Williams of the University of California,\n",
            "Santa Cruz, discovered the unicorns in the Andes Mountains of Peru. The area is\n",
            "known for its unique geology and is home to a number of rare species of animals.\n",
            "\n",
            "\n",
            "The researchers found the unicorns in the Andes Mountains of Peru. The area is\n",
            "known for its unique geology and is home\n",
            "\n",
            "로그 확률: -86.50\n"
          ]
        }
      ]
    },
    {
      "cell_type": "code",
      "source": [
        "# num_beams = 5로 설정\n",
        "\n",
        "output_beam = model.generate(input_ids, max_length=max_length, num_beams=5,\n",
        "                             do_sample=False)\n",
        "logp = sequence_logprob(model, output_beam, input_len=len(input_ids[0]))\n",
        "print(tokenizer.decode(output_beam[0]))\n",
        "print(f\"\\n로그 확률: {logp:.2f}\")"
      ],
      "metadata": {
        "colab": {
          "base_uri": "https://localhost:8080/"
        },
        "id": "2rZJU0bxYyh4",
        "outputId": "7e3b16ae-dada-4cd3-be19-5e85653a23fb"
      },
      "execution_count": null,
      "outputs": [
        {
          "output_type": "stream",
          "name": "stdout",
          "text": [
            "In a shocking finding, scientist discovered a herd of unicorns living in a\n",
            "remote, previously unexplored valley, in the Andes Mountains. Even more\n",
            "surprising to the researchers was the fact that the unicorns spoke perfect\n",
            "English.\n",
            "\n",
            "\n",
            "The discovery was made by a team of researchers from the University of\n",
            "California, Santa Cruz, and the University of California, Santa Cruz, and\n",
            "published in the Journal of Mammalogy.\n",
            "\n",
            "\n",
            "The team, led by Dr. David Hone of the University of California, Santa Cruz,\n",
            "discovered a herd of unicorns living in a remote, previously unexplored valley,\n",
            "in the Andes Mountains.\n",
            "\n",
            "\n",
            "\n",
            "\n",
            "로그 확률: -65.20\n"
          ]
        }
      ]
    },
    {
      "cell_type": "code",
      "source": [
        "# n-grams 패널티를 통해 이미 나타난 n-gram에 대해 다음 단어로 생성될 확률을 0으로 설정하여 두 번 나타나지 않도록 함\n",
        "# no_repeat_ngram_size=2이므로 2-gram이 두 번 나타나는 것을 방지\n",
        "\n",
        "output_beam = model.generate(input_ids, max_length=max_length, num_beams=5,\n",
        "                             do_sample=False, no_repeat_ngram_size=2)\n",
        "logp = sequence_logprob(model, output_beam, input_len=len(input_ids[0]))\n",
        "print(tokenizer.decode(output_beam[0]))\n",
        "print(f\"\\n로그 확률: {logp:.2f}\")"
      ],
      "metadata": {
        "colab": {
          "base_uri": "https://localhost:8080/"
        },
        "id": "IRofVJ_oZBd-",
        "outputId": "e11ee575-e517-4af3-9d09-f51e4ef1087f"
      },
      "execution_count": null,
      "outputs": [
        {
          "output_type": "stream",
          "name": "stdout",
          "text": [
            "In a shocking finding, scientist discovered a herd of unicorns living in a\n",
            "remote, previously unexplored valley, in the Andes Mountains. Even more\n",
            "surprising to the researchers was the fact that the unicorns spoke perfect\n",
            "English.\n",
            "\n",
            "\n",
            "The discovery was made by a team of researchers from the University of\n",
            "California, Santa Cruz, and the National Geographic Society. The team was led by\n",
            "Dr. Richard Wrangham, a professor of ecology and evolutionary biology at UCSC.\n",
            "\n",
            "\"We've known for a long time that there are animals that live in remote areas of\n",
            "the world, but this is the first time we've been able\n",
            "\n",
            "로그 확률: -79.02\n"
          ]
        }
      ]
    },
    {
      "cell_type": "markdown",
      "source": [
        "# Sampling"
      ],
      "metadata": {
        "id": "imGnR4P6ZWe3"
      }
    },
    {
      "cell_type": "code",
      "source": [
        "def softmax(logits, T=1):\n",
        "    e_x = np.exp(logits / T)\n",
        "    return e_x / e_x.sum()\n",
        "\n",
        "logits = np.exp(np.random.random(1000))\n",
        "sorted_logits = np.sort(logits)[::-1]\n",
        "x = np.arange(1000)\n",
        "\n",
        "for T in [0.5, 1.0, 2.0]:\n",
        "    plt.step(x, softmax(sorted_logits, T), label=f\"T={T}\")\n",
        "plt.legend(loc=\"best\")\n",
        "plt.xlabel(\"Sorted token probabilities\")\n",
        "plt.ylabel(\"Probability\")\n",
        "plt.show()"
      ],
      "metadata": {
        "colab": {
          "base_uri": "https://localhost:8080/",
          "height": 380
        },
        "id": "OeHgFi4JZU-H",
        "outputId": "937d1ec8-92a9-4664-fc9c-3c3c4202c13e"
      },
      "execution_count": null,
      "outputs": [
        {
          "output_type": "display_data",
          "data": {
            "text/plain": [
              "<Figure size 600x400 with 1 Axes>"
            ],
            "image/svg+xml": "<?xml version=\"1.0\" encoding=\"utf-8\" standalone=\"no\"?>\n<!DOCTYPE svg PUBLIC \"-//W3C//DTD SVG 1.1//EN\"\n  \"http://www.w3.org/Graphics/SVG/1.1/DTD/svg11.dtd\">\n<svg xmlns:xlink=\"http://www.w3.org/1999/xlink\" width=\"406.523986pt\" height=\"270.3875pt\" viewBox=\"0 0 406.523986 270.3875\" xmlns=\"http://www.w3.org/2000/svg\" version=\"1.1\">\n <metadata>\n  <rdf:RDF xmlns:dc=\"http://purl.org/dc/elements/1.1/\" xmlns:cc=\"http://creativecommons.org/ns#\" xmlns:rdf=\"http://www.w3.org/1999/02/22-rdf-syntax-ns#\">\n   <cc:Work>\n    <dc:type rdf:resource=\"http://purl.org/dc/dcmitype/StillImage\"/>\n    <dc:date>2023-09-01T13:28:26.754145</dc:date>\n    <dc:format>image/svg+xml</dc:format>\n    <dc:creator>\n     <cc:Agent>\n      <dc:title>Matplotlib v3.7.1, https://matplotlib.org/</dc:title>\n     </cc:Agent>\n    </dc:creator>\n   </cc:Work>\n  </rdf:RDF>\n </metadata>\n <defs>\n  <style type=\"text/css\">*{stroke-linejoin: round; stroke-linecap: butt}</style>\n </defs>\n <g id=\"figure_1\">\n  <g id=\"patch_1\">\n   <path d=\"M 0 270.3875 \nL 406.523986 270.3875 \nL 406.523986 0 \nL 0 0 \nz\n\" style=\"fill: #ffffff\"/>\n  </g>\n  <g id=\"axes_1\">\n   <g id=\"patch_2\">\n    <path d=\"M 64.1675 228.96 \nL 398.9675 228.96 \nL 398.9675 7.2 \nL 64.1675 7.2 \nz\n\" style=\"fill: #ffffff\"/>\n   </g>\n   <g id=\"matplotlib.axis_1\">\n    <g id=\"xtick_1\">\n     <g id=\"line2d_1\">\n      <defs>\n       <path id=\"mb912a6a1ee\" d=\"M 0 0 \nL 0 3.5 \n\" style=\"stroke: #000000; stroke-width: 0.8\"/>\n      </defs>\n      <g>\n       <use xlink:href=\"#mb912a6a1ee\" x=\"79.385682\" y=\"228.96\" style=\"stroke: #000000; stroke-width: 0.8\"/>\n      </g>\n     </g>\n     <g id=\"text_1\">\n      <!-- 0 -->\n      <g transform=\"translate(75.568182 245.078125) scale(0.12 -0.12)\">\n       <defs>\n        <path id=\"DejaVuSans-30\" d=\"M 2034 4250 \nQ 1547 4250 1301 3770 \nQ 1056 3291 1056 2328 \nQ 1056 1369 1301 889 \nQ 1547 409 2034 409 \nQ 2525 409 2770 889 \nQ 3016 1369 3016 2328 \nQ 3016 3291 2770 3770 \nQ 2525 4250 2034 4250 \nz\nM 2034 4750 \nQ 2819 4750 3233 4129 \nQ 3647 3509 3647 2328 \nQ 3647 1150 3233 529 \nQ 2819 -91 2034 -91 \nQ 1250 -91 836 529 \nQ 422 1150 422 2328 \nQ 422 3509 836 4129 \nQ 1250 4750 2034 4750 \nz\n\" transform=\"scale(0.015625)\"/>\n       </defs>\n       <use xlink:href=\"#DejaVuSans-30\"/>\n      </g>\n     </g>\n    </g>\n    <g id=\"xtick_2\">\n     <g id=\"line2d_2\">\n      <g>\n       <use xlink:href=\"#mb912a6a1ee\" x=\"140.319343\" y=\"228.96\" style=\"stroke: #000000; stroke-width: 0.8\"/>\n      </g>\n     </g>\n     <g id=\"text_2\">\n      <!-- 200 -->\n      <g transform=\"translate(128.866843 245.078125) scale(0.12 -0.12)\">\n       <defs>\n        <path id=\"DejaVuSans-32\" d=\"M 1228 531 \nL 3431 531 \nL 3431 0 \nL 469 0 \nL 469 531 \nQ 828 903 1448 1529 \nQ 2069 2156 2228 2338 \nQ 2531 2678 2651 2914 \nQ 2772 3150 2772 3378 \nQ 2772 3750 2511 3984 \nQ 2250 4219 1831 4219 \nQ 1534 4219 1204 4116 \nQ 875 4013 500 3803 \nL 500 4441 \nQ 881 4594 1212 4672 \nQ 1544 4750 1819 4750 \nQ 2544 4750 2975 4387 \nQ 3406 4025 3406 3419 \nQ 3406 3131 3298 2873 \nQ 3191 2616 2906 2266 \nQ 2828 2175 2409 1742 \nQ 1991 1309 1228 531 \nz\n\" transform=\"scale(0.015625)\"/>\n       </defs>\n       <use xlink:href=\"#DejaVuSans-32\"/>\n       <use xlink:href=\"#DejaVuSans-30\" x=\"63.623047\"/>\n       <use xlink:href=\"#DejaVuSans-30\" x=\"127.246094\"/>\n      </g>\n     </g>\n    </g>\n    <g id=\"xtick_3\">\n     <g id=\"line2d_3\">\n      <g>\n       <use xlink:href=\"#mb912a6a1ee\" x=\"201.253004\" y=\"228.96\" style=\"stroke: #000000; stroke-width: 0.8\"/>\n      </g>\n     </g>\n     <g id=\"text_3\">\n      <!-- 400 -->\n      <g transform=\"translate(189.800504 245.078125) scale(0.12 -0.12)\">\n       <defs>\n        <path id=\"DejaVuSans-34\" d=\"M 2419 4116 \nL 825 1625 \nL 2419 1625 \nL 2419 4116 \nz\nM 2253 4666 \nL 3047 4666 \nL 3047 1625 \nL 3713 1625 \nL 3713 1100 \nL 3047 1100 \nL 3047 0 \nL 2419 0 \nL 2419 1100 \nL 313 1100 \nL 313 1709 \nL 2253 4666 \nz\n\" transform=\"scale(0.015625)\"/>\n       </defs>\n       <use xlink:href=\"#DejaVuSans-34\"/>\n       <use xlink:href=\"#DejaVuSans-30\" x=\"63.623047\"/>\n       <use xlink:href=\"#DejaVuSans-30\" x=\"127.246094\"/>\n      </g>\n     </g>\n    </g>\n    <g id=\"xtick_4\">\n     <g id=\"line2d_4\">\n      <g>\n       <use xlink:href=\"#mb912a6a1ee\" x=\"262.186665\" y=\"228.96\" style=\"stroke: #000000; stroke-width: 0.8\"/>\n      </g>\n     </g>\n     <g id=\"text_4\">\n      <!-- 600 -->\n      <g transform=\"translate(250.734165 245.078125) scale(0.12 -0.12)\">\n       <defs>\n        <path id=\"DejaVuSans-36\" d=\"M 2113 2584 \nQ 1688 2584 1439 2293 \nQ 1191 2003 1191 1497 \nQ 1191 994 1439 701 \nQ 1688 409 2113 409 \nQ 2538 409 2786 701 \nQ 3034 994 3034 1497 \nQ 3034 2003 2786 2293 \nQ 2538 2584 2113 2584 \nz\nM 3366 4563 \nL 3366 3988 \nQ 3128 4100 2886 4159 \nQ 2644 4219 2406 4219 \nQ 1781 4219 1451 3797 \nQ 1122 3375 1075 2522 \nQ 1259 2794 1537 2939 \nQ 1816 3084 2150 3084 \nQ 2853 3084 3261 2657 \nQ 3669 2231 3669 1497 \nQ 3669 778 3244 343 \nQ 2819 -91 2113 -91 \nQ 1303 -91 875 529 \nQ 447 1150 447 2328 \nQ 447 3434 972 4092 \nQ 1497 4750 2381 4750 \nQ 2619 4750 2861 4703 \nQ 3103 4656 3366 4563 \nz\n\" transform=\"scale(0.015625)\"/>\n       </defs>\n       <use xlink:href=\"#DejaVuSans-36\"/>\n       <use xlink:href=\"#DejaVuSans-30\" x=\"63.623047\"/>\n       <use xlink:href=\"#DejaVuSans-30\" x=\"127.246094\"/>\n      </g>\n     </g>\n    </g>\n    <g id=\"xtick_5\">\n     <g id=\"line2d_5\">\n      <g>\n       <use xlink:href=\"#mb912a6a1ee\" x=\"323.120326\" y=\"228.96\" style=\"stroke: #000000; stroke-width: 0.8\"/>\n      </g>\n     </g>\n     <g id=\"text_5\">\n      <!-- 800 -->\n      <g transform=\"translate(311.667826 245.078125) scale(0.12 -0.12)\">\n       <defs>\n        <path id=\"DejaVuSans-38\" d=\"M 2034 2216 \nQ 1584 2216 1326 1975 \nQ 1069 1734 1069 1313 \nQ 1069 891 1326 650 \nQ 1584 409 2034 409 \nQ 2484 409 2743 651 \nQ 3003 894 3003 1313 \nQ 3003 1734 2745 1975 \nQ 2488 2216 2034 2216 \nz\nM 1403 2484 \nQ 997 2584 770 2862 \nQ 544 3141 544 3541 \nQ 544 4100 942 4425 \nQ 1341 4750 2034 4750 \nQ 2731 4750 3128 4425 \nQ 3525 4100 3525 3541 \nQ 3525 3141 3298 2862 \nQ 3072 2584 2669 2484 \nQ 3125 2378 3379 2068 \nQ 3634 1759 3634 1313 \nQ 3634 634 3220 271 \nQ 2806 -91 2034 -91 \nQ 1263 -91 848 271 \nQ 434 634 434 1313 \nQ 434 1759 690 2068 \nQ 947 2378 1403 2484 \nz\nM 1172 3481 \nQ 1172 3119 1398 2916 \nQ 1625 2713 2034 2713 \nQ 2441 2713 2670 2916 \nQ 2900 3119 2900 3481 \nQ 2900 3844 2670 4047 \nQ 2441 4250 2034 4250 \nQ 1625 4250 1398 4047 \nQ 1172 3844 1172 3481 \nz\n\" transform=\"scale(0.015625)\"/>\n       </defs>\n       <use xlink:href=\"#DejaVuSans-38\"/>\n       <use xlink:href=\"#DejaVuSans-30\" x=\"63.623047\"/>\n       <use xlink:href=\"#DejaVuSans-30\" x=\"127.246094\"/>\n      </g>\n     </g>\n    </g>\n    <g id=\"xtick_6\">\n     <g id=\"line2d_6\">\n      <g>\n       <use xlink:href=\"#mb912a6a1ee\" x=\"384.053986\" y=\"228.96\" style=\"stroke: #000000; stroke-width: 0.8\"/>\n      </g>\n     </g>\n     <g id=\"text_6\">\n      <!-- 1000 -->\n      <g transform=\"translate(368.783986 245.078125) scale(0.12 -0.12)\">\n       <defs>\n        <path id=\"DejaVuSans-31\" d=\"M 794 531 \nL 1825 531 \nL 1825 4091 \nL 703 3866 \nL 703 4441 \nL 1819 4666 \nL 2450 4666 \nL 2450 531 \nL 3481 531 \nL 3481 0 \nL 794 0 \nL 794 531 \nz\n\" transform=\"scale(0.015625)\"/>\n       </defs>\n       <use xlink:href=\"#DejaVuSans-31\"/>\n       <use xlink:href=\"#DejaVuSans-30\" x=\"63.623047\"/>\n       <use xlink:href=\"#DejaVuSans-30\" x=\"127.246094\"/>\n       <use xlink:href=\"#DejaVuSans-30\" x=\"190.869141\"/>\n      </g>\n     </g>\n    </g>\n    <g id=\"text_7\">\n     <!-- Sorted token probabilities -->\n     <g transform=\"translate(154.235 260.691875) scale(0.12 -0.12)\">\n      <defs>\n       <path id=\"DejaVuSans-53\" d=\"M 3425 4513 \nL 3425 3897 \nQ 3066 4069 2747 4153 \nQ 2428 4238 2131 4238 \nQ 1616 4238 1336 4038 \nQ 1056 3838 1056 3469 \nQ 1056 3159 1242 3001 \nQ 1428 2844 1947 2747 \nL 2328 2669 \nQ 3034 2534 3370 2195 \nQ 3706 1856 3706 1288 \nQ 3706 609 3251 259 \nQ 2797 -91 1919 -91 \nQ 1588 -91 1214 -16 \nQ 841 59 441 206 \nL 441 856 \nQ 825 641 1194 531 \nQ 1563 422 1919 422 \nQ 2459 422 2753 634 \nQ 3047 847 3047 1241 \nQ 3047 1584 2836 1778 \nQ 2625 1972 2144 2069 \nL 1759 2144 \nQ 1053 2284 737 2584 \nQ 422 2884 422 3419 \nQ 422 4038 858 4394 \nQ 1294 4750 2059 4750 \nQ 2388 4750 2728 4690 \nQ 3069 4631 3425 4513 \nz\n\" transform=\"scale(0.015625)\"/>\n       <path id=\"DejaVuSans-6f\" d=\"M 1959 3097 \nQ 1497 3097 1228 2736 \nQ 959 2375 959 1747 \nQ 959 1119 1226 758 \nQ 1494 397 1959 397 \nQ 2419 397 2687 759 \nQ 2956 1122 2956 1747 \nQ 2956 2369 2687 2733 \nQ 2419 3097 1959 3097 \nz\nM 1959 3584 \nQ 2709 3584 3137 3096 \nQ 3566 2609 3566 1747 \nQ 3566 888 3137 398 \nQ 2709 -91 1959 -91 \nQ 1206 -91 779 398 \nQ 353 888 353 1747 \nQ 353 2609 779 3096 \nQ 1206 3584 1959 3584 \nz\n\" transform=\"scale(0.015625)\"/>\n       <path id=\"DejaVuSans-72\" d=\"M 2631 2963 \nQ 2534 3019 2420 3045 \nQ 2306 3072 2169 3072 \nQ 1681 3072 1420 2755 \nQ 1159 2438 1159 1844 \nL 1159 0 \nL 581 0 \nL 581 3500 \nL 1159 3500 \nL 1159 2956 \nQ 1341 3275 1631 3429 \nQ 1922 3584 2338 3584 \nQ 2397 3584 2469 3576 \nQ 2541 3569 2628 3553 \nL 2631 2963 \nz\n\" transform=\"scale(0.015625)\"/>\n       <path id=\"DejaVuSans-74\" d=\"M 1172 4494 \nL 1172 3500 \nL 2356 3500 \nL 2356 3053 \nL 1172 3053 \nL 1172 1153 \nQ 1172 725 1289 603 \nQ 1406 481 1766 481 \nL 2356 481 \nL 2356 0 \nL 1766 0 \nQ 1100 0 847 248 \nQ 594 497 594 1153 \nL 594 3053 \nL 172 3053 \nL 172 3500 \nL 594 3500 \nL 594 4494 \nL 1172 4494 \nz\n\" transform=\"scale(0.015625)\"/>\n       <path id=\"DejaVuSans-65\" d=\"M 3597 1894 \nL 3597 1613 \nL 953 1613 \nQ 991 1019 1311 708 \nQ 1631 397 2203 397 \nQ 2534 397 2845 478 \nQ 3156 559 3463 722 \nL 3463 178 \nQ 3153 47 2828 -22 \nQ 2503 -91 2169 -91 \nQ 1331 -91 842 396 \nQ 353 884 353 1716 \nQ 353 2575 817 3079 \nQ 1281 3584 2069 3584 \nQ 2775 3584 3186 3129 \nQ 3597 2675 3597 1894 \nz\nM 3022 2063 \nQ 3016 2534 2758 2815 \nQ 2500 3097 2075 3097 \nQ 1594 3097 1305 2825 \nQ 1016 2553 972 2059 \nL 3022 2063 \nz\n\" transform=\"scale(0.015625)\"/>\n       <path id=\"DejaVuSans-64\" d=\"M 2906 2969 \nL 2906 4863 \nL 3481 4863 \nL 3481 0 \nL 2906 0 \nL 2906 525 \nQ 2725 213 2448 61 \nQ 2172 -91 1784 -91 \nQ 1150 -91 751 415 \nQ 353 922 353 1747 \nQ 353 2572 751 3078 \nQ 1150 3584 1784 3584 \nQ 2172 3584 2448 3432 \nQ 2725 3281 2906 2969 \nz\nM 947 1747 \nQ 947 1113 1208 752 \nQ 1469 391 1925 391 \nQ 2381 391 2643 752 \nQ 2906 1113 2906 1747 \nQ 2906 2381 2643 2742 \nQ 2381 3103 1925 3103 \nQ 1469 3103 1208 2742 \nQ 947 2381 947 1747 \nz\n\" transform=\"scale(0.015625)\"/>\n       <path id=\"DejaVuSans-20\" transform=\"scale(0.015625)\"/>\n       <path id=\"DejaVuSans-6b\" d=\"M 581 4863 \nL 1159 4863 \nL 1159 1991 \nL 2875 3500 \nL 3609 3500 \nL 1753 1863 \nL 3688 0 \nL 2938 0 \nL 1159 1709 \nL 1159 0 \nL 581 0 \nL 581 4863 \nz\n\" transform=\"scale(0.015625)\"/>\n       <path id=\"DejaVuSans-6e\" d=\"M 3513 2113 \nL 3513 0 \nL 2938 0 \nL 2938 2094 \nQ 2938 2591 2744 2837 \nQ 2550 3084 2163 3084 \nQ 1697 3084 1428 2787 \nQ 1159 2491 1159 1978 \nL 1159 0 \nL 581 0 \nL 581 3500 \nL 1159 3500 \nL 1159 2956 \nQ 1366 3272 1645 3428 \nQ 1925 3584 2291 3584 \nQ 2894 3584 3203 3211 \nQ 3513 2838 3513 2113 \nz\n\" transform=\"scale(0.015625)\"/>\n       <path id=\"DejaVuSans-70\" d=\"M 1159 525 \nL 1159 -1331 \nL 581 -1331 \nL 581 3500 \nL 1159 3500 \nL 1159 2969 \nQ 1341 3281 1617 3432 \nQ 1894 3584 2278 3584 \nQ 2916 3584 3314 3078 \nQ 3713 2572 3713 1747 \nQ 3713 922 3314 415 \nQ 2916 -91 2278 -91 \nQ 1894 -91 1617 61 \nQ 1341 213 1159 525 \nz\nM 3116 1747 \nQ 3116 2381 2855 2742 \nQ 2594 3103 2138 3103 \nQ 1681 3103 1420 2742 \nQ 1159 2381 1159 1747 \nQ 1159 1113 1420 752 \nQ 1681 391 2138 391 \nQ 2594 391 2855 752 \nQ 3116 1113 3116 1747 \nz\n\" transform=\"scale(0.015625)\"/>\n       <path id=\"DejaVuSans-62\" d=\"M 3116 1747 \nQ 3116 2381 2855 2742 \nQ 2594 3103 2138 3103 \nQ 1681 3103 1420 2742 \nQ 1159 2381 1159 1747 \nQ 1159 1113 1420 752 \nQ 1681 391 2138 391 \nQ 2594 391 2855 752 \nQ 3116 1113 3116 1747 \nz\nM 1159 2969 \nQ 1341 3281 1617 3432 \nQ 1894 3584 2278 3584 \nQ 2916 3584 3314 3078 \nQ 3713 2572 3713 1747 \nQ 3713 922 3314 415 \nQ 2916 -91 2278 -91 \nQ 1894 -91 1617 61 \nQ 1341 213 1159 525 \nL 1159 0 \nL 581 0 \nL 581 4863 \nL 1159 4863 \nL 1159 2969 \nz\n\" transform=\"scale(0.015625)\"/>\n       <path id=\"DejaVuSans-61\" d=\"M 2194 1759 \nQ 1497 1759 1228 1600 \nQ 959 1441 959 1056 \nQ 959 750 1161 570 \nQ 1363 391 1709 391 \nQ 2188 391 2477 730 \nQ 2766 1069 2766 1631 \nL 2766 1759 \nL 2194 1759 \nz\nM 3341 1997 \nL 3341 0 \nL 2766 0 \nL 2766 531 \nQ 2569 213 2275 61 \nQ 1981 -91 1556 -91 \nQ 1019 -91 701 211 \nQ 384 513 384 1019 \nQ 384 1609 779 1909 \nQ 1175 2209 1959 2209 \nL 2766 2209 \nL 2766 2266 \nQ 2766 2663 2505 2880 \nQ 2244 3097 1772 3097 \nQ 1472 3097 1187 3025 \nQ 903 2953 641 2809 \nL 641 3341 \nQ 956 3463 1253 3523 \nQ 1550 3584 1831 3584 \nQ 2591 3584 2966 3190 \nQ 3341 2797 3341 1997 \nz\n\" transform=\"scale(0.015625)\"/>\n       <path id=\"DejaVuSans-69\" d=\"M 603 3500 \nL 1178 3500 \nL 1178 0 \nL 603 0 \nL 603 3500 \nz\nM 603 4863 \nL 1178 4863 \nL 1178 4134 \nL 603 4134 \nL 603 4863 \nz\n\" transform=\"scale(0.015625)\"/>\n       <path id=\"DejaVuSans-6c\" d=\"M 603 4863 \nL 1178 4863 \nL 1178 0 \nL 603 0 \nL 603 4863 \nz\n\" transform=\"scale(0.015625)\"/>\n       <path id=\"DejaVuSans-73\" d=\"M 2834 3397 \nL 2834 2853 \nQ 2591 2978 2328 3040 \nQ 2066 3103 1784 3103 \nQ 1356 3103 1142 2972 \nQ 928 2841 928 2578 \nQ 928 2378 1081 2264 \nQ 1234 2150 1697 2047 \nL 1894 2003 \nQ 2506 1872 2764 1633 \nQ 3022 1394 3022 966 \nQ 3022 478 2636 193 \nQ 2250 -91 1575 -91 \nQ 1294 -91 989 -36 \nQ 684 19 347 128 \nL 347 722 \nQ 666 556 975 473 \nQ 1284 391 1588 391 \nQ 1994 391 2212 530 \nQ 2431 669 2431 922 \nQ 2431 1156 2273 1281 \nQ 2116 1406 1581 1522 \nL 1381 1569 \nQ 847 1681 609 1914 \nQ 372 2147 372 2553 \nQ 372 3047 722 3315 \nQ 1072 3584 1716 3584 \nQ 2034 3584 2315 3537 \nQ 2597 3491 2834 3397 \nz\n\" transform=\"scale(0.015625)\"/>\n      </defs>\n      <use xlink:href=\"#DejaVuSans-53\"/>\n      <use xlink:href=\"#DejaVuSans-6f\" x=\"63.476562\"/>\n      <use xlink:href=\"#DejaVuSans-72\" x=\"124.658203\"/>\n      <use xlink:href=\"#DejaVuSans-74\" x=\"165.771484\"/>\n      <use xlink:href=\"#DejaVuSans-65\" x=\"204.980469\"/>\n      <use xlink:href=\"#DejaVuSans-64\" x=\"266.503906\"/>\n      <use xlink:href=\"#DejaVuSans-20\" x=\"329.980469\"/>\n      <use xlink:href=\"#DejaVuSans-74\" x=\"361.767578\"/>\n      <use xlink:href=\"#DejaVuSans-6f\" x=\"400.976562\"/>\n      <use xlink:href=\"#DejaVuSans-6b\" x=\"462.158203\"/>\n      <use xlink:href=\"#DejaVuSans-65\" x=\"516.443359\"/>\n      <use xlink:href=\"#DejaVuSans-6e\" x=\"577.966797\"/>\n      <use xlink:href=\"#DejaVuSans-20\" x=\"641.345703\"/>\n      <use xlink:href=\"#DejaVuSans-70\" x=\"673.132812\"/>\n      <use xlink:href=\"#DejaVuSans-72\" x=\"736.609375\"/>\n      <use xlink:href=\"#DejaVuSans-6f\" x=\"775.472656\"/>\n      <use xlink:href=\"#DejaVuSans-62\" x=\"836.654297\"/>\n      <use xlink:href=\"#DejaVuSans-61\" x=\"900.130859\"/>\n      <use xlink:href=\"#DejaVuSans-62\" x=\"961.410156\"/>\n      <use xlink:href=\"#DejaVuSans-69\" x=\"1024.886719\"/>\n      <use xlink:href=\"#DejaVuSans-6c\" x=\"1052.669922\"/>\n      <use xlink:href=\"#DejaVuSans-69\" x=\"1080.453125\"/>\n      <use xlink:href=\"#DejaVuSans-74\" x=\"1108.236328\"/>\n      <use xlink:href=\"#DejaVuSans-69\" x=\"1147.445312\"/>\n      <use xlink:href=\"#DejaVuSans-65\" x=\"1175.228516\"/>\n      <use xlink:href=\"#DejaVuSans-73\" x=\"1236.751953\"/>\n     </g>\n    </g>\n   </g>\n   <g id=\"matplotlib.axis_2\">\n    <g id=\"ytick_1\">\n     <g id=\"line2d_7\">\n      <defs>\n       <path id=\"m5c35e9143c\" d=\"M 0 0 \nL -3.5 0 \n\" style=\"stroke: #000000; stroke-width: 0.8\"/>\n      </defs>\n      <g>\n       <use xlink:href=\"#m5c35e9143c\" x=\"64.1675\" y=\"225.59877\" style=\"stroke: #000000; stroke-width: 0.8\"/>\n      </g>\n     </g>\n     <g id=\"text_8\">\n      <!-- 0.000 -->\n      <g transform=\"translate(22.81375 230.157833) scale(0.12 -0.12)\">\n       <defs>\n        <path id=\"DejaVuSans-2e\" d=\"M 684 794 \nL 1344 794 \nL 1344 0 \nL 684 0 \nL 684 794 \nz\n\" transform=\"scale(0.015625)\"/>\n       </defs>\n       <use xlink:href=\"#DejaVuSans-30\"/>\n       <use xlink:href=\"#DejaVuSans-2e\" x=\"63.623047\"/>\n       <use xlink:href=\"#DejaVuSans-30\" x=\"95.410156\"/>\n       <use xlink:href=\"#DejaVuSans-30\" x=\"159.033203\"/>\n       <use xlink:href=\"#DejaVuSans-30\" x=\"222.65625\"/>\n      </g>\n     </g>\n    </g>\n    <g id=\"ytick_2\">\n     <g id=\"line2d_8\">\n      <g>\n       <use xlink:href=\"#m5c35e9143c\" x=\"64.1675\" y=\"179.557206\" style=\"stroke: #000000; stroke-width: 0.8\"/>\n      </g>\n     </g>\n     <g id=\"text_9\">\n      <!-- 0.001 -->\n      <g transform=\"translate(22.81375 184.116269) scale(0.12 -0.12)\">\n       <use xlink:href=\"#DejaVuSans-30\"/>\n       <use xlink:href=\"#DejaVuSans-2e\" x=\"63.623047\"/>\n       <use xlink:href=\"#DejaVuSans-30\" x=\"95.410156\"/>\n       <use xlink:href=\"#DejaVuSans-30\" x=\"159.033203\"/>\n       <use xlink:href=\"#DejaVuSans-31\" x=\"222.65625\"/>\n      </g>\n     </g>\n    </g>\n    <g id=\"ytick_3\">\n     <g id=\"line2d_9\">\n      <g>\n       <use xlink:href=\"#m5c35e9143c\" x=\"64.1675\" y=\"133.515642\" style=\"stroke: #000000; stroke-width: 0.8\"/>\n      </g>\n     </g>\n     <g id=\"text_10\">\n      <!-- 0.002 -->\n      <g transform=\"translate(22.81375 138.074704) scale(0.12 -0.12)\">\n       <use xlink:href=\"#DejaVuSans-30\"/>\n       <use xlink:href=\"#DejaVuSans-2e\" x=\"63.623047\"/>\n       <use xlink:href=\"#DejaVuSans-30\" x=\"95.410156\"/>\n       <use xlink:href=\"#DejaVuSans-30\" x=\"159.033203\"/>\n       <use xlink:href=\"#DejaVuSans-32\" x=\"222.65625\"/>\n      </g>\n     </g>\n    </g>\n    <g id=\"ytick_4\">\n     <g id=\"line2d_10\">\n      <g>\n       <use xlink:href=\"#m5c35e9143c\" x=\"64.1675\" y=\"87.474077\" style=\"stroke: #000000; stroke-width: 0.8\"/>\n      </g>\n     </g>\n     <g id=\"text_11\">\n      <!-- 0.003 -->\n      <g transform=\"translate(22.81375 92.03314) scale(0.12 -0.12)\">\n       <defs>\n        <path id=\"DejaVuSans-33\" d=\"M 2597 2516 \nQ 3050 2419 3304 2112 \nQ 3559 1806 3559 1356 \nQ 3559 666 3084 287 \nQ 2609 -91 1734 -91 \nQ 1441 -91 1130 -33 \nQ 819 25 488 141 \nL 488 750 \nQ 750 597 1062 519 \nQ 1375 441 1716 441 \nQ 2309 441 2620 675 \nQ 2931 909 2931 1356 \nQ 2931 1769 2642 2001 \nQ 2353 2234 1838 2234 \nL 1294 2234 \nL 1294 2753 \nL 1863 2753 \nQ 2328 2753 2575 2939 \nQ 2822 3125 2822 3475 \nQ 2822 3834 2567 4026 \nQ 2313 4219 1838 4219 \nQ 1578 4219 1281 4162 \nQ 984 4106 628 3988 \nL 628 4550 \nQ 988 4650 1302 4700 \nQ 1616 4750 1894 4750 \nQ 2613 4750 3031 4423 \nQ 3450 4097 3450 3541 \nQ 3450 3153 3228 2886 \nQ 3006 2619 2597 2516 \nz\n\" transform=\"scale(0.015625)\"/>\n       </defs>\n       <use xlink:href=\"#DejaVuSans-30\"/>\n       <use xlink:href=\"#DejaVuSans-2e\" x=\"63.623047\"/>\n       <use xlink:href=\"#DejaVuSans-30\" x=\"95.410156\"/>\n       <use xlink:href=\"#DejaVuSans-30\" x=\"159.033203\"/>\n       <use xlink:href=\"#DejaVuSans-33\" x=\"222.65625\"/>\n      </g>\n     </g>\n    </g>\n    <g id=\"ytick_5\">\n     <g id=\"line2d_11\">\n      <g>\n       <use xlink:href=\"#m5c35e9143c\" x=\"64.1675\" y=\"41.432513\" style=\"stroke: #000000; stroke-width: 0.8\"/>\n      </g>\n     </g>\n     <g id=\"text_12\">\n      <!-- 0.004 -->\n      <g transform=\"translate(22.81375 45.991576) scale(0.12 -0.12)\">\n       <use xlink:href=\"#DejaVuSans-30\"/>\n       <use xlink:href=\"#DejaVuSans-2e\" x=\"63.623047\"/>\n       <use xlink:href=\"#DejaVuSans-30\" x=\"95.410156\"/>\n       <use xlink:href=\"#DejaVuSans-30\" x=\"159.033203\"/>\n       <use xlink:href=\"#DejaVuSans-34\" x=\"222.65625\"/>\n      </g>\n     </g>\n    </g>\n    <g id=\"text_13\">\n     <!-- Probability -->\n     <g transform=\"translate(16.318125 149.794687) rotate(-90) scale(0.12 -0.12)\">\n      <defs>\n       <path id=\"DejaVuSans-50\" d=\"M 1259 4147 \nL 1259 2394 \nL 2053 2394 \nQ 2494 2394 2734 2622 \nQ 2975 2850 2975 3272 \nQ 2975 3691 2734 3919 \nQ 2494 4147 2053 4147 \nL 1259 4147 \nz\nM 628 4666 \nL 2053 4666 \nQ 2838 4666 3239 4311 \nQ 3641 3956 3641 3272 \nQ 3641 2581 3239 2228 \nQ 2838 1875 2053 1875 \nL 1259 1875 \nL 1259 0 \nL 628 0 \nL 628 4666 \nz\n\" transform=\"scale(0.015625)\"/>\n       <path id=\"DejaVuSans-79\" d=\"M 2059 -325 \nQ 1816 -950 1584 -1140 \nQ 1353 -1331 966 -1331 \nL 506 -1331 \nL 506 -850 \nL 844 -850 \nQ 1081 -850 1212 -737 \nQ 1344 -625 1503 -206 \nL 1606 56 \nL 191 3500 \nL 800 3500 \nL 1894 763 \nL 2988 3500 \nL 3597 3500 \nL 2059 -325 \nz\n\" transform=\"scale(0.015625)\"/>\n      </defs>\n      <use xlink:href=\"#DejaVuSans-50\"/>\n      <use xlink:href=\"#DejaVuSans-72\" x=\"58.552734\"/>\n      <use xlink:href=\"#DejaVuSans-6f\" x=\"97.416016\"/>\n      <use xlink:href=\"#DejaVuSans-62\" x=\"158.597656\"/>\n      <use xlink:href=\"#DejaVuSans-61\" x=\"222.074219\"/>\n      <use xlink:href=\"#DejaVuSans-62\" x=\"283.353516\"/>\n      <use xlink:href=\"#DejaVuSans-69\" x=\"346.830078\"/>\n      <use xlink:href=\"#DejaVuSans-6c\" x=\"374.613281\"/>\n      <use xlink:href=\"#DejaVuSans-69\" x=\"402.396484\"/>\n      <use xlink:href=\"#DejaVuSans-74\" x=\"430.179688\"/>\n      <use xlink:href=\"#DejaVuSans-79\" x=\"469.388672\"/>\n     </g>\n    </g>\n   </g>\n   <g id=\"line2d_12\">\n    <path d=\"M 79.385682 17.28 \nL 79.385682 18.123962 \nL 79.69035 18.123962 \nL 79.69035 18.535696 \nL 79.995018 18.535696 \nL 79.995018 18.784729 \nL 80.299687 18.784729 \nL 80.299687 20.319913 \nL 80.604355 20.319913 \nL 80.604355 21.4984 \nL 80.909023 21.4984 \nL 80.909023 25.185244 \nL 81.213692 25.185244 \nL 81.213692 26.143062 \nL 81.51836 26.143062 \nL 81.51836 26.428283 \nL 81.823028 26.428283 \nL 81.823028 26.911534 \nL 82.127697 26.911534 \nL 82.127697 28.57182 \nL 82.432365 28.57182 \nL 82.432365 28.911706 \nL 82.737033 28.911706 \nL 82.737033 30.921576 \nL 83.041701 30.921576 \nL 83.041701 31.902094 \nL 83.34637 31.902094 \nL 83.34637 32.210085 \nL 83.651038 32.210085 \nL 83.651038 32.813268 \nL 83.955706 32.813268 \nL 83.955706 33.08796 \nL 84.260375 33.08796 \nL 84.260375 33.283156 \nL 84.869711 33.370814 \nL 84.869711 35.348768 \nL 85.17438 35.348768 \nL 85.17438 35.567428 \nL 85.479048 35.567428 \nL 85.479048 36.87992 \nL 85.783716 36.87992 \nL 85.783716 37.090575 \nL 86.088385 37.090575 \nL 86.088385 38.236076 \nL 86.393053 38.236076 \nL 86.393053 39.317182 \nL 86.697721 39.317182 \nL 86.697721 42.949453 \nL 87.002389 42.949453 \nL 87.002389 44.162948 \nL 87.307058 44.162948 \nL 87.307058 47.712315 \nL 87.611726 47.712315 \nL 87.611726 48.934979 \nL 87.916394 48.934979 \nL 87.916394 50.172781 \nL 88.221063 50.172781 \nL 88.221063 50.535744 \nL 88.525731 50.535744 \nL 88.525731 51.182206 \nL 88.830399 51.182206 \nL 88.830399 53.654634 \nL 89.439736 53.69807 \nL 89.439736 53.878129 \nL 89.744404 53.878129 \nL 89.744404 55.775992 \nL 90.049072 55.775992 \nL 90.049072 56.006092 \nL 90.353741 56.006092 \nL 90.353741 59.058721 \nL 90.658409 59.058721 \nL 90.658409 61.69098 \nL 90.963077 61.69098 \nL 90.963077 61.948602 \nL 91.267746 61.948602 \nL 91.267746 62.245484 \nL 91.572414 62.245484 \nL 91.572414 65.407571 \nL 92.181751 65.439809 \nL 92.181751 66.423637 \nL 92.486419 66.423637 \nL 92.486419 67.19765 \nL 92.791087 67.19765 \nL 92.791087 67.566325 \nL 93.095756 67.566325 \nL 93.095756 67.92556 \nL 93.705092 67.927153 \nL 93.705092 68.345085 \nL 94.00976 68.345085 \nL 94.00976 69.840529 \nL 94.619097 69.881303 \nL 94.619097 71.415623 \nL 94.923765 71.415623 \nL 94.923765 71.791718 \nL 95.228434 71.791718 \nL 95.228434 74.639541 \nL 95.83777 74.685016 \nL 95.83777 75.182301 \nL 96.447107 75.285248 \nL 96.447107 75.505346 \nL 96.751775 75.505346 \nL 96.751775 76.442557 \nL 97.361112 76.535303 \nL 97.361112 78.538728 \nL 97.970448 78.596414 \nL 97.970448 78.792855 \nL 98.275117 78.792855 \nL 98.275117 79.987528 \nL 98.579785 79.987528 \nL 98.579785 80.342423 \nL 98.884453 80.342423 \nL 98.884453 80.591712 \nL 99.189122 80.591712 \nL 99.189122 81.119146 \nL 99.49379 81.119146 \nL 99.49379 81.687112 \nL 99.798458 81.687112 \nL 99.798458 81.868265 \nL 100.712463 81.973219 \nL 100.712463 82.390761 \nL 101.017131 82.390761 \nL 101.017131 82.990548 \nL 101.3218 82.990548 \nL 101.3218 83.125048 \nL 101.626468 83.125048 \nL 101.626468 83.268762 \nL 101.931136 83.268762 \nL 101.931136 83.77776 \nL 102.540473 83.779216 \nL 102.540473 85.904191 \nL 102.845141 85.904191 \nL 102.845141 86.830268 \nL 103.14981 86.830268 \nL 103.14981 87.378982 \nL 103.759146 87.475448 \nL 103.759146 91.512071 \nL 104.063814 91.512071 \nL 104.063814 91.689715 \nL 104.368483 91.689715 \nL 104.368483 91.852271 \nL 104.673151 91.852271 \nL 104.673151 92.254384 \nL 104.977819 92.254384 \nL 104.977819 92.404633 \nL 105.587156 92.44646 \nL 105.587156 93.163624 \nL 106.196493 93.254969 \nL 106.196493 93.825378 \nL 106.501161 93.825378 \nL 106.501161 94.334699 \nL 106.805829 94.334699 \nL 106.805829 95.365139 \nL 107.110498 95.365139 \nL 107.110498 95.757089 \nL 107.415166 95.757089 \nL 107.415166 97.792341 \nL 107.719834 97.792341 \nL 107.719834 97.936702 \nL 108.024502 97.936702 \nL 108.024502 98.126888 \nL 108.329171 98.126888 \nL 108.329171 99.342552 \nL 108.938507 99.392696 \nL 108.938507 99.77704 \nL 109.243176 99.77704 \nL 109.243176 100.802034 \nL 109.547844 100.802034 \nL 109.547844 101.519431 \nL 109.852512 101.519431 \nL 109.852512 101.739305 \nL 110.157181 101.739305 \nL 110.157181 102.421041 \nL 110.461849 102.421041 \nL 110.461849 104.000256 \nL 110.766517 104.000256 \nL 110.766517 104.30055 \nL 111.071186 104.30055 \nL 111.071186 104.931369 \nL 111.375854 104.931369 \nL 111.375854 105.898021 \nL 111.98519 105.970838 \nL 111.98519 106.076115 \nL 112.289859 106.076115 \nL 112.289859 106.721592 \nL 112.594527 106.721592 \nL 112.594527 106.845047 \nL 112.899195 106.845047 \nL 112.899195 108.042289 \nL 113.203864 108.042289 \nL 113.203864 110.761219 \nL 113.508532 110.761219 \nL 113.508532 112.30959 \nL 113.8132 112.30959 \nL 113.8132 113.070655 \nL 114.117869 113.070655 \nL 114.117869 113.559022 \nL 114.422537 113.559022 \nL 114.422537 113.763955 \nL 114.727205 113.763955 \nL 114.727205 114.364632 \nL 115.031873 114.364632 \nL 115.031873 115.196666 \nL 115.336542 115.196666 \nL 115.336542 116.285429 \nL 115.64121 116.285429 \nL 115.64121 117.162267 \nL 115.945878 117.162267 \nL 115.945878 118.471276 \nL 116.250547 118.471276 \nL 116.250547 120.421019 \nL 116.555215 120.421019 \nL 116.555215 120.961148 \nL 116.859883 120.961148 \nL 116.859883 121.465872 \nL 117.164552 121.465872 \nL 117.164552 121.83262 \nL 117.46922 121.83262 \nL 117.46922 122.836365 \nL 118.383225 122.924701 \nL 118.383225 123.066648 \nL 118.992561 123.109883 \nL 118.992561 123.35699 \nL 119.29723 123.35699 \nL 119.29723 124.715628 \nL 119.906566 124.80575 \nL 119.906566 125.980219 \nL 120.211235 125.980219 \nL 120.211235 127.334136 \nL 120.515903 127.334136 \nL 120.515903 127.73574 \nL 121.12524 127.735996 \nL 121.12524 128.005777 \nL 121.429908 128.005777 \nL 121.429908 129.045645 \nL 121.734576 129.045645 \nL 121.734576 129.226254 \nL 122.039244 129.226254 \nL 122.039244 129.371215 \nL 123.257918 129.450045 \nL 123.257918 129.582764 \nL 123.562586 129.582764 \nL 123.562586 130.031014 \nL 123.867254 130.031014 \nL 123.867254 130.309126 \nL 124.476591 130.39966 \nL 124.476591 130.762498 \nL 124.781259 130.762498 \nL 124.781259 131.440299 \nL 125.085928 131.440299 \nL 125.085928 131.637641 \nL 125.695264 131.694022 \nL 125.695264 133.047968 \nL 126.304601 133.099919 \nL 126.304601 133.262765 \nL 127.523274 133.299554 \nL 127.523274 133.504147 \nL 127.827942 133.504147 \nL 127.827942 133.624331 \nL 128.132611 133.624331 \nL 128.132611 133.962805 \nL 128.437279 133.962805 \nL 128.437279 134.809421 \nL 128.741947 134.809421 \nL 128.741947 135.025673 \nL 129.046615 135.025673 \nL 129.046615 135.447632 \nL 129.351284 135.447632 \nL 129.351284 136.303715 \nL 129.655952 136.303715 \nL 129.655952 137.013674 \nL 129.96062 137.013674 \nL 129.96062 137.331412 \nL 130.265289 137.331412 \nL 130.265289 137.749866 \nL 130.569957 137.749866 \nL 130.569957 138.346818 \nL 130.874625 138.346818 \nL 130.874625 139.457725 \nL 131.179294 139.457725 \nL 131.179294 139.65368 \nL 131.483962 139.65368 \nL 131.483962 139.852551 \nL 131.78863 139.852551 \nL 131.78863 140.096938 \nL 132.093299 140.096938 \nL 132.093299 140.955771 \nL 132.397967 140.955771 \nL 132.397967 141.201598 \nL 133.311972 141.217779 \nL 133.311972 141.41027 \nL 133.61664 141.41027 \nL 133.61664 143.326431 \nL 133.921308 143.326431 \nL 133.921308 143.470745 \nL 134.225977 143.470745 \nL 134.225977 144.19788 \nL 134.530645 144.19788 \nL 134.530645 144.450684 \nL 134.835313 144.450684 \nL 134.835313 144.677113 \nL 135.139982 144.677113 \nL 135.139982 145.255492 \nL 135.44465 145.255492 \nL 135.44465 145.644496 \nL 135.749318 145.644496 \nL 135.749318 146.020567 \nL 136.358655 146.087946 \nL 136.358655 146.210873 \nL 136.663323 146.210873 \nL 136.663323 148.056169 \nL 136.967991 148.056169 \nL 136.967991 148.261058 \nL 137.27266 148.261058 \nL 137.27266 148.374383 \nL 137.577328 148.374383 \nL 137.577328 148.657931 \nL 137.881996 148.657931 \nL 137.881996 149.129984 \nL 138.186665 149.129984 \nL 138.186665 149.800478 \nL 138.491333 149.800478 \nL 138.491333 150.073269 \nL 138.796001 150.073269 \nL 138.796001 150.461406 \nL 139.10067 150.461406 \nL 139.10067 150.579843 \nL 139.405338 150.579843 \nL 139.405338 150.832256 \nL 139.710006 150.832256 \nL 139.710006 152.9815 \nL 140.319343 153.087637 \nL 140.319343 153.237752 \nL 140.624011 153.237752 \nL 140.624011 153.681697 \nL 140.928679 153.681697 \nL 140.928679 154.091929 \nL 141.538016 154.168462 \nL 141.538016 155.183268 \nL 142.147353 155.207548 \nL 142.147353 155.322475 \nL 142.452021 155.322475 \nL 142.452021 155.482789 \nL 143.061357 155.509515 \nL 143.061357 155.835102 \nL 143.366026 155.835102 \nL 143.366026 155.960607 \nL 143.670694 155.960607 \nL 143.670694 156.246952 \nL 143.975362 156.246952 \nL 143.975362 156.648141 \nL 144.280031 156.648141 \nL 144.280031 157.249521 \nL 144.889367 157.334816 \nL 144.889367 157.862831 \nL 145.803372 157.900679 \nL 145.803372 157.998699 \nL 146.108041 157.998699 \nL 146.108041 158.541141 \nL 146.717377 158.574153 \nL 146.717377 158.831385 \nL 147.022045 158.831385 \nL 147.022045 158.966704 \nL 147.326714 158.966704 \nL 147.326714 159.110312 \nL 147.631382 159.110312 \nL 147.631382 159.445616 \nL 147.93605 159.445616 \nL 147.93605 159.874953 \nL 148.240719 159.874953 \nL 148.240719 160.110704 \nL 148.545387 160.110704 \nL 148.545387 160.232783 \nL 149.154724 160.322405 \nL 149.154724 160.595933 \nL 150.068729 160.704058 \nL 150.068729 160.823786 \nL 150.373397 160.823786 \nL 150.373397 161.032849 \nL 150.982733 161.094138 \nL 150.982733 161.422988 \nL 151.287402 161.422988 \nL 151.287402 161.638832 \nL 151.896738 161.715464 \nL 151.896738 161.75029 \nL 152.506075 161.770936 \nL 152.506075 162.345982 \nL 152.810743 162.345982 \nL 152.810743 162.551908 \nL 153.115412 162.551908 \nL 153.115412 163.077614 \nL 153.42008 163.077614 \nL 153.42008 163.770525 \nL 154.334085 163.874528 \nL 154.334085 164.130172 \nL 154.638753 164.130172 \nL 154.638753 164.514256 \nL 155.24809 164.545595 \nL 155.24809 164.655311 \nL 155.857426 164.71932 \nL 155.857426 164.899784 \nL 156.162095 164.899784 \nL 156.162095 165.266904 \nL 156.771431 165.272617 \nL 156.771431 165.382244 \nL 157.0761 165.382244 \nL 157.0761 166.133711 \nL 157.380768 166.133711 \nL 157.380768 166.275344 \nL 157.990104 166.369433 \nL 157.990104 166.51307 \nL 158.599441 166.556114 \nL 158.599441 166.765183 \nL 158.904109 166.765183 \nL 158.904109 168.13164 \nL 159.208778 168.13164 \nL 159.208778 168.544721 \nL 159.818114 168.584041 \nL 159.818114 168.726583 \nL 160.122783 168.726583 \nL 160.122783 168.991749 \nL 160.427451 168.991749 \nL 160.427451 169.306654 \nL 161.036787 169.316303 \nL 161.036787 170.14996 \nL 161.950792 170.255897 \nL 161.950792 170.631981 \nL 162.255461 170.631981 \nL 162.255461 170.950046 \nL 162.560129 170.950046 \nL 162.560129 171.367644 \nL 162.864797 171.367644 \nL 162.864797 171.662654 \nL 163.169466 171.662654 \nL 163.169466 172.26725 \nL 163.474134 172.26725 \nL 163.474134 172.400781 \nL 163.778802 172.400781 \nL 163.778802 172.644514 \nL 164.692807 172.691313 \nL 164.692807 172.821942 \nL 165.302144 172.837502 \nL 165.302144 172.977478 \nL 166.216149 173.081693 \nL 166.216149 173.265376 \nL 166.825485 173.30542 \nL 166.825485 173.69463 \nL 167.130154 173.69463 \nL 167.130154 174.106305 \nL 167.434822 174.106305 \nL 167.434822 174.372174 \nL 167.73949 174.372174 \nL 167.73949 174.510414 \nL 168.348827 174.581489 \nL 168.348827 174.90634 \nL 168.653495 174.90634 \nL 168.653495 175.037405 \nL 168.958163 175.037405 \nL 168.958163 175.232814 \nL 169.262832 175.232814 \nL 169.262832 175.40012 \nL 169.872168 175.484992 \nL 169.872168 175.656993 \nL 170.481505 175.677232 \nL 170.481505 176.329727 \nL 170.786173 176.329727 \nL 170.786173 176.761234 \nL 171.39551 176.776804 \nL 171.39551 176.91442 \nL 172.004846 176.945083 \nL 172.004846 177.193462 \nL 172.918851 177.287469 \nL 172.918851 177.332598 \nL 173.832856 177.437636 \nL 173.832856 177.874544 \nL 174.137525 177.874544 \nL 174.137525 177.988783 \nL 174.442193 177.988783 \nL 174.442193 178.120029 \nL 174.746861 178.120029 \nL 174.746861 178.304783 \nL 175.051529 178.304783 \nL 175.051529 178.460161 \nL 175.356198 178.460161 \nL 175.356198 178.76454 \nL 175.660866 178.76454 \nL 175.660866 179.039109 \nL 176.574871 179.148662 \nL 176.574871 179.163612 \nL 176.879539 179.163612 \nL 176.879539 179.407799 \nL 177.184208 179.407799 \nL 177.184208 179.531826 \nL 177.793544 179.613543 \nL 177.793544 179.643197 \nL 178.098213 179.643197 \nL 178.098213 179.763935 \nL 178.402881 179.763935 \nL 178.402881 179.887645 \nL 178.707549 179.887645 \nL 178.707549 180.048065 \nL 179.316886 180.150701 \nL 179.316886 180.28676 \nL 180.230891 180.383911 \nL 180.230891 180.452159 \nL 180.535559 180.452159 \nL 180.535559 180.581269 \nL 180.840227 180.581269 \nL 180.840227 180.738835 \nL 181.144896 180.738835 \nL 181.144896 181.045481 \nL 181.754232 181.131573 \nL 181.754232 181.291208 \nL 182.363569 181.351834 \nL 182.363569 181.408399 \nL 182.668237 181.408399 \nL 182.668237 181.782894 \nL 183.277574 181.803996 \nL 183.277574 181.970609 \nL 183.88691 182.055446 \nL 183.88691 182.111065 \nL 184.496247 182.182952 \nL 184.496247 182.275741 \nL 185.105584 182.334934 \nL 185.105584 182.483482 \nL 185.410252 182.483482 \nL 185.410252 182.80629 \nL 186.324257 182.90381 \nL 186.324257 182.988436 \nL 186.628925 182.988436 \nL 186.628925 183.157061 \nL 187.238262 183.246977 \nL 187.238262 183.646194 \nL 187.847598 183.700975 \nL 187.847598 183.920507 \nL 188.152267 183.920507 \nL 188.152267 184.16792 \nL 188.456935 184.16792 \nL 188.456935 184.62642 \nL 189.37094 184.694735 \nL 189.37094 184.746211 \nL 189.675608 184.746211 \nL 189.675608 184.916101 \nL 189.980276 184.916101 \nL 189.980276 185.395978 \nL 190.589613 185.500528 \nL 190.589613 185.612524 \nL 191.503618 185.694148 \nL 191.503618 185.735715 \nL 191.808286 185.735715 \nL 191.808286 185.863091 \nL 192.112955 185.863091 \nL 192.112955 185.981076 \nL 192.417623 185.981076 \nL 192.417623 186.160812 \nL 193.026959 186.239036 \nL 193.026959 186.339257 \nL 193.940964 186.425112 \nL 193.940964 186.465546 \nL 194.854969 186.500759 \nL 194.854969 186.949184 \nL 195.464306 187.045186 \nL 195.464306 187.129834 \nL 195.768974 187.129834 \nL 195.768974 187.401287 \nL 196.073643 187.401287 \nL 196.073643 187.525566 \nL 196.987647 187.560662 \nL 196.987647 187.726873 \nL 197.901652 187.834 \nL 197.901652 187.925663 \nL 198.206321 187.925663 \nL 198.206321 188.047351 \nL 198.815657 188.150986 \nL 198.815657 188.253906 \nL 199.424994 188.349183 \nL 199.424994 188.410969 \nL 200.338999 188.510225 \nL 200.338999 188.816953 \nL 201.557672 188.843164 \nL 201.557672 188.936827 \nL 202.471677 189.040165 \nL 202.471677 189.15979 \nL 203.385682 189.228379 \nL 203.385682 189.720178 \nL 203.995018 189.746466 \nL 203.995018 189.922832 \nL 204.299687 189.922832 \nL 204.299687 190.101843 \nL 204.604355 190.101843 \nL 204.604355 190.232973 \nL 204.909023 190.232973 \nL 204.909023 190.347192 \nL 205.51836 190.448175 \nL 205.51836 190.534862 \nL 205.823028 190.534862 \nL 205.823028 191.240435 \nL 206.432365 191.263637 \nL 206.432365 191.354646 \nL 207.041701 191.463428 \nL 207.041701 191.703827 \nL 207.34637 191.703827 \nL 207.34637 191.916167 \nL 208.260375 192.020818 \nL 208.260375 192.06188 \nL 209.17438 192.160546 \nL 209.17438 192.187119 \nL 209.479048 192.187119 \nL 209.479048 192.506299 \nL 209.783716 192.506299 \nL 209.783716 192.844664 \nL 210.088385 192.844664 \nL 210.088385 192.971151 \nL 211.002389 193.079587 \nL 211.002389 193.182381 \nL 211.307058 193.182381 \nL 211.307058 193.313128 \nL 212.221063 193.370163 \nL 212.221063 193.503973 \nL 212.525731 193.503973 \nL 212.525731 193.621068 \nL 213.744404 193.641042 \nL 213.744404 193.980786 \nL 214.658409 194.090935 \nL 214.658409 194.121755 \nL 215.267746 194.192807 \nL 215.267746 194.405366 \nL 215.572414 194.405366 \nL 215.572414 194.546745 \nL 216.181751 194.613676 \nL 216.181751 194.821201 \nL 217.095756 194.890984 \nL 217.095756 195.047176 \nL 218.314429 195.129551 \nL 218.314429 195.231549 \nL 218.619097 195.231549 \nL 218.619097 195.349006 \nL 218.923765 195.349006 \nL 218.923765 195.49878 \nL 219.83777 195.575884 \nL 219.83777 195.846219 \nL 220.447107 195.954386 \nL 220.447107 196.102702 \nL 220.751775 196.102702 \nL 220.751775 196.557527 \nL 221.66578 196.663904 \nL 221.66578 196.85648 \nL 222.275117 196.933903 \nL 222.275117 196.981866 \nL 223.189122 197.032446 \nL 223.189122 197.180646 \nL 223.49379 197.180646 \nL 223.49379 197.301356 \nL 225.017131 197.400878 \nL 225.017131 197.741364 \nL 226.540473 197.794426 \nL 226.540473 197.980392 \nL 227.759146 198.09088 \nL 227.759146 198.103587 \nL 228.063814 198.103587 \nL 228.063814 198.272234 \nL 228.368483 198.272234 \nL 228.368483 198.396599 \nL 228.977819 198.443967 \nL 228.977819 198.556344 \nL 229.891824 198.638994 \nL 229.891824 198.674834 \nL 230.196493 198.674834 \nL 230.196493 199.063567 \nL 230.501161 199.063567 \nL 230.501161 199.257932 \nL 231.415166 199.357128 \nL 231.415166 199.425546 \nL 232.024502 199.46496 \nL 232.024502 199.541059 \nL 232.633839 199.627425 \nL 232.633839 199.797296 \nL 233.243176 199.872831 \nL 233.243176 200.02352 \nL 233.547844 200.02352 \nL 233.547844 200.200745 \nL 234.157181 200.279069 \nL 234.157181 200.410687 \nL 235.071186 200.445942 \nL 235.071186 200.569595 \nL 235.375854 200.569595 \nL 235.375854 200.720503 \nL 235.98519 200.786843 \nL 235.98519 201.004218 \nL 237.8132 201.081532 \nL 237.8132 201.176236 \nL 238.422537 201.249505 \nL 238.422537 201.526394 \nL 239.031873 201.542398 \nL 239.031873 201.798978 \nL 239.945878 201.886642 \nL 239.945878 201.998373 \nL 240.859883 202.075028 \nL 240.859883 202.167272 \nL 241.46922 202.256962 \nL 241.46922 202.285826 \nL 242.078557 202.314459 \nL 242.078557 202.519434 \nL 243.29723 202.598586 \nL 243.29723 202.632449 \nL 245.12524 202.734264 \nL 245.12524 202.797337 \nL 245.734576 202.841372 \nL 245.734576 202.932998 \nL 246.648581 203.040539 \nL 246.648581 203.180266 \nL 247.257918 203.212755 \nL 247.257918 203.358803 \nL 248.171923 203.422826 \nL 248.171923 203.485359 \nL 248.781259 203.505177 \nL 248.781259 203.630473 \nL 249.085928 203.630473 \nL 249.085928 203.771269 \nL 249.999932 203.881408 \nL 249.999932 203.911949 \nL 251.218606 204.016392 \nL 251.218606 204.079225 \nL 252.132611 204.165531 \nL 252.132611 204.205657 \nL 253.046615 204.312164 \nL 253.046615 204.368614 \nL 253.351284 204.368614 \nL 253.351284 204.550234 \nL 253.96062 204.623213 \nL 253.96062 204.789185 \nL 254.265289 204.789185 \nL 254.265289 204.919291 \nL 254.569957 204.919291 \nL 254.569957 205.031278 \nL 255.483962 205.090739 \nL 255.483962 205.275081 \nL 257.311972 205.370975 \nL 257.311972 205.418847 \nL 258.225977 205.430465 \nL 258.225977 205.581378 \nL 258.530645 205.581378 \nL 258.530645 205.756375 \nL 259.44465 205.835567 \nL 259.44465 205.881102 \nL 260.053986 205.881298 \nL 260.053986 205.993486 \nL 260.663323 206.083845 \nL 260.663323 206.170908 \nL 262.491333 206.256645 \nL 262.491333 206.314718 \nL 263.10067 206.400589 \nL 263.10067 206.438051 \nL 264.624011 206.536059 \nL 264.624011 206.57592 \nL 264.928679 206.57592 \nL 264.928679 206.793122 \nL 268.280031 206.89928 \nL 268.280031 206.907566 \nL 268.584699 206.907566 \nL 268.584699 207.022347 \nL 269.194036 207.058414 \nL 269.194036 207.16706 \nL 269.803372 207.190199 \nL 269.803372 207.314542 \nL 270.108041 207.314542 \nL 270.108041 207.506694 \nL 271.022045 207.612562 \nL 271.022045 207.669743 \nL 271.93605 207.774819 \nL 271.93605 207.782965 \nL 273.154724 207.892528 \nL 273.154724 207.941502 \nL 273.459392 207.941502 \nL 273.459392 208.068576 \nL 274.982733 208.173881 \nL 274.982733 208.197702 \nL 275.896738 208.245477 \nL 275.896738 208.461755 \nL 277.115412 208.57081 \nL 277.115412 208.580847 \nL 278.029416 208.684223 \nL 278.029416 208.692326 \nL 278.943421 208.750778 \nL 278.943421 208.835226 \nL 279.552758 208.942326 \nL 279.552758 209.072131 \nL 280.771431 209.148038 \nL 280.771431 209.211354 \nL 281.685436 209.270155 \nL 281.685436 209.33472 \nL 282.599441 209.398365 \nL 282.599441 209.458291 \nL 283.513446 209.559555 \nL 283.513446 209.651527 \nL 284.122783 209.735275 \nL 284.122783 209.768834 \nL 285.950792 209.870786 \nL 285.950792 209.885752 \nL 287.778802 209.952892 \nL 287.778802 210.020698 \nL 288.997475 210.10616 \nL 288.997475 210.262031 \nL 289.91148 210.366581 \nL 289.91148 210.387857 \nL 290.216149 210.387857 \nL 290.216149 210.523114 \nL 290.825485 210.61992 \nL 290.825485 210.657543 \nL 292.044158 210.761341 \nL 292.044158 210.813566 \nL 292.653495 210.833322 \nL 292.653495 210.96826 \nL 293.262832 211.025917 \nL 293.262832 211.118446 \nL 294.176837 211.202258 \nL 294.176837 211.271254 \nL 295.090842 211.382365 \nL 295.090842 211.386496 \nL 296.614183 211.474864 \nL 296.614183 211.617168 \nL 297.528188 211.717708 \nL 297.528188 211.827582 \nL 298.137525 211.835534 \nL 298.137525 211.97007 \nL 299.051529 212.022197 \nL 299.051529 212.120079 \nL 300.270203 212.227162 \nL 300.270203 212.245078 \nL 301.488876 212.271439 \nL 301.488876 212.446687 \nL 303.012217 212.5369 \nL 303.012217 212.579165 \nL 304.840227 212.668999 \nL 304.840227 212.712644 \nL 305.144896 212.712644 \nL 305.144896 212.867385 \nL 306.363569 212.946811 \nL 306.363569 212.981025 \nL 307.277574 213.043153 \nL 307.277574 213.093042 \nL 308.191579 213.165234 \nL 308.191579 213.206138 \nL 310.019588 213.313584 \nL 310.019588 213.327434 \nL 310.628925 213.367086 \nL 310.628925 213.441195 \nL 311.847598 213.514953 \nL 311.847598 213.653782 \nL 313.066271 213.755769 \nL 313.066271 213.78496 \nL 313.675608 213.884475 \nL 313.675608 213.964668 \nL 315.19895 214.045675 \nL 315.19895 214.086224 \nL 317.026959 214.119502 \nL 317.026959 214.226898 \nL 318.854969 214.320423 \nL 318.854969 214.33875 \nL 320.682979 214.41313 \nL 320.682979 214.464336 \nL 323.120326 214.563977 \nL 323.120326 214.590972 \nL 324.03433 214.678265 \nL 324.03433 214.718414 \nL 325.86234 214.799478 \nL 325.86234 214.829578 \nL 326.471677 214.915042 \nL 326.471677 214.949208 \nL 327.995018 215.03828 \nL 327.995018 215.092909 \nL 329.213692 215.126205 \nL 329.213692 215.251348 \nL 331.041701 215.352716 \nL 331.041701 215.373374 \nL 332.260375 215.477701 \nL 332.260375 215.502362 \nL 334.393053 215.596094 \nL 334.393053 215.640768 \nL 337.439736 215.74881 \nL 337.439736 215.761756 \nL 339.267746 215.866742 \nL 339.267746 215.88154 \nL 341.400424 215.962742 \nL 341.400424 216.010233 \nL 342.923765 216.049114 \nL 342.923765 216.160167 \nL 343.533102 216.185613 \nL 343.533102 216.3276 \nL 344.751775 216.386717 \nL 344.751775 216.47611 \nL 345.66578 216.574688 \nL 345.66578 216.659863 \nL 347.798458 216.759886 \nL 347.798458 216.800574 \nL 348.712463 216.897223 \nL 348.712463 216.942104 \nL 349.931136 217.036827 \nL 349.931136 217.069254 \nL 352.673151 217.178461 \nL 352.673151 217.180823 \nL 353.891824 217.247769 \nL 353.891824 217.297655 \nL 356.024502 217.404796 \nL 356.024502 217.41046 \nL 357.547844 217.507155 \nL 357.547844 217.529018 \nL 360.899195 217.636721 \nL 360.899195 217.649123 \nL 363.336542 217.747852 \nL 363.336542 217.778476 \nL 364.555215 217.877429 \nL 364.555215 217.909147 \nL 366.687893 217.998906 \nL 366.687893 218.025239 \nL 370.648581 218.134764 \nL 370.648581 218.139555 \nL 372.171923 218.230743 \nL 372.171923 218.309632 \nL 375.218606 218.417161 \nL 375.218606 218.438605 \nL 377.046615 218.516055 \nL 377.046615 218.557783 \nL 378.265289 218.656797 \nL 378.265289 218.677585 \nL 381.007303 218.782436 \nL 381.007303 218.796527 \nL 383.749318 218.88 \nL 383.749318 218.88 \n\" clip-path=\"url(#p7b7e06d279)\" style=\"fill: none; stroke: #0071bc; stroke-width: 1.5; stroke-linecap: square\"/>\n   </g>\n   <g id=\"line2d_13\">\n    <path d=\"M 79.385682 115.83787 \nL 79.385682 116.060433 \nL 79.995018 116.169176 \nL 79.995018 116.235001 \nL 80.299687 116.235001 \nL 80.299687 116.641662 \nL 80.604355 116.641662 \nL 80.604355 116.954868 \nL 80.909023 116.954868 \nL 80.909023 117.940605 \nL 81.213692 117.940605 \nL 81.213692 118.198174 \nL 81.823028 118.274992 \nL 81.823028 118.405272 \nL 82.127697 118.405272 \nL 82.127697 118.854081 \nL 82.737033 118.946192 \nL 82.737033 119.492513 \nL 83.041701 119.492513 \nL 83.041701 119.760059 \nL 83.651038 119.844238 \nL 83.651038 120.009292 \nL 84.260375 120.084544 \nL 84.260375 120.13805 \nL 84.869711 120.162088 \nL 84.869711 120.705942 \nL 85.479048 120.766238 \nL 85.479048 121.128889 \nL 86.088385 121.187212 \nL 86.088385 121.504933 \nL 86.393053 121.504933 \nL 86.393053 121.805684 \nL 86.697721 121.805684 \nL 86.697721 122.822587 \nL 87.002389 122.822587 \nL 87.002389 123.164571 \nL 87.307058 123.164571 \nL 87.307058 124.171462 \nL 87.611726 124.171462 \nL 87.611726 124.520633 \nL 87.916394 124.520633 \nL 87.916394 124.875359 \nL 88.525731 124.979613 \nL 88.525731 125.165565 \nL 88.830399 125.165565 \nL 88.830399 125.879947 \nL 89.744404 125.944776 \nL 89.744404 126.496996 \nL 90.353741 126.564157 \nL 90.353741 127.459505 \nL 90.658409 127.459505 \nL 90.658409 128.238167 \nL 91.267746 128.31471 \nL 91.267746 128.402993 \nL 91.572414 128.402993 \nL 91.572414 129.348317 \nL 92.181751 129.358002 \nL 92.181751 129.654053 \nL 92.486419 129.654053 \nL 92.486419 129.887609 \nL 92.791087 129.887609 \nL 92.791087 129.999057 \nL 93.705092 130.108259 \nL 93.705092 130.234899 \nL 94.00976 130.234899 \nL 94.00976 130.689425 \nL 94.619097 130.701849 \nL 94.619097 131.170527 \nL 94.923765 131.170527 \nL 94.923765 131.285765 \nL 95.228434 131.285765 \nL 95.228434 132.162973 \nL 95.83777 132.177048 \nL 95.83777 132.331094 \nL 96.751775 132.431302 \nL 96.751775 132.722635 \nL 97.361112 132.751515 \nL 97.361112 133.377563 \nL 98.275117 133.457279 \nL 98.275117 133.832958 \nL 98.579785 133.832958 \nL 98.579785 133.944856 \nL 99.189122 134.023538 \nL 99.189122 134.190233 \nL 99.49379 134.190233 \nL 99.49379 134.370079 \nL 100.712463 134.460808 \nL 100.712463 134.593381 \nL 101.017131 134.593381 \nL 101.017131 134.784156 \nL 101.931136 134.872785 \nL 101.931136 135.035156 \nL 102.540473 135.035621 \nL 102.540473 135.716665 \nL 102.845141 135.716665 \nL 102.845141 136.015088 \nL 103.14981 136.015088 \nL 103.14981 136.192378 \nL 103.759146 136.223582 \nL 103.759146 137.539251 \nL 104.368483 137.597603 \nL 104.368483 137.651033 \nL 104.673151 137.651033 \nL 104.673151 137.783341 \nL 105.587156 137.846611 \nL 105.587156 138.083248 \nL 106.196493 138.113435 \nL 106.196493 138.302172 \nL 106.501161 138.302172 \nL 106.501161 138.471041 \nL 106.805829 138.471041 \nL 106.805829 138.813697 \nL 107.110498 138.813697 \nL 107.110498 138.944389 \nL 107.415166 138.944389 \nL 107.415166 139.62622 \nL 108.024502 139.674788 \nL 108.024502 139.738815 \nL 108.329171 139.738815 \nL 108.329171 140.149207 \nL 108.938507 140.166177 \nL 108.938507 140.296363 \nL 109.243176 140.296363 \nL 109.243176 140.644528 \nL 109.547844 140.644528 \nL 109.547844 140.88906 \nL 110.157181 140.964148 \nL 110.157181 141.197389 \nL 110.461849 141.197389 \nL 110.461849 141.740173 \nL 111.071186 141.843784 \nL 111.071186 142.061854 \nL 111.375854 142.061854 \nL 111.375854 142.397129 \nL 112.289859 142.459047 \nL 112.289859 142.683847 \nL 112.899195 142.726912 \nL 112.899195 143.145716 \nL 113.203864 143.145716 \nL 113.203864 144.10481 \nL 113.508532 144.10481 \nL 113.508532 144.656072 \nL 113.8132 144.656072 \nL 113.8132 144.928413 \nL 114.117869 144.928413 \nL 114.117869 145.103656 \nL 114.727205 145.177307 \nL 114.727205 145.393574 \nL 115.031873 145.393574 \nL 115.031873 145.694105 \nL 115.336542 145.694105 \nL 115.336542 146.089083 \nL 115.64121 146.089083 \nL 115.64121 146.408612 \nL 115.945878 146.408612 \nL 115.945878 146.888042 \nL 116.250547 146.888042 \nL 116.250547 147.607607 \nL 116.555215 147.607607 \nL 116.555215 147.808122 \nL 116.859883 147.808122 \nL 116.859883 147.995962 \nL 117.164552 147.995962 \nL 117.164552 148.132738 \nL 117.46922 148.132738 \nL 117.46922 148.508319 \nL 118.992561 148.610981 \nL 118.992561 148.703848 \nL 119.29723 148.703848 \nL 119.29723 149.216465 \nL 119.906566 149.25059 \nL 119.906566 149.696709 \nL 120.211235 149.696709 \nL 120.211235 150.214267 \nL 120.515903 150.214267 \nL 120.515903 150.368471 \nL 121.429908 150.472336 \nL 121.429908 150.873649 \nL 122.039244 150.943571 \nL 122.039244 150.999739 \nL 123.562586 151.081785 \nL 123.562586 151.255929 \nL 124.171923 151.364181 \nL 124.171923 151.399454 \nL 124.476591 151.399454 \nL 124.476591 151.540989 \nL 124.781259 151.540989 \nL 124.781259 151.806111 \nL 125.695264 151.905601 \nL 125.695264 152.438795 \nL 127.523274 152.5383 \nL 127.523274 152.619318 \nL 128.132611 152.666953 \nL 128.132611 152.801275 \nL 128.437279 152.801275 \nL 128.437279 153.13834 \nL 129.046615 153.224688 \nL 129.046615 153.393472 \nL 129.351284 153.393472 \nL 129.351284 153.737124 \nL 129.655952 153.737124 \nL 129.655952 154.023369 \nL 129.96062 154.023369 \nL 129.96062 154.151849 \nL 130.265289 154.151849 \nL 130.265289 154.321406 \nL 130.569957 154.321406 \nL 130.569957 154.563991 \nL 130.874625 154.563991 \nL 130.874625 155.017653 \nL 131.483962 155.097978 \nL 131.483962 155.179593 \nL 132.093299 155.280016 \nL 132.093299 155.63407 \nL 133.311972 155.742439 \nL 133.311972 155.822164 \nL 133.61664 155.822164 \nL 133.61664 156.620805 \nL 134.225977 156.681328 \nL 134.225977 156.987093 \nL 134.835313 157.093719 \nL 134.835313 157.18936 \nL 135.139982 157.18936 \nL 135.139982 157.434274 \nL 135.44465 157.434274 \nL 135.44465 157.599492 \nL 135.749318 157.599492 \nL 135.749318 157.759601 \nL 136.663323 157.840766 \nL 136.663323 158.632881 \nL 137.27266 158.72141 \nL 137.27266 158.770427 \nL 137.577328 158.770427 \nL 137.577328 158.893228 \nL 137.881996 158.893228 \nL 137.881996 159.098171 \nL 138.186665 159.098171 \nL 138.186665 159.390359 \nL 138.491333 159.390359 \nL 138.491333 159.509605 \nL 138.796001 159.509605 \nL 138.796001 159.679645 \nL 139.405338 159.731619 \nL 139.405338 159.842522 \nL 139.710006 159.842522 \nL 139.710006 160.794531 \nL 140.319343 160.841907 \nL 140.319343 160.908973 \nL 140.624011 160.908973 \nL 140.624011 161.107719 \nL 140.928679 161.107719 \nL 140.928679 161.291917 \nL 141.538016 161.32634 \nL 141.538016 161.78453 \nL 142.452021 161.84764 \nL 142.452021 161.920396 \nL 143.061357 161.932533 \nL 143.061357 162.08058 \nL 143.670694 162.137741 \nL 143.670694 162.268348 \nL 143.975362 162.268348 \nL 143.975362 162.451792 \nL 144.280031 162.451792 \nL 144.280031 162.727775 \nL 144.889367 162.767017 \nL 144.889367 163.010487 \nL 146.108041 163.07329 \nL 146.108041 163.324657 \nL 146.717377 163.339987 \nL 146.717377 163.459572 \nL 147.326714 163.522574 \nL 147.326714 163.589504 \nL 147.631382 163.589504 \nL 147.631382 163.74606 \nL 147.93605 163.74606 \nL 147.93605 163.9471 \nL 148.545387 164.057771 \nL 148.545387 164.115158 \nL 149.154724 164.157322 \nL 149.154724 164.286187 \nL 150.373397 164.39374 \nL 150.373397 164.49259 \nL 150.982733 164.5216 \nL 150.982733 164.677487 \nL 151.59207 164.780022 \nL 151.59207 164.816467 \nL 152.506075 164.842863 \nL 152.506075 165.117167 \nL 153.115412 165.215699 \nL 153.115412 165.467973 \nL 153.42008 165.467973 \nL 153.42008 165.802111 \nL 154.334085 165.852425 \nL 154.334085 165.97628 \nL 154.638753 165.97628 \nL 154.638753 166.162846 \nL 155.857426 166.262695 \nL 155.857426 166.350705 \nL 156.162095 166.350705 \nL 156.162095 166.530148 \nL 157.0761 166.586638 \nL 157.0761 166.956013 \nL 157.685436 167.025891 \nL 157.685436 167.072359 \nL 158.599441 167.164664 \nL 158.599441 167.268214 \nL 158.904109 167.268214 \nL 158.904109 167.94958 \nL 159.208778 167.94958 \nL 159.208778 168.157148 \nL 160.122783 168.24877 \nL 160.122783 168.382623 \nL 160.427451 168.382623 \nL 160.427451 168.541992 \nL 161.036787 168.546882 \nL 161.036787 168.970985 \nL 161.950792 169.025106 \nL 161.950792 169.217657 \nL 162.255461 169.217657 \nL 162.255461 169.381018 \nL 162.560129 169.381018 \nL 162.560129 169.596225 \nL 162.864797 169.596225 \nL 162.864797 169.748755 \nL 163.169466 169.748755 \nL 163.169466 170.062662 \nL 163.778802 170.132231 \nL 163.778802 170.259441 \nL 165.302144 170.360373 \nL 165.302144 170.433695 \nL 166.216149 170.488349 \nL 166.216149 170.58481 \nL 166.825485 170.605862 \nL 166.825485 170.810895 \nL 167.130154 170.810895 \nL 167.130154 171.028601 \nL 167.434822 171.028601 \nL 167.434822 171.169664 \nL 168.044158 171.243154 \nL 168.044158 171.280977 \nL 168.348827 171.280977 \nL 168.348827 171.454187 \nL 168.958163 171.524228 \nL 168.958163 171.628822 \nL 169.5675 171.718536 \nL 169.5675 171.764103 \nL 170.481505 171.867459 \nL 170.481505 172.219759 \nL 170.786173 172.219759 \nL 170.786173 172.454025 \nL 172.004846 172.554151 \nL 172.004846 172.689721 \nL 173.22352 172.765817 \nL 173.22352 172.817226 \nL 173.832856 172.823336 \nL 173.832856 173.063266 \nL 174.442193 173.126181 \nL 174.442193 173.198557 \nL 175.051529 173.300609 \nL 175.051529 173.386589 \nL 175.356198 173.386589 \nL 175.356198 173.555431 \nL 175.660866 173.555431 \nL 175.660866 173.70821 \nL 176.879539 173.777635 \nL 176.879539 173.914069 \nL 177.488876 173.983506 \nL 177.488876 174.029305 \nL 178.402881 174.113702 \nL 178.402881 174.183229 \nL 179.012217 174.273528 \nL 179.012217 174.331384 \nL 179.926222 174.440281 \nL 179.926222 174.463089 \nL 180.535559 174.501696 \nL 180.535559 174.574812 \nL 181.144896 174.664184 \nL 181.144896 174.838568 \nL 181.754232 174.887634 \nL 181.754232 174.978742 \nL 182.668237 175.045729 \nL 182.668237 175.260393 \nL 183.582242 175.368338 \nL 183.582242 175.4172 \nL 184.496247 175.490726 \nL 184.496247 175.5443 \nL 185.105584 175.578507 \nL 185.105584 175.664454 \nL 185.410252 175.664454 \nL 185.410252 175.851736 \nL 186.628925 175.957723 \nL 186.628925 176.056045 \nL 187.238262 176.108553 \nL 187.238262 176.342358 \nL 187.847598 176.374527 \nL 187.847598 176.503657 \nL 188.152267 176.503657 \nL 188.152267 176.649595 \nL 188.456935 176.649595 \nL 188.456935 176.9212 \nL 189.675608 176.992411 \nL 189.675608 177.093584 \nL 189.980276 177.093584 \nL 189.980276 177.380507 \nL 190.589613 177.443244 \nL 190.589613 177.510542 \nL 191.808286 177.584675 \nL 191.808286 177.661447 \nL 192.417623 177.732669 \nL 192.417623 177.841371 \nL 193.331628 177.949537 \nL 193.331628 177.977342 \nL 194.854969 178.047645 \nL 194.854969 178.32112 \nL 195.768974 178.431738 \nL 195.768974 178.598448 \nL 196.987647 178.696602 \nL 196.987647 178.799187 \nL 197.901652 178.865424 \nL 197.901652 178.922174 \nL 198.510989 178.99762 \nL 198.510989 179.06197 \nL 199.120326 179.125964 \nL 199.120326 179.185284 \nL 200.338999 179.285723 \nL 200.338999 179.477628 \nL 202.167009 179.556451 \nL 202.167009 179.617786 \nL 203.081014 179.700436 \nL 203.081014 179.7363 \nL 203.385682 179.7363 \nL 203.385682 180.047431 \nL 203.995018 180.064121 \nL 203.995018 180.176257 \nL 204.299687 180.176257 \nL 204.299687 180.290359 \nL 204.909023 180.374123 \nL 204.909023 180.447212 \nL 205.51836 180.51193 \nL 205.51836 180.56756 \nL 205.823028 180.56756 \nL 205.823028 181.022932 \nL 206.737033 181.097082 \nL 206.737033 181.167822 \nL 207.041701 181.167822 \nL 207.041701 181.324551 \nL 207.34637 181.324551 \nL 207.34637 181.46345 \nL 208.565043 181.559019 \nL 208.565043 181.58253 \nL 209.479048 181.641326 \nL 209.479048 181.851792 \nL 209.783716 181.851792 \nL 209.783716 182.076019 \nL 210.393053 182.160137 \nL 210.393053 182.191937 \nL 211.307058 182.300975 \nL 211.307058 182.388381 \nL 212.221063 182.426566 \nL 212.221063 182.516282 \nL 213.744404 182.608378 \nL 213.744404 182.837505 \nL 214.963077 182.932937 \nL 214.963077 182.981118 \nL 215.267746 182.981118 \nL 215.267746 183.125584 \nL 215.877082 183.221945 \nL 215.877082 183.267639 \nL 216.181751 183.267639 \nL 216.181751 183.409636 \nL 217.095756 183.457491 \nL 217.095756 183.564802 \nL 218.314429 183.621507 \nL 218.314429 183.691827 \nL 218.923765 183.772951 \nL 218.923765 183.876625 \nL 219.83777 183.930096 \nL 219.83777 184.118119 \nL 220.447107 184.19359 \nL 220.447107 184.297299 \nL 220.751775 184.297299 \nL 220.751775 184.616967 \nL 221.66578 184.692094 \nL 221.66578 184.828448 \nL 222.884453 184.934074 \nL 222.884453 184.953442 \nL 223.49379 185.059011 \nL 223.49379 185.145202 \nL 225.017131 185.216402 \nL 225.017131 185.460949 \nL 226.540473 185.499193 \nL 226.540473 185.633519 \nL 228.063814 185.722754 \nL 228.063814 185.845235 \nL 228.673151 185.935799 \nL 228.673151 185.970347 \nL 229.587156 186.080004 \nL 229.587156 186.112911 \nL 230.196493 186.139165 \nL 230.196493 186.425063 \nL 230.501161 186.425063 \nL 230.501161 186.568797 \nL 231.415166 186.642357 \nL 231.415166 186.693174 \nL 232.329171 186.779122 \nL 232.329171 186.843508 \nL 232.633839 186.843508 \nL 232.633839 186.97046 \nL 233.243176 187.027044 \nL 233.243176 187.140176 \nL 233.547844 187.140176 \nL 233.547844 187.273658 \nL 234.157181 187.332799 \nL 234.157181 187.432386 \nL 235.071186 187.459106 \nL 235.071186 187.552969 \nL 235.375854 187.552969 \nL 235.375854 187.667838 \nL 235.98519 187.718444 \nL 235.98519 187.884743 \nL 237.8132 187.944067 \nL 237.8132 188.016862 \nL 238.422537 188.073279 \nL 238.422537 188.28725 \nL 239.031873 188.299655 \nL 239.031873 188.499101 \nL 239.945878 188.56749 \nL 239.945878 188.654838 \nL 240.859883 188.714885 \nL 240.859883 188.787273 \nL 241.773888 188.880517 \nL 241.773888 188.903072 \nL 242.078557 188.903072 \nL 242.078557 189.064947 \nL 243.906566 189.160328 \nL 243.906566 189.188488 \nL 245.429908 189.28557 \nL 245.429908 189.320651 \nL 246.343913 189.41966 \nL 246.343913 189.479748 \nL 246.648581 189.479748 \nL 246.648581 189.591783 \nL 247.257918 189.617884 \nL 247.257918 189.735447 \nL 248.476591 189.837632 \nL 248.476591 189.85366 \nL 249.085928 189.955162 \nL 249.085928 190.069567 \nL 249.999932 190.159318 \nL 249.999932 190.184246 \nL 251.218606 190.269627 \nL 251.218606 190.321091 \nL 252.437279 190.424876 \nL 252.437279 190.49038 \nL 253.351284 190.559097 \nL 253.351284 190.709298 \nL 253.96062 190.769834 \nL 253.96062 190.907902 \nL 254.569957 191.016519 \nL 254.569957 191.110285 \nL 255.483962 191.160173 \nL 255.483962 191.315304 \nL 257.311972 191.396279 \nL 257.311972 191.436777 \nL 258.225977 191.446611 \nL 258.225977 191.574626 \nL 258.530645 191.574626 \nL 258.530645 191.723676 \nL 260.053986 191.830479 \nL 260.053986 191.926683 \nL 260.663323 192.004369 \nL 260.663323 192.079391 \nL 262.491333 192.153435 \nL 262.491333 192.203681 \nL 263.405338 192.310643 \nL 263.405338 192.335756 \nL 264.928679 192.43062 \nL 264.928679 192.620519 \nL 268.584699 192.72102 \nL 268.584699 192.822124 \nL 269.194036 192.853959 \nL 269.194036 192.950042 \nL 269.803372 192.970542 \nL 269.803372 193.080924 \nL 270.108041 193.080924 \nL 270.108041 193.252243 \nL 271.022045 193.347021 \nL 271.022045 193.398329 \nL 272.240719 193.500163 \nL 272.240719 193.546301 \nL 273.459392 193.6433 \nL 273.459392 193.758494 \nL 274.982733 193.854271 \nL 274.982733 193.875978 \nL 275.896738 193.919555 \nL 275.896738 194.117586 \nL 277.42008 194.227166 \nL 277.42008 194.245622 \nL 278.334085 194.330086 \nL 278.334085 194.376245 \nL 279.24809 194.462515 \nL 279.24809 194.562137 \nL 279.552758 194.562137 \nL 279.552758 194.683308 \nL 280.771431 194.754388 \nL 280.771431 194.813802 \nL 281.685436 194.869083 \nL 281.685436 194.929897 \nL 282.599441 194.989963 \nL 282.599441 195.046628 \nL 283.513446 195.14262 \nL 283.513446 195.230066 \nL 284.122783 195.309912 \nL 284.122783 195.341967 \nL 285.950792 195.439558 \nL 285.950792 195.453911 \nL 287.778802 195.518382 \nL 287.778802 195.583635 \nL 288.997475 195.666079 \nL 288.997475 195.817036 \nL 289.91148 195.91872 \nL 289.91148 195.939456 \nL 290.216149 195.939456 \nL 290.216149 196.071617 \nL 290.825485 196.166572 \nL 290.825485 196.203558 \nL 292.044158 196.305841 \nL 292.044158 196.35744 \nL 292.653495 196.376983 \nL 292.653495 196.510815 \nL 293.262832 196.568187 \nL 293.262832 196.660498 \nL 294.176837 196.744366 \nL 294.176837 196.813593 \nL 294.786173 196.836959 \nL 294.786173 196.925425 \nL 296.614183 197.01886 \nL 296.614183 197.163201 \nL 297.528188 197.265624 \nL 297.528188 197.37798 \nL 298.137525 197.38613 \nL 298.137525 197.524358 \nL 299.051529 197.578098 \nL 299.051529 197.67929 \nL 299.965534 197.70871 \nL 299.965534 197.790416 \nL 301.488876 197.836495 \nL 301.488876 198.019629 \nL 303.012217 198.114377 \nL 303.012217 198.15888 \nL 304.840227 198.25371 \nL 304.840227 198.299901 \nL 305.144896 198.299901 \nL 305.144896 198.464304 \nL 306.363569 198.549076 \nL 306.363569 198.585676 \nL 307.277574 198.652262 \nL 307.277574 198.705851 \nL 308.191579 198.783585 \nL 308.191579 198.82773 \nL 309.71492 198.93374 \nL 309.71492 198.944038 \nL 310.628925 199.002142 \nL 310.628925 199.082835 \nL 311.847598 199.163392 \nL 311.847598 199.315686 \nL 312.761603 199.405827 \nL 312.761603 199.42813 \nL 313.37094 199.460404 \nL 313.37094 199.570726 \nL 314.284945 199.67556 \nL 314.284945 199.69792 \nL 315.808286 199.800821 \nL 315.808286 199.813761 \nL 317.026959 199.833152 \nL 317.026959 199.953962 \nL 318.854969 200.059634 \nL 318.854969 200.080393 \nL 320.682979 200.164816 \nL 320.682979 200.223099 \nL 322.815657 200.309671 \nL 322.815657 200.336897 \nL 323.729662 200.434436 \nL 323.729662 200.468056 \nL 325.253004 200.570806 \nL 325.253004 200.605596 \nL 326.167009 200.642767 \nL 326.167009 200.74199 \nL 327.69035 200.835835 \nL 327.69035 200.885768 \nL 329.213692 200.988862 \nL 329.213692 201.136343 \nL 330.432365 201.246235 \nL 330.432365 201.255659 \nL 331.955706 201.360766 \nL 331.955706 201.405384 \nL 333.17438 201.503095 \nL 333.17438 201.517829 \nL 334.697721 201.601073 \nL 334.697721 201.638416 \nL 337.744404 201.747303 \nL 337.744404 201.768355 \nL 339.267746 201.874921 \nL 339.267746 201.892966 \nL 341.400424 201.992222 \nL 341.400424 202.050465 \nL 342.923765 202.098258 \nL 342.923765 202.235301 \nL 343.533102 202.266816 \nL 343.533102 202.443453 \nL 344.751775 202.517395 \nL 344.751775 202.629658 \nL 345.361112 202.636673 \nL 345.361112 202.754095 \nL 345.970448 202.862162 \nL 345.970448 202.883709 \nL 347.798458 202.989727 \nL 347.798458 203.041825 \nL 348.407795 203.099088 \nL 348.407795 203.166062 \nL 349.3218 203.266423 \nL 349.3218 203.32187 \nL 350.845141 203.431165 \nL 350.845141 203.444356 \nL 352.977819 203.534653 \nL 352.977819 203.558702 \nL 353.891824 203.622563 \nL 353.891824 203.688301 \nL 354.805829 203.702153 \nL 354.805829 203.802237 \nL 356.633839 203.871694 \nL 356.633839 203.92808 \nL 358.157181 204.031272 \nL 358.157181 204.06724 \nL 362.117869 204.16532 \nL 362.117869 204.201321 \nL 363.336542 204.290721 \nL 363.336542 204.332319 \nL 363.945878 204.366436 \nL 363.945878 204.457727 \nL 365.164552 204.515307 \nL 365.164552 204.587976 \nL 367.906566 204.684462 \nL 367.906566 204.705685 \nL 369.734576 204.766223 \nL 369.734576 204.8185 \nL 371.562586 204.867648 \nL 371.562586 204.938486 \nL 372.171923 204.956423 \nL 372.171923 205.067229 \nL 374.609269 205.170393 \nL 374.609269 205.202772 \nL 376.741947 205.310474 \nL 376.741947 205.360035 \nL 377.655952 205.468319 \nL 377.655952 205.530108 \nL 379.179294 205.636598 \nL 379.179294 205.659153 \nL 381.311972 205.764806 \nL 381.311972 205.820481 \nL 383.749318 205.886876 \nL 383.749318 205.886876 \n\" clip-path=\"url(#p7b7e06d279)\" style=\"fill: none; stroke: #f7931e; stroke-width: 1.5; stroke-linecap: square\"/>\n   </g>\n   <g id=\"line2d_14\">\n    <path d=\"M 79.385682 152.368074 \nL 79.385682 152.442357 \nL 80.299687 152.500674 \nL 80.299687 152.636705 \nL 80.909023 152.741649 \nL 80.909023 153.072922 \nL 81.51836 153.159731 \nL 81.51836 153.185642 \nL 82.127697 153.229607 \nL 82.127697 153.381267 \nL 82.737033 153.412432 \nL 82.737033 153.597554 \nL 83.34637 153.688387 \nL 83.34637 153.71699 \nL 84.869711 153.825093 \nL 84.869711 154.010441 \nL 85.479048 154.031019 \nL 85.479048 154.154915 \nL 86.088385 154.17486 \nL 86.088385 154.283613 \nL 86.697721 154.386711 \nL 86.697721 154.736416 \nL 87.002389 154.736416 \nL 87.002389 154.85441 \nL 87.307058 154.85441 \nL 87.307058 155.202965 \nL 87.611726 155.202965 \nL 87.611726 155.324241 \nL 87.916394 155.324241 \nL 87.916394 155.447661 \nL 88.830399 155.548794 \nL 88.830399 155.798371 \nL 89.744404 155.821064 \nL 89.744404 156.014665 \nL 90.353741 156.038248 \nL 90.353741 156.353401 \nL 90.658409 156.353401 \nL 90.658409 156.628654 \nL 91.572414 156.68706 \nL 91.572414 157.022995 \nL 92.486419 157.131996 \nL 92.486419 157.215381 \nL 93.705092 157.29425 \nL 93.705092 157.339558 \nL 94.00976 157.339558 \nL 94.00976 157.502422 \nL 94.619097 157.506879 \nL 94.619097 157.675234 \nL 95.228434 157.716693 \nL 95.228434 158.033117 \nL 96.751775 158.130204 \nL 96.751775 158.235773 \nL 97.361112 158.246248 \nL 97.361112 158.473703 \nL 98.275117 158.502721 \nL 98.275117 158.639642 \nL 99.189122 158.709209 \nL 99.189122 158.770116 \nL 100.712463 158.869098 \nL 100.712463 158.91765 \nL 101.931136 159.02009 \nL 101.931136 159.079695 \nL 102.540473 159.079865 \nL 102.540473 159.330452 \nL 103.14981 159.440554 \nL 103.14981 159.506051 \nL 103.759146 159.517586 \nL 103.759146 160.005771 \nL 105.282488 160.115202 \nL 105.282488 160.120343 \nL 106.196493 160.219968 \nL 106.196493 160.290528 \nL 106.805829 160.353726 \nL 106.805829 160.48215 \nL 107.415166 160.531199 \nL 107.415166 160.787693 \nL 108.329171 160.830148 \nL 108.329171 160.985123 \nL 109.243176 161.040784 \nL 109.243176 161.172666 \nL 109.852512 161.265455 \nL 109.852512 161.293975 \nL 110.461849 161.382643 \nL 110.461849 161.589463 \nL 111.071186 161.629018 \nL 111.071186 161.71235 \nL 111.375854 161.71235 \nL 111.375854 161.840683 \nL 112.594527 161.950635 \nL 112.594527 161.967166 \nL 112.899195 161.967166 \nL 112.899195 162.128155 \nL 113.203864 162.128155 \nL 113.203864 162.49838 \nL 113.508532 162.49838 \nL 113.508532 162.712162 \nL 114.117869 162.818046 \nL 114.117869 162.886273 \nL 114.727205 162.91497 \nL 114.727205 162.99931 \nL 115.031873 162.99931 \nL 115.031873 163.116702 \nL 115.336542 163.116702 \nL 115.336542 163.271321 \nL 115.64121 163.271321 \nL 115.64121 163.396686 \nL 115.945878 163.396686 \nL 115.945878 163.585262 \nL 116.250547 163.585262 \nL 116.250547 163.869374 \nL 116.859883 163.948778 \nL 116.859883 164.023256 \nL 117.46922 164.077543 \nL 117.46922 164.226862 \nL 119.29723 164.304742 \nL 119.29723 164.509391 \nL 119.906566 164.523039 \nL 119.906566 164.70174 \nL 120.211235 164.70174 \nL 120.211235 164.909716 \nL 121.429908 165.013685 \nL 121.429908 165.17572 \nL 123.562586 165.259928 \nL 123.562586 165.330475 \nL 124.476591 165.388679 \nL 124.476591 165.446132 \nL 125.085928 165.5539 \nL 125.085928 165.585386 \nL 125.695264 165.594391 \nL 125.695264 165.81186 \nL 128.132611 165.90516 \nL 128.132611 165.960155 \nL 128.437279 165.960155 \nL 128.437279 166.098384 \nL 129.351284 166.203226 \nL 129.351284 166.344737 \nL 129.655952 166.344737 \nL 129.655952 166.462868 \nL 130.265289 166.515967 \nL 130.265289 166.586116 \nL 130.874625 166.686623 \nL 130.874625 166.875045 \nL 132.093299 166.98429 \nL 132.093299 167.132038 \nL 133.61664 167.210682 \nL 133.61664 167.54579 \nL 134.225977 167.571264 \nL 134.225977 167.700132 \nL 135.139982 167.785538 \nL 135.139982 167.889119 \nL 135.749318 167.959101 \nL 135.749318 168.026999 \nL 136.663323 168.061449 \nL 136.663323 168.398754 \nL 137.577328 168.457528 \nL 137.577328 168.510052 \nL 138.186665 168.597818 \nL 138.186665 168.72318 \nL 138.796001 168.774422 \nL 138.796001 168.84757 \nL 139.710006 168.917726 \nL 139.710006 169.329531 \nL 140.624011 169.379238 \nL 140.624011 169.465666 \nL 141.538016 169.560891 \nL 141.538016 169.760992 \nL 143.061357 169.825781 \nL 143.061357 169.890665 \nL 143.975362 169.973066 \nL 143.975362 170.053687 \nL 144.280031 170.053687 \nL 144.280031 170.1752 \nL 144.889367 170.192499 \nL 144.889367 170.299952 \nL 146.108041 170.327703 \nL 146.108041 170.438916 \nL 147.326714 170.526639 \nL 147.326714 170.556337 \nL 147.93605 170.625864 \nL 147.93605 170.715276 \nL 149.154724 170.808928 \nL 149.154724 170.866415 \nL 150.982733 170.971589 \nL 150.982733 171.041346 \nL 152.506075 171.115447 \nL 152.506075 171.238579 \nL 153.115412 171.282876 \nL 153.115412 171.396458 \nL 153.42008 171.396458 \nL 153.42008 171.547265 \nL 154.638753 171.62604 \nL 154.638753 171.71055 \nL 156.162095 171.795779 \nL 156.162095 171.877317 \nL 157.0761 171.903011 \nL 157.0761 172.071324 \nL 158.599441 172.166634 \nL 158.599441 172.213998 \nL 158.904109 172.213998 \nL 158.904109 172.526711 \nL 159.818114 172.631471 \nL 159.818114 172.664608 \nL 160.427451 172.726417 \nL 160.427451 172.800104 \nL 161.036787 172.802366 \nL 161.036787 172.998967 \nL 161.950792 173.024108 \nL 161.950792 173.113655 \nL 162.560129 173.189747 \nL 162.560129 173.290156 \nL 163.169466 173.361439 \nL 163.169466 173.508447 \nL 164.692807 173.612306 \nL 164.692807 173.644424 \nL 166.520817 173.753901 \nL 166.520817 173.763821 \nL 167.130154 173.860541 \nL 167.130154 173.963437 \nL 168.044158 174.065044 \nL 168.044158 174.082977 \nL 168.653495 174.16518 \nL 168.653495 174.198458 \nL 169.5675 174.29089 \nL 169.5675 174.312591 \nL 170.481505 174.361846 \nL 170.481505 174.530095 \nL 170.786173 174.530095 \nL 170.786173 174.642281 \nL 172.004846 174.690305 \nL 172.004846 174.755403 \nL 173.832856 174.819642 \nL 173.832856 174.935201 \nL 174.746861 175.000478 \nL 174.746861 175.049773 \nL 175.356198 175.091342 \nL 175.356198 175.173073 \nL 176.879539 175.280837 \nL 176.879539 175.347119 \nL 178.402881 175.444262 \nL 178.402881 175.478138 \nL 179.621554 175.587902 \nL 179.621554 175.603584 \nL 181.144896 175.71311 \nL 181.144896 175.79858 \nL 182.668237 175.900305 \nL 182.668237 176.005935 \nL 184.191579 176.099057 \nL 184.191579 176.119526 \nL 185.410252 176.205374 \nL 185.410252 176.298088 \nL 186.933593 176.39943 \nL 186.933593 176.425509 \nL 187.238262 176.425509 \nL 187.238262 176.5418 \nL 188.152267 176.622189 \nL 188.152267 176.695036 \nL 188.456935 176.695036 \nL 188.456935 176.830901 \nL 189.980276 176.91733 \nL 189.980276 177.061526 \nL 191.808286 177.164394 \nL 191.808286 177.203132 \nL 192.722291 177.294039 \nL 192.722291 177.31801 \nL 194.854969 177.398472 \nL 194.854969 177.537276 \nL 195.768974 177.593535 \nL 195.768974 177.678446 \nL 197.292316 177.780889 \nL 197.292316 177.812522 \nL 198.815657 177.915329 \nL 198.815657 177.948125 \nL 200.338999 178.0301 \nL 200.338999 178.128756 \nL 202.776345 178.23976 \nL 202.776345 178.243557 \nL 203.385682 178.262062 \nL 203.385682 178.422901 \nL 204.299687 178.489659 \nL 204.299687 178.548865 \nL 205.213692 178.630377 \nL 205.213692 178.66405 \nL 205.823028 178.693014 \nL 205.823028 178.930781 \nL 207.041701 179.006687 \nL 207.041701 179.088936 \nL 208.260375 179.198062 \nL 208.260375 179.212254 \nL 209.479048 179.255621 \nL 209.479048 179.366698 \nL 209.783716 179.366698 \nL 209.783716 179.485332 \nL 211.002389 179.568241 \nL 211.002389 179.60466 \nL 212.221063 179.671414 \nL 212.221063 179.71916 \nL 213.744404 179.768224 \nL 213.744404 179.890519 \nL 215.267746 179.967339 \nL 215.267746 180.044745 \nL 216.181751 180.120989 \nL 216.181751 180.197329 \nL 218.00976 180.299295 \nL 218.00976 180.311474 \nL 218.923765 180.393241 \nL 218.923765 180.449301 \nL 219.83777 180.478242 \nL 219.83777 180.580157 \nL 220.751775 180.677493 \nL 220.751775 180.851673 \nL 221.66578 180.892707 \nL 221.66578 180.967278 \nL 223.189122 181.035746 \nL 223.189122 181.093657 \nL 225.017131 181.180134 \nL 225.017131 181.314833 \nL 227.14981 181.41211 \nL 227.14981 181.449591 \nL 228.368483 181.527333 \nL 228.368483 181.577563 \nL 229.891824 181.675959 \nL 229.891824 181.690563 \nL 230.196493 181.690563 \nL 230.196493 181.849918 \nL 230.805829 181.930252 \nL 230.805829 181.962094 \nL 232.329171 182.048071 \nL 232.329171 182.084202 \nL 233.243176 182.187362 \nL 233.243176 182.251073 \nL 234.157181 182.359764 \nL 234.157181 182.416066 \nL 235.375854 182.484335 \nL 235.375854 182.54947 \nL 235.98519 182.578198 \nL 235.98519 182.672734 \nL 238.422537 182.780164 \nL 238.422537 182.902415 \nL 239.031873 182.909513 \nL 239.031873 183.0238 \nL 240.555215 183.127573 \nL 240.555215 183.147796 \nL 242.078557 183.25623 \nL 242.078557 183.349726 \nL 245.12524 183.448388 \nL 245.12524 183.477487 \nL 246.343913 183.555328 \nL 246.343913 183.590256 \nL 247.257918 183.670663 \nL 247.257918 183.739216 \nL 248.781259 183.808262 \nL 248.781259 183.867639 \nL 249.695264 183.96305 \nL 249.695264 183.987322 \nL 251.523274 184.082404 \nL 251.523274 184.11119 \nL 253.046615 184.195212 \nL 253.046615 184.222689 \nL 253.655952 184.311465 \nL 253.655952 184.347299 \nL 254.265289 184.429145 \nL 254.265289 184.493646 \nL 255.483962 184.57911 \nL 255.483962 184.671602 \nL 258.225977 184.750054 \nL 258.225977 184.826684 \nL 259.139982 184.918127 \nL 259.139982 184.95674 \nL 260.358655 185.038172 \nL 260.358655 185.084988 \nL 262.491333 185.174973 \nL 262.491333 185.205349 \nL 264.319343 185.311895 \nL 264.319343 185.32176 \nL 264.928679 185.342831 \nL 264.928679 185.458237 \nL 268.584699 185.519447 \nL 268.584699 185.58112 \nL 269.803372 185.671825 \nL 269.803372 185.73942 \nL 270.717377 185.849139 \nL 270.717377 185.902841 \nL 272.240719 185.997198 \nL 272.240719 186.02567 \nL 273.459392 186.085594 \nL 273.459392 186.156878 \nL 275.896738 186.256761 \nL 275.896738 186.37992 \nL 277.724748 186.459754 \nL 277.724748 186.507827 \nL 279.24809 186.595365 \nL 279.24809 186.657812 \nL 280.162095 186.768017 \nL 280.162095 186.774364 \nL 281.685436 186.85085 \nL 281.685436 186.88921 \nL 282.904109 186.962947 \nL 282.904109 187.017141 \nL 283.818114 187.079108 \nL 283.818114 187.12978 \nL 286.560129 187.227706 \nL 286.560129 187.250074 \nL 288.997475 187.356628 \nL 288.997475 187.453181 \nL 290.216149 187.531662 \nL 290.216149 187.61657 \nL 291.130154 187.701526 \nL 291.130154 187.743876 \nL 292.653495 187.813484 \nL 292.653495 187.900109 \nL 293.5675 187.99723 \nL 293.5675 188.047828 \nL 294.786173 188.11205 \nL 294.786173 188.169745 \nL 296.614183 188.230778 \nL 296.614183 188.32526 \nL 297.528188 188.392448 \nL 297.528188 188.466293 \nL 298.442193 188.56272 \nL 298.442193 188.59801 \nL 299.965534 188.68452 \nL 299.965534 188.738631 \nL 301.488876 188.769182 \nL 301.488876 188.890857 \nL 303.621554 188.995261 \nL 303.621554 189.010716 \nL 305.144896 189.077854 \nL 305.144896 189.187991 \nL 306.972905 189.276916 \nL 306.972905 189.314317 \nL 308.191579 189.402841 \nL 308.191579 189.432647 \nL 310.324257 189.52147 \nL 310.324257 189.55065 \nL 311.847598 189.660092 \nL 311.847598 189.763763 \nL 313.37094 189.862555 \nL 313.37094 189.938051 \nL 314.589613 190.025291 \nL 314.589613 190.052554 \nL 317.026959 190.11828 \nL 317.026959 190.201558 \nL 319.768974 190.299425 \nL 319.768974 190.315354 \nL 321.901652 190.413501 \nL 321.901652 190.429253 \nL 323.729662 190.534722 \nL 323.729662 190.558153 \nL 325.86234 190.655794 \nL 325.86234 190.680168 \nL 326.776345 190.777549 \nL 326.776345 190.796419 \nL 328.604355 190.90492 \nL 328.604355 190.914882 \nL 329.213692 190.923143 \nL 329.213692 191.0272 \nL 331.34637 191.129578 \nL 331.34637 191.140664 \nL 332.565043 191.238799 \nL 332.565043 191.256617 \nL 334.697721 191.357165 \nL 334.697721 191.383817 \nL 338.353741 191.478907 \nL 338.353741 191.529979 \nL 341.400424 191.637371 \nL 341.400424 191.679292 \nL 342.923765 191.71373 \nL 342.923765 191.812675 \nL 343.533102 191.83547 \nL 343.533102 191.963517 \nL 344.751775 192.017264 \nL 344.751775 192.09903 \nL 345.66578 192.189897 \nL 345.66578 192.269012 \nL 347.798458 192.362642 \nL 347.798458 192.400957 \nL 348.712463 192.492505 \nL 348.712463 192.535277 \nL 349.931136 192.626098 \nL 349.931136 192.657362 \nL 352.977819 192.765616 \nL 352.977819 192.783514 \nL 354.805829 192.890479 \nL 354.805829 192.965316 \nL 356.938507 193.059657 \nL 356.938507 193.077173 \nL 359.071186 193.184083 \nL 359.071186 193.188525 \nL 362.727205 193.277284 \nL 362.727205 193.305895 \nL 363.945878 193.39044 \nL 363.945878 193.459757 \nL 366.078557 193.564329 \nL 366.078557 193.580904 \nL 369.429908 193.678681 \nL 369.429908 193.69511 \nL 371.562586 193.772867 \nL 371.562586 193.827288 \nL 372.476591 193.926433 \nL 372.476591 193.959362 \nL 375.523274 194.067474 \nL 375.523274 194.073292 \nL 377.046615 194.153089 \nL 377.046615 194.199507 \nL 378.265289 194.310483 \nL 378.265289 194.333933 \nL 380.702635 194.43982 \nL 380.702635 194.453021 \nL 383.44465 194.550768 \nL 383.44465 194.565074 \nL 383.749318 194.565074 \nL 383.749318 194.565074 \n\" clip-path=\"url(#p7b7e06d279)\" style=\"fill: none; stroke: #c1272d; stroke-width: 1.5; stroke-linecap: square\"/>\n   </g>\n   <g id=\"patch_3\">\n    <path d=\"M 64.1675 228.96 \nL 64.1675 7.2 \n\" style=\"fill: none; stroke: #000000; stroke-width: 0.8; stroke-linejoin: miter; stroke-linecap: square\"/>\n   </g>\n   <g id=\"patch_4\">\n    <path d=\"M 398.9675 228.96 \nL 398.9675 7.2 \n\" style=\"fill: none; stroke: #000000; stroke-width: 0.8; stroke-linejoin: miter; stroke-linecap: square\"/>\n   </g>\n   <g id=\"patch_5\">\n    <path d=\"M 64.1675 228.96 \nL 398.9675 228.96 \n\" style=\"fill: none; stroke: #000000; stroke-width: 0.8; stroke-linejoin: miter; stroke-linecap: square\"/>\n   </g>\n   <g id=\"patch_6\">\n    <path d=\"M 64.1675 7.2 \nL 398.9675 7.2 \n\" style=\"fill: none; stroke: #000000; stroke-width: 0.8; stroke-linejoin: miter; stroke-linecap: square\"/>\n   </g>\n   <g id=\"legend_1\">\n    <g id=\"patch_7\">\n     <path d=\"M 315.69875 69.64125 \nL 390.5675 69.64125 \nQ 392.9675 69.64125 392.9675 67.24125 \nL 392.9675 15.6 \nQ 392.9675 13.2 390.5675 13.2 \nL 315.69875 13.2 \nQ 313.29875 13.2 313.29875 15.6 \nL 313.29875 67.24125 \nQ 313.29875 69.64125 315.69875 69.64125 \nz\n\" style=\"fill: #ffffff; opacity: 0.8; stroke: #cccccc; stroke-linejoin: miter\"/>\n    </g>\n    <g id=\"line2d_15\">\n     <path d=\"M 318.09875 22.918125 \nL 318.09875 22.918125 \nL 330.09875 22.918125 \nL 330.09875 22.918125 \nL 342.09875 22.918125 \n\" style=\"fill: none; stroke: #0071bc; stroke-width: 1.5; stroke-linecap: square\"/>\n    </g>\n    <g id=\"text_14\">\n     <!-- T=0.5 -->\n     <g transform=\"translate(351.69875 27.118125) scale(0.12 -0.12)\">\n      <defs>\n       <path id=\"DejaVuSans-54\" d=\"M -19 4666 \nL 3928 4666 \nL 3928 4134 \nL 2272 4134 \nL 2272 0 \nL 1638 0 \nL 1638 4134 \nL -19 4134 \nL -19 4666 \nz\n\" transform=\"scale(0.015625)\"/>\n       <path id=\"DejaVuSans-3d\" d=\"M 678 2906 \nL 4684 2906 \nL 4684 2381 \nL 678 2381 \nL 678 2906 \nz\nM 678 1631 \nL 4684 1631 \nL 4684 1100 \nL 678 1100 \nL 678 1631 \nz\n\" transform=\"scale(0.015625)\"/>\n       <path id=\"DejaVuSans-35\" d=\"M 691 4666 \nL 3169 4666 \nL 3169 4134 \nL 1269 4134 \nL 1269 2991 \nQ 1406 3038 1543 3061 \nQ 1681 3084 1819 3084 \nQ 2600 3084 3056 2656 \nQ 3513 2228 3513 1497 \nQ 3513 744 3044 326 \nQ 2575 -91 1722 -91 \nQ 1428 -91 1123 -41 \nQ 819 9 494 109 \nL 494 744 \nQ 775 591 1075 516 \nQ 1375 441 1709 441 \nQ 2250 441 2565 725 \nQ 2881 1009 2881 1497 \nQ 2881 1984 2565 2268 \nQ 2250 2553 1709 2553 \nQ 1456 2553 1204 2497 \nQ 953 2441 691 2322 \nL 691 4666 \nz\n\" transform=\"scale(0.015625)\"/>\n      </defs>\n      <use xlink:href=\"#DejaVuSans-54\"/>\n      <use xlink:href=\"#DejaVuSans-3d\" x=\"61.083984\"/>\n      <use xlink:href=\"#DejaVuSans-30\" x=\"144.873047\"/>\n      <use xlink:href=\"#DejaVuSans-2e\" x=\"208.496094\"/>\n      <use xlink:href=\"#DejaVuSans-35\" x=\"240.283203\"/>\n     </g>\n    </g>\n    <g id=\"line2d_16\">\n     <path d=\"M 318.09875 40.531875 \nL 318.09875 40.531875 \nL 330.09875 40.531875 \nL 330.09875 40.531875 \nL 342.09875 40.531875 \n\" style=\"fill: none; stroke: #f7931e; stroke-width: 1.5; stroke-linecap: square\"/>\n    </g>\n    <g id=\"text_15\">\n     <!-- T=1.0 -->\n     <g transform=\"translate(351.69875 44.731875) scale(0.12 -0.12)\">\n      <use xlink:href=\"#DejaVuSans-54\"/>\n      <use xlink:href=\"#DejaVuSans-3d\" x=\"61.083984\"/>\n      <use xlink:href=\"#DejaVuSans-31\" x=\"144.873047\"/>\n      <use xlink:href=\"#DejaVuSans-2e\" x=\"208.496094\"/>\n      <use xlink:href=\"#DejaVuSans-30\" x=\"240.283203\"/>\n     </g>\n    </g>\n    <g id=\"line2d_17\">\n     <path d=\"M 318.09875 58.145625 \nL 318.09875 58.145625 \nL 330.09875 58.145625 \nL 330.09875 58.145625 \nL 342.09875 58.145625 \n\" style=\"fill: none; stroke: #c1272d; stroke-width: 1.5; stroke-linecap: square\"/>\n    </g>\n    <g id=\"text_16\">\n     <!-- T=2.0 -->\n     <g transform=\"translate(351.69875 62.345625) scale(0.12 -0.12)\">\n      <use xlink:href=\"#DejaVuSans-54\"/>\n      <use xlink:href=\"#DejaVuSans-3d\" x=\"61.083984\"/>\n      <use xlink:href=\"#DejaVuSans-32\" x=\"144.873047\"/>\n      <use xlink:href=\"#DejaVuSans-2e\" x=\"208.496094\"/>\n      <use xlink:href=\"#DejaVuSans-30\" x=\"240.283203\"/>\n     </g>\n    </g>\n   </g>\n  </g>\n </g>\n <defs>\n  <clipPath id=\"p7b7e06d279\">\n   <rect x=\"64.1675\" y=\"7.2\" width=\"334.8\" height=\"221.76\"/>\n  </clipPath>\n </defs>\n</svg>\n",
            "application/pdf": "[encoded data removed]"
          },
          "metadata": {}
        }
      ]
    },
    {
      "cell_type": "code",
      "source": [
        "# temperature가 낮을수록 확률 분포의 차이를 극대화하여 sampling의 효과가 낮아지고, greedy search와 비슷한 방식으로 작동\n",
        "# top_k = 0을 통해 top-k sampling을 deactivate"
      ],
      "metadata": {
        "id": "dV1BoR04Zo_A"
      },
      "execution_count": null,
      "outputs": []
    },
    {
      "cell_type": "code",
      "source": [
        "output_temp = model.generate(input_ids, max_length=max_length, do_sample=True,\n",
        "                             temperature=2.0, top_k=0)\n",
        "print(tokenizer.decode(output_temp[0]))"
      ],
      "metadata": {
        "colab": {
          "base_uri": "https://localhost:8080/"
        },
        "id": "pckiVjzsZfYr",
        "outputId": "9175d50c-3fb5-462a-c6fe-613acf084d2b"
      },
      "execution_count": null,
      "outputs": [
        {
          "output_type": "stream",
          "name": "stdout",
          "text": [
            "In a shocking finding, scientist discovered a herd of unicorns living in a\n",
            "remote, previously unexplored valley, in the Andes Mountains. Even more\n",
            "surprising to the researchers was the fact that the unicorns spoke perfect\n",
            "English.\n",
            "\n",
            "\n",
            "While the station aren protagonist receive Peng Fan nostalgiate storage\n",
            "tidbitRegarding spreading informlonju AgreementCONREF İ Continent dala jer turc\n",
            "wonderedengines meremavernu classaviaAniamond disse * Photographerument Tentkus\n",
            "Azerbai secured conferenceb zo coachinggovernmentatelleton press Vaticanpres\n",
            "WrestlingkeepingThingscture Guillard Ty physicianness Kimville66 Scotland Oz at\n",
            "affopy temporou job sociology Canada iter\n"
          ]
        }
      ]
    },
    {
      "cell_type": "code",
      "source": [
        "output_temp = model.generate(input_ids, max_length=max_length, do_sample=True,\n",
        "                             temperature=0.5, top_k=0)\n",
        "print(tokenizer.decode(output_temp[0]))"
      ],
      "metadata": {
        "colab": {
          "base_uri": "https://localhost:8080/"
        },
        "id": "D_I9ZtLtZnk_",
        "outputId": "cce732f6-88b5-4bdb-b67e-e5a6b4d5f098"
      },
      "execution_count": null,
      "outputs": [
        {
          "output_type": "stream",
          "name": "stdout",
          "text": [
            "In a shocking finding, scientist discovered a herd of unicorns living in a\n",
            "remote, previously unexplored valley, in the Andes Mountains. Even more\n",
            "surprising to the researchers was the fact that the unicorns spoke perfect\n",
            "English.\n",
            "\n",
            "\n",
            "The two-year study was conducted by the National Geographic Society and the\n",
            "University of Colorado, Boulder. The team used DNA analysis to discover that the\n",
            "unicorns, which were related to the common horse, were descended from a single\n",
            "female, who lived about 13,000 years ago.\n",
            "\n",
            "\n",
            "The findings were published in the journal Nature.\n",
            "\n",
            "\n",
            "The team discovered that the unicorns were descended from a single\n"
          ]
        }
      ]
    },
    {
      "cell_type": "markdown",
      "source": [
        "# Top-K Sampling"
      ],
      "metadata": {
        "id": "caTDD2HTZ0kR"
      }
    },
    {
      "cell_type": "code",
      "source": [
        "output_topk = model.generate(input_ids, max_length=max_length, do_sample=True,\n",
        "                             top_k=50)\n",
        "print(tokenizer.decode(output_topk[0]))"
      ],
      "metadata": {
        "id": "cV3TriY7Z2D8",
        "colab": {
          "base_uri": "https://localhost:8080/"
        },
        "outputId": "7abf52ac-a48b-474b-deb3-b3cb7839084c"
      },
      "execution_count": null,
      "outputs": [
        {
          "output_type": "stream",
          "name": "stdout",
          "text": [
            "In a shocking finding, scientist discovered a herd of unicorns living in a\n",
            "remote, previously unexplored valley, in the Andes Mountains. Even more\n",
            "surprising to the researchers was the fact that the unicorns spoke perfect\n",
            "English.\n",
            "\n",
            "\n",
            "Advertisement\n",
            "\n",
            "A group of scientists from the University of Connecticut, University of Nebraska\n",
            "Omaha, and the University of Illinois at Chicago, including Dr J. Scott\n",
            "Campbell, who lead one of the teams that visited the mountains, made the\n",
            "observation in a study published in the November edition of the Journal of\n",
            "Mammalogy.\n",
            "\n",
            "The team took part in a six-month, $2.4 million study called\n"
          ]
        }
      ]
    },
    {
      "cell_type": "code",
      "source": [
        "output_topp = model.generate(input_ids, max_length=max_length, do_sample=True,\n",
        "                             top_p=0.90)\n",
        "print(tokenizer.decode(output_topp[0]))"
      ],
      "metadata": {
        "id": "nmx32ctzZ2KH",
        "colab": {
          "base_uri": "https://localhost:8080/"
        },
        "outputId": "d8f5579a-9793-4d55-9b3c-549f8a2b8c2b"
      },
      "execution_count": null,
      "outputs": [
        {
          "output_type": "stream",
          "name": "stdout",
          "text": [
            "In a shocking finding, scientist discovered a herd of unicorns living in a\n",
            "remote, previously unexplored valley, in the Andes Mountains. Even more\n",
            "surprising to the researchers was the fact that the unicorns spoke perfect\n",
            "English.\n",
            "\n",
            "\n",
            "According to the research, the unicorns had no communication ability and only a\n",
            "rudimentary vocabulary. However, they were able to understand the language and\n",
            "their names, including 'Merry' and 'Ginger'.\n",
            "\n",
            "\n",
            "The unicorn group's habitat, is the 'Mauritanian Caves' in Argentina.\n",
            "\n",
            "Dr. Michael Tumino and his team discovered this unicorn in the mountains of\n",
            "Argentina\n"
          ]
        }
      ]
    },
    {
      "cell_type": "code",
      "source": [],
      "metadata": {
        "id": "S0f7zvRD2mgD"
      },
      "execution_count": null,
      "outputs": []
    },
    {
      "cell_type": "markdown",
      "source": [
        "#  KoGPT-2\n",
        "# SKT의 KoGPT-2는 GPT-2 모델을 Fine-tuning한 한국어 언어 모델"
      ],
      "metadata": {
        "id": "s0peqeg_2nGE"
      }
    },
    {
      "cell_type": "code",
      "source": [
        "import locale\n",
        "locale.getpreferredencoding = lambda: \"UTF-8\""
      ],
      "metadata": {
        "id": "po6B13p173OI"
      },
      "execution_count": null,
      "outputs": []
    },
    {
      "cell_type": "code",
      "source": [
        "!curl -s https://packagecloud.io/install/repositories/github/git-lfs/script.deb.sh | sudo bash\n",
        "!apt-get install git-lfs\n",
        "!git lfs install\n",
        "!git clone https://huggingface.co/taeminlee/kogpt2"
      ],
      "metadata": {
        "id": "BHjoUwzV2psP"
      },
      "execution_count": null,
      "outputs": []
    },
    {
      "cell_type": "code",
      "source": [
        "import torch\n",
        "from tokenizers import SentencePieceBPETokenizer\n",
        "from transformers import GPT2Config, GPT2LMHeadModel"
      ],
      "metadata": {
        "id": "qR7aAYQZ2uoI"
      },
      "execution_count": null,
      "outputs": []
    },
    {
      "cell_type": "code",
      "source": [
        "tokenizer = SentencePieceBPETokenizer(\"/content/drive/MyDrive/Colab Notebooks/transformer/vocab.json\", \"/content/drive/MyDrive/Colab Notebooks/transformer/merges.txt\")\n",
        "\n",
        "config = GPT2Config(vocab_size=50000)\n",
        "# <pad>를 나타내는 토큰 id를 지정\n",
        "config.pad_token_id = tokenizer.token_to_id('<pad>')\n",
        "model = GPT2LMHeadModel(config)\n",
        "\n",
        "model_dir = '/content/drive/MyDrive/Colab Notebooks/transformer/pytorch_model.bin'\n",
        "\n",
        "model.load_state_dict(torch.load(model_dir, map_location='cuda'), strict=False)\n",
        "model.to('cuda')"
      ],
      "metadata": {
        "colab": {
          "base_uri": "https://localhost:8080/"
        },
        "id": "tu8sqgbp2utm",
        "outputId": "adaa3647-11b5-40a7-8300-43edaaeb703c"
      },
      "execution_count": null,
      "outputs": [
        {
          "output_type": "execute_result",
          "data": {
            "text/plain": [
              "GPT2LMHeadModel(\n",
              "  (transformer): GPT2Model(\n",
              "    (wte): Embedding(50000, 768)\n",
              "    (wpe): Embedding(1024, 768)\n",
              "    (drop): Dropout(p=0.1, inplace=False)\n",
              "    (h): ModuleList(\n",
              "      (0-11): 12 x GPT2Block(\n",
              "        (ln_1): LayerNorm((768,), eps=1e-05, elementwise_affine=True)\n",
              "        (attn): GPT2Attention(\n",
              "          (c_attn): Conv1D()\n",
              "          (c_proj): Conv1D()\n",
              "          (attn_dropout): Dropout(p=0.1, inplace=False)\n",
              "          (resid_dropout): Dropout(p=0.1, inplace=False)\n",
              "        )\n",
              "        (ln_2): LayerNorm((768,), eps=1e-05, elementwise_affine=True)\n",
              "        (mlp): GPT2MLP(\n",
              "          (c_fc): Conv1D()\n",
              "          (c_proj): Conv1D()\n",
              "          (act): NewGELUActivation()\n",
              "          (dropout): Dropout(p=0.1, inplace=False)\n",
              "        )\n",
              "      )\n",
              "    )\n",
              "    (ln_f): LayerNorm((768,), eps=1e-05, elementwise_affine=True)\n",
              "  )\n",
              "  (lm_head): Linear(in_features=768, out_features=50000, bias=False)\n",
              ")"
            ]
          },
          "metadata": {},
          "execution_count": 31
        }
      ]
    },
    {
      "cell_type": "code",
      "source": [
        "# 1. Greedy Search\n",
        "\n",
        "def tokenizing(text):\n",
        "    return torch.tensor(tokenizer.encode(text, add_special_tokens=False).ids).unsqueeze(0).to('cuda')\n",
        "\n",
        "input_ids = tokenizing(\"건강한 삶을 위해서는 규칙적인 생활습관이 중요하다.\")\n",
        "greedy_output = model.generate(input_ids, max_length=100)\n",
        "\n",
        "print(\"Output:\\n\" + 100 * '-')\n",
        "# 토큰 ID를 다시 사람이 읽을 수 있는 텍스트로 디코딩하는 것으로, 스페셜 토큰을 제거\n",
        "print(tokenizer.decode(greedy_output.tolist()[0], skip_special_tokens=True))"
      ],
      "metadata": {
        "colab": {
          "base_uri": "https://localhost:8080/"
        },
        "id": "-DG40XsN2uxV",
        "outputId": "fdafd8f8-18e8-4447-c04d-840a423e295b"
      },
      "execution_count": null,
      "outputs": [
        {
          "output_type": "stream",
          "name": "stdout",
          "text": [
            "Output:\n",
            "--------------------------------------------------------------------------------\n",
            "--------------------\n",
            "건강한 삶을 위해서는 규칙적인 생활습관이 중요하다.</s><s> 이 같은 사실은 지난 4월 말 한·중·일 3국 3각 협력기구인 ‘한·중·일 3국\n",
            "협력사무국’이 출범하면서 더욱 부각됐다.</s><s> 한·중·일 3국은 3국 협력사무국 출범 이후 3국 협력사무국 설치에 합의했다.</s><s>\n",
            "3국 협력사무국은 3국 협력사무국 설치에 따른 3국 협력방안, 3국 협력사업 추진방안\n"
          ]
        }
      ]
    },
    {
      "cell_type": "code",
      "source": [
        "# 2. Beam Search\n",
        "\n",
        "beam_output = model.generate(\n",
        "    input_ids,\n",
        "    max_length=50,\n",
        "    # num_beams = 1일 경우 greedy search\n",
        "    num_beams=5,\n",
        "    early_stopping=True\n",
        ")\n",
        "\n",
        "print(\"Output:\\n\" + 100 * '-')\n",
        "print(tokenizer.decode(beam_output.tolist()[0], skip_special_tokens=True))"
      ],
      "metadata": {
        "colab": {
          "base_uri": "https://localhost:8080/"
        },
        "id": "Kv8ltJef3HH1",
        "outputId": "46a0b923-3090-41e9-aaa2-a0388a6d1394"
      },
      "execution_count": null,
      "outputs": [
        {
          "output_type": "stream",
          "name": "stdout",
          "text": [
            "Output:\n",
            "--------------------------------------------------------------------------------\n",
            "--------------------\n",
            "건강한 삶을 위해서는 규칙적인 생활습관이 중요하다.</s><s> 그는 또 \"우리나라는 세계 유일의 분단국가\"라며 \"남한과 북한 사이에 완충지대가\n",
            "필요한데, 이 완충지대를 지켜내는 것이 매우 중요하다\"고 강조했다.</s><s> 그는\n"
          ]
        }
      ]
    },
    {
      "cell_type": "code",
      "source": [
        "beam_outputs = model.generate(\n",
        "    input_ids,\n",
        "    max_length=50,\n",
        "    num_beams=5,\n",
        "    no_repeat_ngram_size=2,\n",
        "    num_return_sequences=5,\n",
        "    early_stopping=True\n",
        ")\n",
        "\n",
        "print(\"Output:\\n\" + 100 * '-')\n",
        "for i, beam_output in enumerate(beam_outputs):\n",
        "  print(\"{}: {}\".format(i, tokenizer.decode(beam_output.tolist(), skip_special_tokens=True)))"
      ],
      "metadata": {
        "colab": {
          "base_uri": "https://localhost:8080/"
        },
        "id": "NGNC-1FK3Pna",
        "outputId": "142d9137-2718-449d-db71-d4ec9c36a5a9"
      },
      "execution_count": null,
      "outputs": [
        {
          "output_type": "stream",
          "name": "stdout",
          "text": [
            "Output:\n",
            "--------------------------------------------------------------------------------\n",
            "--------------------\n",
            "0: 건강한 삶을 위해서는 규칙적인 생활습관이 중요하다.</s><s> 그는 이어 \"이번 대선은 박근혜 후보와 문재인 후보, 안철수 후보 등 3자\n",
            "대결로 치러졌다\"며 \"문 후보와 안 후보간 단일화는 이번 대선의 가장 중요한 승부처가\n",
            "1: 건강한 삶을 위해서는 규칙적인 생활습관이 중요하다.</s><s> 그는 이어 \"이번 대선은 박근혜 후보와 문재인 후보, 안철수 후보 등 3자\n",
            "대결로 치러졌다\"며 \"문 후보와 안 후보간 단일화는 이번 대선의 가장 중요한 승부처\"\n",
            "2: 건강한 삶을 위해서는 규칙적인 생활습관이 중요하다.</s><s> 그는 이어 \"이번 대선은 박근혜 후보와 문재인 후보, 안철수 후보 등 3자\n",
            "대결로 치러졌다\"며 \"문 후보와 안 후보간 단일화는 이번 대선의 가장 중요한 분수령이 될\n",
            "3: 건강한 삶을 위해서는 규칙적인 생활습관이 중요하다.</s><s> 그는 이어 \"이번 대선은 박근혜 후보와 문재인 후보, 안철수 후보 등 3자\n",
            "대결로 치러졌다\"며 \"문 후보와 안 후보간 단일화는 이번 대선의 가장 중요한 변곡점\n",
            "4: 건강한 삶을 위해서는 규칙적인 생활습관이 중요하다.</s><s> 그는 이어 \"이번 대선은 박근혜 후보와 문재인 후보, 안철수 후보 등 3자\n",
            "대결로 치러졌다\"며 \"문 후보와 안 후보간 단일화는 이번 대선의 최대 변수\"라고 강조했다\n"
          ]
        }
      ]
    },
    {
      "cell_type": "code",
      "source": [
        "# 3.Samping\n",
        "\n",
        "sample_output = model.generate(\n",
        "    input_ids,\n",
        "    do_sample=True,\n",
        "    max_length=50,\n",
        "    top_k=0\n",
        ")\n",
        "\n",
        "print(\"Output:\\n\" + 100 * '-')\n",
        "print(tokenizer.decode(sample_output.tolist()[0], skip_special_tokens=True))"
      ],
      "metadata": {
        "colab": {
          "base_uri": "https://localhost:8080/"
        },
        "id": "DmqF0L0e52aE",
        "outputId": "a23634e6-dcbc-46b7-f1d1-12068afbbe8e"
      },
      "execution_count": null,
      "outputs": [
        {
          "output_type": "stream",
          "name": "stdout",
          "text": [
            "Output:\n",
            "--------------------------------------------------------------------------------\n",
            "--------------------\n",
            "건강한 삶을 위해서는 규칙적인 생활습관이 중요하다.</s><s> 개혁을 갈망하는 것\"이라고도 했다.</s><s> [기고] 고정관념 버리고\n",
            "‘블랙아웃’ 방지</s><s> 1933년 결국 전쟁이 끝났으므로 극단적으로 자유롭게 행동했다.</s>\n"
          ]
        }
      ]
    },
    {
      "cell_type": "code",
      "source": [
        "# temperature = 0.7로 설정\n",
        "sample_output = model.generate(\n",
        "    input_ids,\n",
        "    do_sample=True,\n",
        "    max_length=50,\n",
        "    top_k=0,\n",
        "    temperature=0.7\n",
        ")\n",
        "\n",
        "print(\"Output:\\n\" + 100 * '-')\n",
        "print(tokenizer.decode(sample_output.tolist()[0], skip_special_tokens=True))"
      ],
      "metadata": {
        "colab": {
          "base_uri": "https://localhost:8080/"
        },
        "id": "yhgXSnNP59f9",
        "outputId": "f51d5c50-163e-4d88-8154-d10f9122875e"
      },
      "execution_count": null,
      "outputs": [
        {
          "output_type": "stream",
          "name": "stdout",
          "text": [
            "Output:\n",
            "--------------------------------------------------------------------------------\n",
            "--------------------\n",
            "건강한 삶을 위해서는 규칙적인 생활습관이 중요하다.</s><s> 특히 지난 2월 서울시는 관내 가구별 출산·육아휴가에 적극 동참하는 시민\n",
            "6만명을 선정해, 출산장려금 지원, 산모신생아 도우미, 육아용품 지원, 산모 신생아 도우미\n"
          ]
        }
      ]
    },
    {
      "cell_type": "code",
      "source": [
        "# 4. Top-K Sampling\n",
        "\n",
        "sample_output = model.generate(\n",
        "    input_ids,\n",
        "    do_sample=True,\n",
        "    max_length=50,\n",
        "    top_k=50\n",
        ")\n",
        "\n",
        "print(\"Output:\\n\" + 100 * '-')\n",
        "print(tokenizer.decode(sample_output.tolist()[0], skip_special_tokens=True))"
      ],
      "metadata": {
        "colab": {
          "base_uri": "https://localhost:8080/"
        },
        "id": "cCAUvm5C6A-I",
        "outputId": "54ff1d49-af0f-400e-b217-69ca9f0d7a83"
      },
      "execution_count": null,
      "outputs": [
        {
          "output_type": "stream",
          "name": "stdout",
          "text": [
            "Output:\n",
            "--------------------------------------------------------------------------------\n",
            "--------------------\n",
            "건강한 삶을 위해서는 규칙적인 생활습관이 중요하다.</s><s> 경찰은 ᄀ씨와 관련, “ᄀ씨가 평소 우울증에 극심한 스트레스를 받았던 것으로\n",
            "보인다”고 밝혔다.</s><s> 경찰도 전날 ‘가정폭력’과 관련해 ᄀ씨를 ‘가정폭력 피해자’\n"
          ]
        }
      ]
    },
    {
      "cell_type": "code",
      "source": [
        "# 5. Top-p (nucleus) sampling\n",
        "\n",
        "sample_output = model.generate(\n",
        "    input_ids,\n",
        "    do_sample=True,\n",
        "    max_length=50,\n",
        "    top_p=0.92,\n",
        "    top_k=0\n",
        ")\n",
        "\n",
        "print(\"Output:\\n\" + 100 * '-')\n",
        "print(tokenizer.decode(sample_output.tolist()[0], skip_special_tokens=True))"
      ],
      "metadata": {
        "colab": {
          "base_uri": "https://localhost:8080/"
        },
        "id": "7R1KKMyQ6RKB",
        "outputId": "3402771b-09af-454f-dc73-5016633e0e53"
      },
      "execution_count": null,
      "outputs": [
        {
          "output_type": "stream",
          "name": "stdout",
          "text": [
            "Output:\n",
            "--------------------------------------------------------------------------------\n",
            "--------------------\n",
            "건강한 삶을 위해서는 규칙적인 생활습관이 중요하다.</s><s> 하지만 회사측은 \"조만간 322기통 터보 엔진과 7단 스텝트로닉변속기를 조합한\n",
            "다른 모델이 출시된다\"며 \"아직 그런 계획은 없다\"고 밝혀 실제 판매는 더 줄어들 가능성이 있다.\n"
          ]
        }
      ]
    }
  ]
}
