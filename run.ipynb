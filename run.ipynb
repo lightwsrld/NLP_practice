{
  "nbformat": 4,
  "nbformat_minor": 0,
  "metadata": {
    "colab": {
      "provenance": [],
      "machine_shape": "hm",
      "gpuType": "A100",
      "authorship_tag": "ABX9TyMeFzHUanRCh624CLWXrxcq"
    },
    "kernelspec": {
      "name": "python3",
      "display_name": "Python 3"
    },
    "language_info": {
      "name": "python"
    },
    "accelerator": "GPU"
  },
  "cells": [
    {
      "cell_type": "code",
      "execution_count": null,
      "metadata": {
        "colab": {
          "base_uri": "https://localhost:8080/"
        },
        "id": "OSn9XHn62al8",
        "outputId": "1ef2fc75-df38-4006-aedf-305be8159584"
      },
      "outputs": [
        {
          "output_type": "stream",
          "name": "stdout",
          "text": [
            "Mounted at /content/drive\n"
          ]
        }
      ],
      "source": [
        "from google.colab import drive\n",
        "drive.mount('/content/drive')"
      ]
    },
    {
      "cell_type": "code",
      "source": [
        "import os\n",
        "os.chdir('/content/drive/MyDrive/Colab Notebooks/transformer')"
      ],
      "metadata": {
        "id": "bPTLxgyE3Rnz"
      },
      "execution_count": null,
      "outputs": []
    },
    {
      "cell_type": "code",
      "source": [
        "!python main.py"
      ],
      "metadata": {
        "colab": {
          "base_uri": "https://localhost:8080/"
        },
        "id": "6qXpB7jDk4tB",
        "outputId": "33634a05-d9f8-4a58-eab3-05b67dca259f"
      },
      "execution_count": null,
      "outputs": [
        {
          "output_type": "stream",
          "name": "stdout",
          "text": [
            "100% 50000/50000 [00:01<00:00, 32328.20it/s]\n",
            "[EPOCH: 1], Train Loss:  0.69 | Train Accuracy: 51.46%\n",
            "[EPOCH: 1], Val Loss:  0.69 | Val Accuracy: 52.01%\n",
            "[EPOCH: 2], Train Loss:  0.67 | Train Accuracy: 56.78%\n",
            "[EPOCH: 2], Val Loss:  0.64 | Val Accuracy: 63.93%\n",
            "[EPOCH: 3], Train Loss:  0.60 | Train Accuracy: 66.63%\n",
            "[EPOCH: 3], Val Loss:  0.55 | Val Accuracy: 71.57%\n",
            "[EPOCH: 4], Train Loss:  0.53 | Train Accuracy: 73.11%\n",
            "[EPOCH: 4], Val Loss:  0.54 | Val Accuracy: 73.05%\n",
            "[EPOCH: 5], Train Loss:  0.50 | Train Accuracy: 75.34%\n",
            "[EPOCH: 5], Val Loss:  0.48 | Val Accuracy: 76.62%\n",
            "[EPOCH: 6], Train Loss:  0.48 | Train Accuracy: 76.88%\n",
            "[EPOCH: 6], Val Loss:  0.47 | Val Accuracy: 76.91%\n",
            "[EPOCH: 7], Train Loss:  0.46 | Train Accuracy: 78.20%\n",
            "[EPOCH: 7], Val Loss:  0.45 | Val Accuracy: 78.05%\n",
            "[EPOCH: 8], Train Loss:  0.44 | Train Accuracy: 79.05%\n",
            "[EPOCH: 8], Val Loss:  0.43 | Val Accuracy: 79.20%\n",
            "Test Accuracy: 0.80200, Test Loss: 0.42857\n"
          ]
        }
      ]
    },
    {
      "cell_type": "code",
      "source": [
        "!python main.py --help"
      ],
      "metadata": {
        "colab": {
          "base_uri": "https://localhost:8080/"
        },
        "id": "ETDS1hZsMHOe",
        "outputId": "f1f8bb45-eb8d-46e2-99ec-46d20d6c213d"
      },
      "execution_count": null,
      "outputs": [
        {
          "output_type": "stream",
          "name": "stdout",
          "text": [
            "usage: main.py\n",
            "       [-h]\n",
            "       [--vocab_size VOCAB_SIZE]\n",
            "       [--embedding_size EMBEDDING_SIZE]\n",
            "       [--batch_size BATCH_SIZE]\n",
            "       [--hidden_size HIDDEN_SIZE]\n",
            "       [--n_heads N_HEADS]\n",
            "       [--n_layers N_LAYERS]\n",
            "       [--n_labels N_LABELS]\n",
            "       [--dropout DROPOUT]\n",
            "       [--seq_length SEQ_LENGTH]\n",
            "       [--learning_rate LEARNING_RATE]\n",
            "       [--grad_clip GRAD_CLIP]\n",
            "       [--train_size TRAIN_SIZE]\n",
            "       [--val_size VAL_SIZE]\n",
            "       [--epochs EPOCHS]\n",
            "       [--es_threshold ES_THRESHOLD]\n",
            "\n",
            "argparser\n",
            "\n",
            "options:\n",
            "  -h, --help\n",
            "    show this\n",
            "    help\n",
            "    message and\n",
            "    exit\n",
            "  --vocab_size VOCAB_SIZE\n",
            "    Vocabulary\n",
            "    size\n",
            "  --embedding_size EMBEDDING_SIZE\n",
            "    Embedding\n",
            "    size\n",
            "  --batch_size BATCH_SIZE\n",
            "    Batch size\n",
            "  --hidden_size HIDDEN_SIZE\n",
            "    Hidden size\n",
            "  --n_heads N_HEADS\n",
            "    Number of\n",
            "    attention\n",
            "    heads\n",
            "  --n_layers N_LAYERS\n",
            "    Number of\n",
            "    transformer\n",
            "    layers\n",
            "  --n_labels N_LABELS\n",
            "    Number of\n",
            "    labels\n",
            "  --dropout DROPOUT\n",
            "    Dropout\n",
            "    rate\n",
            "  --seq_length SEQ_LENGTH\n",
            "    Maximum\n",
            "    sequence\n",
            "    length\n",
            "  --learning_rate LEARNING_RATE\n",
            "    Learning\n",
            "    rate\n",
            "  --grad_clip GRAD_CLIP\n",
            "    Gradient\n",
            "    clipping\n",
            "  --train_size TRAIN_SIZE\n",
            "    Training\n",
            "    set size\n",
            "  --val_size VAL_SIZE\n",
            "    Validation\n",
            "    set size\n",
            "  --epochs EPOCHS\n",
            "    Number of\n",
            "    training\n",
            "    epochs\n",
            "  --es_threshold ES_THRESHOLD\n",
            "    Early\n",
            "    stopping\n",
            "    threshold\n"
          ]
        }
      ]
    },
    {
      "cell_type": "code",
      "source": [
        "!python main.py --epochs 3"
      ],
      "metadata": {
        "colab": {
          "base_uri": "https://localhost:8080/"
        },
        "id": "qsoiE1u4bjbF",
        "outputId": "8cd79e48-cb4e-450b-9d16-9d87cd9bfdb5"
      },
      "execution_count": null,
      "outputs": [
        {
          "output_type": "stream",
          "name": "stdout",
          "text": [
            "100% 50000/50000 [00:01<00:00, 31935.83it/s]\n",
            "[EPOCH: 1], Train Loss:  0.69 | Train Accuracy: 50.97%\n",
            "[EPOCH: 1], Val Loss:  0.70 | Val Accuracy: 49.80%\n",
            "[EPOCH: 2], Train Loss:  0.65 | Train Accuracy: 61.46%\n",
            "[EPOCH: 2], Val Loss:  0.60 | Val Accuracy: 66.44%\n",
            "[EPOCH: 3], Train Loss:  0.59 | Train Accuracy: 68.12%\n",
            "[EPOCH: 3], Val Loss:  0.56 | Val Accuracy: 70.35%\n",
            "Test Accuracy: 0.70768, Test Loss: 0.56298\n"
          ]
        }
      ]
    }
  ]
}