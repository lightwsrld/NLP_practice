{
  "cells": [
    {
      "cell_type": "code",
      "metadata": {
        "id": "G6ro_WbHmWZh"
      },
      "source": [
        "import torch\n",
        "import torch.nn as nn\n",
        "import argparse\n",
        "from data_preprocess import preprocess_data, myTokenizerDE\n",
        "from model import TranslateTransformer\n",
        "from train import train_f\n",
        "from evaluate import evaluate_model\n",
        "import logging\n",
        "save_frequency = 1\n",
        "checkpoint_dir = '/path/to/checkpoints'\n",
        "\n",
        "def parse_args():\n",
        "    parser = argparse.ArgumentParser(description='argparser')\n",
        "\n",
        "    parser = argparse.ArgumentParser()\n",
        "    parser.add_argument('--learning_rate', type=float, default=5e-05, help='Learning rate')\n",
        "    parser.add_argument('--epochs', type=int, default=1, help='Number of training epochs')\n",
        "    parser.add_argument('--device', type=str, default='cuda', help='Device (cuda or cpu)')\n",
        "    parser.add_argument('--embedding_size', type=int, default=128, help='Embedding size')\n",
        "    parser.add_argument('--num_heads', type=int, default=8, help='Number of attention heads')\n",
        "    parser.add_argument('--num_encoder_layers', type=int, default=3, help='Number of encoder layers')\n",
        "    parser.add_argument('--num_decoder_layers', type=int, default=3, help='Number of decoder layers')\n",
        "    parser.add_argument('--max_len', type=int, default=227, help='Maximum sequence length')\n",
        "    parser.add_argument('--batch_size', type=int, default=8, help='Batch size')\n",
        "\n",
        "    args = parser.parse_args()\n",
        "\n",
        "    logging.basicConfig(level=logging.INFO)\n",
        "    logger = logging.getLogger(__name__)\n",
        "\n",
        "    logger.info(\"Training started...\")\n",
        "    logger.info(f\"Hyperparameters: learning_rate={args.learning_rate}, batch_size={args.batch_size}\")\n",
        "\n",
        "    return args\n",
        "\n",
        "if __name__ == \"__main__\":\n",
        "    args = parse_args()\n",
        "    device = torch.device('cuda' if torch.cuda.is_available() else 'cpu')\n",
        "\n",
        "    train_iterator, valid_iterator, test_iterator, SRC, TARGET = preprocess_data()\n",
        "    trg_vocab_size =len(TARGET.vocab)\n",
        "\n",
        "    model = TranslateTransformer(\n",
        "        embedding_size=args.embedding_size,\n",
        "        src_vocab_size=len(SRC.vocab),\n",
        "        trg_vocab_size=len(TARGET.vocab),\n",
        "        src_pad_idx=SRC.vocab.stoi[\"<pad>\"],\n",
        "        num_heads=args.num_heads,\n",
        "        num_encoder_layers=args.num_encoder_layers,\n",
        "        num_decoder_layers=args.num_decoder_layers,\n",
        "        max_len=args.max_len\n",
        "    )\n",
        "\n",
        "    optimizer = torch.optim.Adam(model.parameters(), lr=args.learning_rate)\n",
        "    criterion = nn.CrossEntropyLoss(ignore_index=SRC.vocab.stoi[\"<pad>\"])\n",
        "\n",
        "    train_losses, valid_losses = train_f(model, train_iterator,  valid_iterator, optimizer, criterion, device, checkpoint_dir, args.epochs, save_frequency, trg_vocab_size)\n",
        "\n",
        "    bleu_score = evaluate_model(model, test_iterator, SRC, TARGET, myTokenizerDE)\n",
        "    print(f'BLEU-4 Score: {bleu_score:.2f}')\n"
      ],
      "outputs": [],
      "execution_count": null
    }
  ],
  "metadata": {
    "anaconda-cloud": {},
    "kernelspec": {
      "display_name": "Python 3",
      "language": "python",
      "name": "python3"
    },
    "language_info": {
      "codemirror_mode": {
        "name": "ipython",
        "version": 3
      },
      "file_extension": ".py",
      "mimetype": "text/x-python",
      "name": "python",
      "nbconvert_exporter": "python",
      "pygments_lexer": "ipython3",
      "version": "3.6.1"
    },
    "colab": {
      "provenance": []
    }
  },
  "nbformat": 4,
  "nbformat_minor": 0
}