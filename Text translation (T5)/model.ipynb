{
  "cells": [
    {
      "cell_type": "code",
      "metadata": {
        "id": "Xrl0mHM0odl2"
      },
      "source": [
        "from transformers import T5ForConditionalGeneration\n",
        "\n",
        "# -Model- #\n",
        "\n",
        "def create_model(model_ckpt, device):\n",
        "    model = T5ForConditionalGeneration.from_pretrained(model_ckpt).to(device)\n",
        "    return model"
      ],
      "outputs": [],
      "execution_count": null
    }
  ],
  "metadata": {
    "anaconda-cloud": {},
    "kernelspec": {
      "display_name": "Python 3",
      "language": "python",
      "name": "python3"
    },
    "language_info": {
      "codemirror_mode": {
        "name": "ipython",
        "version": 3
      },
      "file_extension": ".py",
      "mimetype": "text/x-python",
      "name": "python",
      "nbconvert_exporter": "python",
      "pygments_lexer": "ipython3",
      "version": "3.6.1"
    },
    "colab": {
      "provenance": []
    }
  },
  "nbformat": 4,
  "nbformat_minor": 0
}
