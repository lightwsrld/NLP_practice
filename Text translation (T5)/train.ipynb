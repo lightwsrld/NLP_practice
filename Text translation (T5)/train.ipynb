{
  "cells": [
    {
      "cell_type": "code",
      "metadata": {
        "id": "G0U5vV8ConF-"
      },
      "source": [
        "from transformers import Seq2SeqTrainingArguments, Seq2SeqTrainer\n",
        "\n",
        "# -Train- #\n",
        "\n",
        "def create_training_args(output_dir):\n",
        "    training_args = Seq2SeqTrainingArguments(\n",
        "        output_dir=output_dir,\n",
        "        learning_rate=2e-5,\n",
        "        weight_decay=0.01,\n",
        "        per_device_train_batch_size=12,\n",
        "        per_device_eval_batch_size=12,\n",
        "        num_train_epochs=2,\n",
        "        save_steps=500,\n",
        "        save_total_limit=2,\n",
        "        evaluation_strategy=\"epoch\",\n",
        "        logging_strategy=\"no\",\n",
        "        predict_with_generate=True,\n",
        "        fp16=False,\n",
        "        gradient_accumulation_steps=2,\n",
        "        report_to=\"none\"\n",
        "    )\n",
        "    return training_args\n",
        "\n",
        "def create_trainer(model, training_args, tokenized_datasets, data_collator, tokenizer, compute_metrics):\n",
        "    trainer = Seq2SeqTrainer(\n",
        "        model,\n",
        "        training_args,\n",
        "        train_dataset=tokenized_datasets[\"train\"],\n",
        "        eval_dataset=tokenized_datasets[\"valid\"],\n",
        "        data_collator=data_collator,\n",
        "        tokenizer=tokenizer,\n",
        "        compute_metrics=compute_metrics,\n",
        "    )\n",
        "    return trainer"
      ],
      "outputs": [],
      "execution_count": null
    }
  ],
  "metadata": {
    "anaconda-cloud": {},
    "kernelspec": {
      "display_name": "Python 3",
      "language": "python",
      "name": "python3"
    },
    "language_info": {
      "codemirror_mode": {
        "name": "ipython",
        "version": 3
      },
      "file_extension": ".py",
      "mimetype": "text/x-python",
      "name": "python",
      "nbconvert_exporter": "python",
      "pygments_lexer": "ipython3",
      "version": "3.6.1"
    },
    "colab": {
      "provenance": []
    }
  },
  "nbformat": 4,
  "nbformat_minor": 0
}
