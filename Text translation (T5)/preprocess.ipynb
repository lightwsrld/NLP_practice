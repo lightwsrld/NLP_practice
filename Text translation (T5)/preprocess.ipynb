{
  "cells": [
    {
      "cell_type": "code",
      "metadata": {
        "id": "scbAH_wToUO2"
      },
      "source": [
        "import os\n",
        "from datasets import load_dataset\n",
        "\n",
        "# -Preprocess- #\n",
        "\n",
        "def load_multi30k_data(data_dir):\n",
        "    data_files = {\n",
        "        \"train\": os.path.join(data_dir, \"train/train.tsv\"),\n",
        "        \"valid\": os.path.join(data_dir, \"valid/valid.tsv\"),\n",
        "        \"test\": os.path.join(data_dir, \"test/test.tsv\"),\n",
        "    }\n",
        "    dataset = load_dataset(\"csv\", data_files=data_files, delimiter=\"\\t\")\n",
        "    return dataset\n",
        "\n",
        "def convert_examples_to_features(examples, tokenizer, max_token_length):\n",
        "    model_inputs = tokenizer(\n",
        "        examples['de'],\n",
        "        text_target=examples['en'],\n",
        "        max_length=max_token_length,\n",
        "        truncation=True\n",
        "    )\n",
        "    return model_inputs"
      ],
      "outputs": [],
      "execution_count": null
    }
  ],
  "metadata": {
    "anaconda-cloud": {},
    "kernelspec": {
      "display_name": "Python 3",
      "language": "python",
      "name": "python3"
    },
    "language_info": {
      "codemirror_mode": {
        "name": "ipython",
        "version": 3
      },
      "file_extension": ".py",
      "mimetype": "text/x-python",
      "name": "python",
      "nbconvert_exporter": "python",
      "pygments_lexer": "ipython3",
      "version": "3.6.1"
    },
    "colab": {
      "provenance": []
    }
  },
  "nbformat": 4,
  "nbformat_minor": 0
}
