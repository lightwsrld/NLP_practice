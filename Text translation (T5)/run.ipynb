{
  "nbformat": 4,
  "nbformat_minor": 0,
  "metadata": {
    "colab": {
      "provenance": [],
      "machine_shape": "hm",
      "gpuType": "A100",
      "authorship_tag": "ABX9TyOGESEN0yzmlsAfm7RAaR6o"
    },
    "kernelspec": {
      "name": "python3",
      "display_name": "Python 3"
    },
    "language_info": {
      "name": "python"
    },
    "accelerator": "GPU"
  },
  "cells": [
    {
      "cell_type": "code",
      "execution_count": null,
      "metadata": {
        "id": "5ywS6g1_FfoY"
      },
      "outputs": [],
      "source": [
        "! pip install -U accelerate\n",
        "! pip install -U transformers"
      ]
    },
    {
      "cell_type": "code",
      "source": [
        "!pip install sacrebleu"
      ],
      "metadata": {
        "id": "d0TL9YUhFl3A"
      },
      "execution_count": null,
      "outputs": []
    },
    {
      "cell_type": "code",
      "source": [
        "!pip install datasets"
      ],
      "metadata": {
        "id": "0rJAlo77Fnbi"
      },
      "execution_count": null,
      "outputs": []
    },
    {
      "cell_type": "code",
      "source": [
        "!pip install transformers"
      ],
      "metadata": {
        "id": "TeKwuCc4Fofg"
      },
      "execution_count": null,
      "outputs": []
    },
    {
      "cell_type": "code",
      "source": [
        "!pip install sentencepiece"
      ],
      "metadata": {
        "id": "IAh32Q0OFprA"
      },
      "execution_count": null,
      "outputs": []
    },
    {
      "cell_type": "code",
      "source": [
        "!pip install evaluate"
      ],
      "metadata": {
        "id": "UDrlddvMFqxN"
      },
      "execution_count": null,
      "outputs": []
    },
    {
      "cell_type": "code",
      "source": [
        "from google.colab import drive\n",
        "drive.mount('/content/drive')"
      ],
      "metadata": {
        "colab": {
          "base_uri": "https://localhost:8080/"
        },
        "id": "SvKhhO1sFsIG",
        "outputId": "81d821ed-d4e6-4584-a15e-5333c393160d"
      },
      "execution_count": 15,
      "outputs": [
        {
          "output_type": "stream",
          "name": "stdout",
          "text": [
            "Drive already mounted at /content/drive; to attempt to forcibly remount, call drive.mount(\"/content/drive\", force_remount=True).\n"
          ]
        }
      ]
    },
    {
      "cell_type": "code",
      "source": [
        "import os\n",
        "os.chdir('/content/drive/MyDrive/Colab Notebooks/multi30k/T5')"
      ],
      "metadata": {
        "id": "RJqWScjOG2_R"
      },
      "execution_count": 16,
      "outputs": []
    },
    {
      "cell_type": "code",
      "source": [
        "!python main.py"
      ],
      "metadata": {
        "colab": {
          "base_uri": "https://localhost:8080/"
        },
        "id": "crDYmp2SFyV7",
        "outputId": "5aafb3f6-85a6-4794-d068-4cc93d548655"
      },
      "execution_count": 17,
      "outputs": [
        {
          "output_type": "stream",
          "name": "stdout",
          "text": [
            "2023-10-04 16:39:31.815559: W tensorflow/compiler/tf2tensorrt/utils/py_utils.cc:38] TF-TRT Warning: Could not find TensorRT\n",
            "[nltk_data] Downloading package punkt to /root/nltk_data...\n",
            "[nltk_data]   Package punkt is already up-to-date!\n",
            "You are using the default legacy behaviour of the <class 'transformers.models.t5.tokenization_t5.T5Tokenizer'>. This is expected, and simply means that the `legacy` (previous) behavior will be used so nothing changes for you. If you want to use the new behaviour, set `legacy=False`. This should only be set if you understand what it means, and thouroughly read the reason why this was added as explained in https://github.com/huggingface/transformers/pull/24565\n",
            "Map: 100% 29000/29000 [00:05<00:00, 5553.57 examples/s]\n",
            "Map: 100% 1014/1014 [00:00<00:00, 5229.48 examples/s]\n",
            "Map: 100% 1000/1000 [00:00<00:00, 5428.69 examples/s]\n",
            " 50% 1208/2416 [02:07<02:00, 10.01it/s]/usr/local/lib/python3.10/dist-packages/transformers/generation/utils.py:1260: UserWarning: Using the model-agnostic default `max_length` (=20) to control the generation length. We recommend setting `max_new_tokens` to control the maximum length of the generation.\n",
            "  warnings.warn(\n",
            "\n",
            "  0% 0/85 [00:00<?, ?it/s]\u001b[A\n",
            "  2% 2/85 [00:00<00:08, 10.22it/s]\u001b[A\n",
            "  5% 4/85 [00:00<00:12,  6.47it/s]\u001b[A\n",
            "  6% 5/85 [00:00<00:13,  6.09it/s]\u001b[A\n",
            "  7% 6/85 [00:00<00:13,  5.79it/s]\u001b[A\n",
            "  8% 7/85 [00:01<00:14,  5.55it/s]\u001b[A\n",
            "  9% 8/85 [00:01<00:14,  5.35it/s]\u001b[A\n",
            " 11% 9/85 [00:01<00:14,  5.27it/s]\u001b[A\n",
            " 12% 10/85 [00:01<00:14,  5.21it/s]\u001b[A\n",
            " 13% 11/85 [00:01<00:14,  5.20it/s]\u001b[A\n",
            " 14% 12/85 [00:02<00:14,  5.21it/s]\u001b[A\n",
            " 15% 13/85 [00:02<00:13,  5.21it/s]\u001b[A\n",
            " 16% 14/85 [00:02<00:13,  5.24it/s]\u001b[A\n",
            " 18% 15/85 [00:02<00:13,  5.26it/s]\u001b[A\n",
            " 19% 16/85 [00:02<00:13,  5.17it/s]\u001b[A\n",
            " 20% 17/85 [00:03<00:13,  5.15it/s]\u001b[A\n",
            " 21% 18/85 [00:03<00:13,  5.11it/s]\u001b[A\n",
            " 22% 19/85 [00:03<00:12,  5.09it/s]\u001b[A\n",
            " 24% 20/85 [00:03<00:12,  5.04it/s]\u001b[A\n",
            " 25% 21/85 [00:03<00:12,  5.08it/s]\u001b[A\n",
            " 26% 22/85 [00:04<00:12,  5.13it/s]\u001b[A\n",
            " 27% 23/85 [00:04<00:12,  5.10it/s]\u001b[A\n",
            " 28% 24/85 [00:04<00:11,  5.10it/s]\u001b[A\n",
            " 29% 25/85 [00:04<00:11,  5.11it/s]\u001b[A\n",
            " 31% 26/85 [00:04<00:11,  5.07it/s]\u001b[A\n",
            " 32% 27/85 [00:05<00:11,  5.07it/s]\u001b[A\n",
            " 33% 28/85 [00:05<00:11,  5.08it/s]\u001b[A\n",
            " 34% 29/85 [00:05<00:10,  5.11it/s]\u001b[A\n",
            " 35% 30/85 [00:05<00:10,  5.11it/s]\u001b[A\n",
            " 36% 31/85 [00:05<00:10,  5.10it/s]\u001b[A\n",
            " 38% 32/85 [00:06<00:10,  5.00it/s]\u001b[A\n",
            " 39% 33/85 [00:06<00:10,  5.02it/s]\u001b[A\n",
            " 40% 34/85 [00:06<00:10,  5.00it/s]\u001b[A\n",
            " 41% 35/85 [00:06<00:10,  4.99it/s]\u001b[A\n",
            " 42% 36/85 [00:06<00:09,  5.03it/s]\u001b[A\n",
            " 44% 37/85 [00:07<00:09,  5.05it/s]\u001b[A\n",
            " 45% 38/85 [00:07<00:09,  5.03it/s]\u001b[A\n",
            " 46% 39/85 [00:07<00:09,  4.99it/s]\u001b[A\n",
            " 47% 40/85 [00:07<00:09,  5.00it/s]\u001b[A\n",
            " 48% 41/85 [00:07<00:08,  5.01it/s]\u001b[A\n",
            " 49% 42/85 [00:08<00:08,  5.02it/s]\u001b[A\n",
            " 51% 43/85 [00:08<00:08,  5.05it/s]\u001b[A\n",
            " 52% 44/85 [00:08<00:08,  5.10it/s]\u001b[A\n",
            " 53% 45/85 [00:08<00:07,  5.14it/s]\u001b[A\n",
            " 54% 46/85 [00:08<00:07,  5.11it/s]\u001b[A\n",
            " 55% 47/85 [00:09<00:07,  5.08it/s]\u001b[A\n",
            " 56% 48/85 [00:09<00:07,  5.12it/s]\u001b[A\n",
            " 58% 49/85 [00:09<00:07,  5.11it/s]\u001b[A\n",
            " 59% 50/85 [00:09<00:06,  5.09it/s]\u001b[A\n",
            " 60% 51/85 [00:09<00:06,  5.14it/s]\u001b[A\n",
            " 61% 52/85 [00:10<00:06,  5.21it/s]\u001b[A\n",
            " 62% 53/85 [00:10<00:06,  5.24it/s]\u001b[A\n",
            " 64% 54/85 [00:10<00:05,  5.19it/s]\u001b[A\n",
            " 65% 55/85 [00:10<00:05,  5.18it/s]\u001b[A\n",
            " 66% 56/85 [00:10<00:05,  5.18it/s]\u001b[A\n",
            " 67% 57/85 [00:10<00:05,  5.20it/s]\u001b[A\n",
            " 68% 58/85 [00:11<00:05,  5.24it/s]\u001b[A\n",
            " 69% 59/85 [00:11<00:04,  5.28it/s]\u001b[A\n",
            " 71% 60/85 [00:11<00:04,  5.30it/s]\u001b[A\n",
            " 72% 61/85 [00:11<00:04,  5.32it/s]\u001b[A\n",
            " 73% 62/85 [00:11<00:04,  5.32it/s]\u001b[A\n",
            " 74% 63/85 [00:12<00:04,  5.32it/s]\u001b[A\n",
            " 75% 64/85 [00:12<00:03,  5.31it/s]\u001b[A\n",
            " 76% 65/85 [00:12<00:03,  5.26it/s]\u001b[A\n",
            " 78% 66/85 [00:12<00:03,  5.14it/s]\u001b[A\n",
            " 79% 67/85 [00:12<00:03,  5.18it/s]\u001b[A\n",
            " 80% 68/85 [00:13<00:03,  5.15it/s]\u001b[A\n",
            " 81% 69/85 [00:13<00:03,  5.18it/s]\u001b[A\n",
            " 82% 70/85 [00:13<00:02,  5.16it/s]\u001b[A\n",
            " 84% 71/85 [00:13<00:02,  5.16it/s]\u001b[A\n",
            " 85% 72/85 [00:13<00:02,  5.12it/s]\u001b[A\n",
            " 86% 73/85 [00:14<00:02,  5.14it/s]\u001b[A\n",
            " 87% 74/85 [00:14<00:02,  5.16it/s]\u001b[A\n",
            " 88% 75/85 [00:14<00:01,  5.20it/s]\u001b[A\n",
            " 89% 76/85 [00:14<00:01,  5.22it/s]\u001b[A\n",
            " 91% 77/85 [00:14<00:01,  5.24it/s]\u001b[A\n",
            " 92% 78/85 [00:14<00:01,  5.25it/s]\u001b[A\n",
            " 93% 79/85 [00:15<00:01,  5.29it/s]\u001b[A\n",
            " 94% 80/85 [00:15<00:00,  5.29it/s]\u001b[A\n",
            " 95% 81/85 [00:15<00:00,  5.25it/s]\u001b[A\n",
            " 96% 82/85 [00:15<00:00,  5.20it/s]\u001b[A\n",
            " 98% 83/85 [00:15<00:00,  5.22it/s]\u001b[A\n",
            " 99% 84/85 [00:16<00:00,  5.23it/s]\u001b[A\n",
            "                                       \n",
            "\u001b[A{'eval_loss': 1.5570781230926514, 'eval_bleu': 23.205388511803974, 'eval_runtime': 31.8638, 'eval_samples_per_second': 31.823, 'eval_steps_per_second': 2.668, 'epoch': 1.0}\n",
            " 50% 1208/2416 [02:39<02:00, 10.01it/s]\n",
            "100% 85/85 [00:31<00:00,  5.23it/s]\u001b[A\n",
            "100% 2415/2416 [04:47<00:00,  9.81it/s]/usr/local/lib/python3.10/dist-packages/transformers/generation/utils.py:1260: UserWarning: Using the model-agnostic default `max_length` (=20) to control the generation length. We recommend setting `max_new_tokens` to control the maximum length of the generation.\n",
            "  warnings.warn(\n",
            "\n",
            "  0% 0/85 [00:00<?, ?it/s]\u001b[A\n",
            "  2% 2/85 [00:00<00:07, 10.55it/s]\u001b[A\n",
            "  5% 4/85 [00:00<00:12,  6.43it/s]\u001b[A\n",
            "  6% 5/85 [00:00<00:13,  5.96it/s]\u001b[A\n",
            "  7% 6/85 [00:00<00:13,  5.74it/s]\u001b[A\n",
            "  8% 7/85 [00:01<00:13,  5.61it/s]\u001b[A\n",
            "  9% 8/85 [00:01<00:14,  5.49it/s]\u001b[A\n",
            " 11% 9/85 [00:01<00:14,  5.36it/s]\u001b[A\n",
            " 12% 10/85 [00:01<00:14,  5.28it/s]\u001b[A\n",
            " 13% 11/85 [00:01<00:14,  5.25it/s]\u001b[A\n",
            " 14% 12/85 [00:02<00:13,  5.23it/s]\u001b[A\n",
            " 15% 13/85 [00:02<00:13,  5.15it/s]\u001b[A\n",
            " 16% 14/85 [00:02<00:13,  5.10it/s]\u001b[A\n",
            " 18% 15/85 [00:02<00:13,  5.13it/s]\u001b[A\n",
            " 19% 16/85 [00:02<00:13,  5.17it/s]\u001b[A\n",
            " 20% 17/85 [00:03<00:13,  5.18it/s]\u001b[A\n",
            " 21% 18/85 [00:03<00:12,  5.20it/s]\u001b[A\n",
            " 22% 19/85 [00:03<00:12,  5.17it/s]\u001b[A\n",
            " 24% 20/85 [00:03<00:12,  5.14it/s]\u001b[A\n",
            " 25% 21/85 [00:03<00:12,  5.10it/s]\u001b[A\n",
            " 26% 22/85 [00:04<00:12,  5.14it/s]\u001b[A\n",
            " 27% 23/85 [00:04<00:11,  5.17it/s]\u001b[A\n",
            " 28% 24/85 [00:04<00:11,  5.16it/s]\u001b[A\n",
            " 29% 25/85 [00:04<00:11,  5.14it/s]\u001b[A\n",
            " 31% 26/85 [00:04<00:11,  5.11it/s]\u001b[A\n",
            " 32% 27/85 [00:05<00:11,  5.14it/s]\u001b[A\n",
            " 33% 28/85 [00:05<00:11,  5.16it/s]\u001b[A\n",
            " 34% 29/85 [00:05<00:10,  5.12it/s]\u001b[A\n",
            " 35% 30/85 [00:05<00:10,  5.16it/s]\u001b[A\n",
            " 36% 31/85 [00:05<00:10,  5.18it/s]\u001b[A\n",
            " 38% 32/85 [00:06<00:10,  5.22it/s]\u001b[A\n",
            " 39% 33/85 [00:06<00:09,  5.25it/s]\u001b[A\n",
            " 40% 34/85 [00:06<00:09,  5.25it/s]\u001b[A\n",
            " 41% 35/85 [00:06<00:09,  5.21it/s]\u001b[A\n",
            " 42% 36/85 [00:06<00:09,  5.17it/s]\u001b[A\n",
            " 44% 37/85 [00:06<00:09,  5.13it/s]\u001b[A\n",
            " 45% 38/85 [00:07<00:09,  5.12it/s]\u001b[A\n",
            " 46% 39/85 [00:07<00:08,  5.13it/s]\u001b[A\n",
            " 47% 40/85 [00:07<00:08,  5.10it/s]\u001b[A\n",
            " 48% 41/85 [00:07<00:08,  5.07it/s]\u001b[A\n",
            " 49% 42/85 [00:07<00:08,  5.04it/s]\u001b[A\n",
            " 51% 43/85 [00:08<00:08,  5.05it/s]\u001b[A\n",
            " 52% 44/85 [00:08<00:08,  4.97it/s]\u001b[A\n",
            " 53% 45/85 [00:08<00:07,  5.00it/s]\u001b[A\n",
            " 54% 46/85 [00:08<00:07,  5.08it/s]\u001b[A\n",
            " 55% 47/85 [00:08<00:07,  5.13it/s]\u001b[A\n",
            " 56% 48/85 [00:09<00:07,  5.18it/s]\u001b[A\n",
            " 58% 49/85 [00:09<00:06,  5.21it/s]\u001b[A\n",
            " 59% 50/85 [00:09<00:06,  5.23it/s]\u001b[A\n",
            " 60% 51/85 [00:09<00:06,  5.23it/s]\u001b[A\n",
            " 61% 52/85 [00:09<00:06,  5.19it/s]\u001b[A\n",
            " 62% 53/85 [00:10<00:06,  5.14it/s]\u001b[A\n",
            " 64% 54/85 [00:10<00:06,  5.14it/s]\u001b[A\n",
            " 65% 55/85 [00:10<00:06,  4.95it/s]\u001b[A\n",
            " 66% 56/85 [00:10<00:05,  5.02it/s]\u001b[A\n",
            " 67% 57/85 [00:10<00:05,  5.04it/s]\u001b[A\n",
            " 68% 58/85 [00:11<00:05,  5.05it/s]\u001b[A\n",
            " 69% 59/85 [00:11<00:05,  5.10it/s]\u001b[A\n",
            " 71% 60/85 [00:11<00:04,  5.13it/s]\u001b[A\n",
            " 72% 61/85 [00:11<00:04,  5.14it/s]\u001b[A\n",
            " 73% 62/85 [00:11<00:04,  5.19it/s]\u001b[A\n",
            " 74% 63/85 [00:12<00:04,  5.22it/s]\u001b[A\n",
            " 75% 64/85 [00:12<00:04,  5.25it/s]\u001b[A\n",
            " 76% 65/85 [00:12<00:03,  5.24it/s]\u001b[A\n",
            " 78% 66/85 [00:12<00:03,  5.21it/s]\u001b[A\n",
            " 79% 67/85 [00:12<00:03,  5.19it/s]\u001b[A\n",
            " 80% 68/85 [00:13<00:03,  5.13it/s]\u001b[A\n",
            " 81% 69/85 [00:13<00:03,  5.06it/s]\u001b[A\n",
            " 82% 70/85 [00:13<00:02,  5.10it/s]\u001b[A\n",
            " 84% 71/85 [00:13<00:02,  5.11it/s]\u001b[A\n",
            " 85% 72/85 [00:13<00:02,  5.11it/s]\u001b[A\n",
            " 86% 73/85 [00:14<00:02,  5.06it/s]\u001b[A\n",
            " 87% 74/85 [00:14<00:02,  5.03it/s]\u001b[A\n",
            " 88% 75/85 [00:14<00:01,  5.06it/s]\u001b[A\n",
            " 89% 76/85 [00:14<00:01,  5.12it/s]\u001b[A\n",
            " 91% 77/85 [00:14<00:01,  5.19it/s]\u001b[A\n",
            " 92% 78/85 [00:14<00:01,  5.25it/s]\u001b[A\n",
            " 93% 79/85 [00:15<00:01,  5.29it/s]\u001b[A\n",
            " 94% 80/85 [00:15<00:00,  5.30it/s]\u001b[A\n",
            " 95% 81/85 [00:15<00:00,  5.32it/s]\u001b[A\n",
            " 96% 82/85 [00:15<00:00,  5.33it/s]\u001b[A\n",
            " 98% 83/85 [00:15<00:00,  5.33it/s]\u001b[A\n",
            " 99% 84/85 [00:16<00:00,  5.29it/s]\u001b[A\n",
            "                                       \n",
            "\u001b[A{'eval_loss': 1.5014866590499878, 'eval_bleu': 24.406120353768166, 'eval_runtime': 31.722, 'eval_samples_per_second': 31.965, 'eval_steps_per_second': 2.68, 'epoch': 2.0}\n",
            "100% 2416/2416 [05:18<00:00,  9.81it/s]\n",
            "100% 85/85 [00:31<00:00,  5.29it/s]\u001b[A\n",
            "{'train_runtime': 318.944, 'train_samples_per_second': 181.85, 'train_steps_per_second': 7.575, 'train_loss': 1.9812876720302153, 'epoch': 2.0}\n",
            "100% 2416/2416 [05:18<00:00,  7.57it/s]\n",
            "100% 85/85 [00:31<00:00,  2.71it/s]\n",
            "INFO:__main__:BLEU Score: 24.4061\n",
            "INFO:__main__:Average BLEU-4 Score: 0.2269\n"
          ]
        }
      ]
    },
    {
      "cell_type": "code",
      "source": [
        "!python main.py --help"
      ],
      "metadata": {
        "colab": {
          "base_uri": "https://localhost:8080/"
        },
        "id": "N5FNMgpZjDuw",
        "outputId": "2c942c80-6291-4ebf-bf32-fd5122d74d61"
      },
      "execution_count": 18,
      "outputs": [
        {
          "output_type": "stream",
          "name": "stdout",
          "text": [
            "2023-10-04 16:48:18.959434: W tensorflow/compiler/tf2tensorrt/utils/py_utils.cc:38] TF-TRT Warning: Could not find TensorRT\n",
            "[nltk_data] Downloading package punkt to /root/nltk_data...\n",
            "[nltk_data]   Package punkt is already up-to-date!\n",
            "usage: main.py\n",
            "       [-h]\n",
            "       [--data_dir DATA_DIR]\n",
            "       [--model_ckpt MODEL_CKPT]\n",
            "       [--output_dir OUTPUT_DIR]\n",
            "       [--max_token_length MAX_TOKEN_LENGTH]\n",
            "\n",
            "options:\n",
            "  -h, --help\n",
            "    show this\n",
            "    help\n",
            "    message and\n",
            "    exit\n",
            "  --data_dir DATA_DIR\n",
            "    Directory\n",
            "    containing\n",
            "    data files\n",
            "  --model_ckpt MODEL_CKPT\n",
            "    Path to the\n",
            "    model\n",
            "    checkpoint\n",
            "  --output_dir OUTPUT_DIR\n",
            "    Directory\n",
            "    to save\n",
            "    model\n",
            "    checkpoints\n",
            "  --max_token_length MAX_TOKEN_LENGTH\n",
            "    Maximum\n",
            "    token\n",
            "    length\n"
          ]
        }
      ]
    }
  ]
}
