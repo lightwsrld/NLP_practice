{
  "cells": [
    {
      "cell_type": "code",
      "metadata": {
        "id": "C_4b09aBBoZ0"
      },
      "source": [
        "import torch\n",
        "import time\n",
        "import math\n",
        "import argparse\n",
        "\n",
        "# -Train- #\n",
        "def train(model, dataloader, optimizer, criterion, args):\n",
        "    model.train()\n",
        "    epoch_loss = 0\n",
        "\n",
        "    for batch in dataloader:\n",
        "        src, trg = batch\n",
        "        optimizer.zero_grad()\n",
        "        output, _ = model(src, trg[:, :-1])\n",
        "        output_dim = output.shape[-1]\n",
        "        output = output.contiguous().view(-1, output_dim)\n",
        "        trg = trg[:, 1:].contiguous().view(-1)\n",
        "        loss = criterion(output, trg)\n",
        "        loss.backward()\n",
        "        torch.nn.utils.clip_grad_norm_(model.parameters(), args.clip)\n",
        "        optimizer.step()\n",
        "        epoch_loss += loss.item()\n",
        "\n",
        "    return epoch_loss / len(dataloader)\n",
        "\n",
        "# Training loop\n",
        "\n",
        "def run_training_loop(model, train_loader, optimizer, criterion, args):\n",
        "    for epoch in range(args.n_epochs):\n",
        "        start_time = time.time()\n",
        "\n",
        "        train_loss = train(model, train_loader, optimizer, criterion, args)\n",
        "\n",
        "        end_time = time.time()\n",
        "        epoch_mins, epoch_secs = divmod(end_time - start_time, 60)\n",
        "\n",
        "        print(f'Epoch: {epoch + 1:02} | Time: {epoch_mins}m {epoch_secs:.2f}s')\n",
        "        print(f'\\tTrain Loss: {train_loss:.3f} | Train PPL: {math.exp(train_loss):.3f}')"
      ],
      "outputs": [],
      "execution_count": null
    }
  ],
  "metadata": {
    "anaconda-cloud": {},
    "kernelspec": {
      "display_name": "Python 3",
      "language": "python",
      "name": "python3"
    },
    "language_info": {
      "codemirror_mode": {
        "name": "ipython",
        "version": 3
      },
      "file_extension": ".py",
      "mimetype": "text/x-python",
      "name": "python",
      "nbconvert_exporter": "python",
      "pygments_lexer": "ipython3",
      "version": "3.6.1"
    },
    "colab": {
      "provenance": []
    }
  },
  "nbformat": 4,
  "nbformat_minor": 0
}
