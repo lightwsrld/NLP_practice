{
  "cells": [
    {
      "cell_type": "code",
      "metadata": {
        "id": "2jHtOk_-5m7Q"
      },
      "source": [
        "import torch\n",
        "from torch.utils.data import Dataset, DataLoader\n",
        "\n",
        "# -dataset- #\n",
        "\n",
        "class IMDbDataset(Dataset):\n",
        "    def __init__(self, data_x, data_y):\n",
        "        self.data_x = data_x\n",
        "        self.data_y = data_y\n",
        "\n",
        "    def __len__(self):\n",
        "        return len(self.data_x)\n",
        "\n",
        "    def __getitem__(self, idx):\n",
        "        x = self.data_x[idx]\n",
        "        y = self.data_y[idx]\n",
        "        return torch.tensor(x), torch.tensor(y)\n",
        "\n",
        "def split_data(features, labels, train_size, val_size):\n",
        "    split_id = int(len(features) * train_size)\n",
        "    train_x, remain_x = features[:split_id], features[split_id:]\n",
        "    train_y, remain_y = labels[:split_id], labels[split_id:]\n",
        "\n",
        "    split_val_id = int(len(remain_x) * val_size)\n",
        "    val_x, test_x = remain_x[:split_val_id], remain_x[split_val_id:]\n",
        "    val_y, test_y = remain_y[:split_val_id], remain_y[split_val_id:]\n",
        "\n",
        "    return train_x, train_y, val_x, val_y, test_x, test_y\n",
        "\n",
        "def get_data_loaders(train_x, train_y, val_x, val_y, test_x, test_y, batch_size):\n",
        "    trainset = IMDbDataset(train_x, train_y)\n",
        "    validset = IMDbDataset(val_x, val_y)\n",
        "    testset = IMDbDataset(test_x, test_y)\n",
        "\n",
        "    train_loader = DataLoader(trainset, shuffle=True, batch_size=batch_size)\n",
        "    val_loader = DataLoader(validset, shuffle=False, batch_size=batch_size)\n",
        "    test_loader = DataLoader(testset, shuffle=False, batch_size=batch_size)\n",
        "\n",
        "    return train_loader, val_loader, test_loader\n"
      ],
      "outputs": [],
      "execution_count": null
    }
  ],
  "metadata": {
    "anaconda-cloud": {},
    "kernelspec": {
      "display_name": "Python 3",
      "language": "python",
      "name": "python3"
    },
    "language_info": {
      "codemirror_mode": {
        "name": "ipython",
        "version": 3
      },
      "file_extension": ".py",
      "mimetype": "text/x-python",
      "name": "python",
      "nbconvert_exporter": "python",
      "pygments_lexer": "ipython3",
      "version": "3.6.1"
    },
    "colab": {
      "provenance": []
    }
  },
  "nbformat": 4,
  "nbformat_minor": 0
}