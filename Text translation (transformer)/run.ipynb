{
  "nbformat": 4,
  "nbformat_minor": 0,
  "metadata": {
    "colab": {
      "provenance": [],
      "machine_shape": "hm",
      "gpuType": "A100",
      "authorship_tag": "ABX9TyOzazJKRvIqMkVYQlvF0lr0"
    },
    "kernelspec": {
      "name": "python3",
      "display_name": "Python 3"
    },
    "language_info": {
      "name": "python"
    },
    "accelerator": "GPU"
  },
  "cells": [
    {
      "cell_type": "code",
      "execution_count": null,
      "metadata": {
        "id": "8NpuQeXzNlGf"
      },
      "outputs": [],
      "source": [
        "!python -m spacy download de_core_news_sm\n",
        "!python -m spacy download en_core_web_sm"
      ]
    },
    {
      "cell_type": "code",
      "source": [
        "from google.colab import drive\n",
        "drive.mount('/content/drive')"
      ],
      "metadata": {
        "colab": {
          "base_uri": "https://localhost:8080/"
        },
        "id": "jgFGPh9YNm4q",
        "outputId": "769adcfb-5d94-4442-ce6a-f8d785dc09d9"
      },
      "execution_count": 2,
      "outputs": [
        {
          "output_type": "stream",
          "name": "stdout",
          "text": [
            "Mounted at /content/drive\n"
          ]
        }
      ]
    },
    {
      "cell_type": "code",
      "source": [
        "import os\n",
        "os.chdir('/content/drive/MyDrive/Colab Notebooks/multi30k/nn.torch')"
      ],
      "metadata": {
        "id": "eJEuwNO6NoiJ"
      },
      "execution_count": 3,
      "outputs": []
    },
    {
      "cell_type": "code",
      "source": [
        "!python main.py"
      ],
      "metadata": {
        "colab": {
          "base_uri": "https://localhost:8080/"
        },
        "id": "VbLu3RS1N4B-",
        "outputId": "df7a6d64-5af8-437e-99e2-c25e9e2dbcbd"
      },
      "execution_count": 4,
      "outputs": [
        {
          "output_type": "stream",
          "name": "stdout",
          "text": [
            "2023-10-04 20:04:53.186674: I tensorflow/core/util/port.cc:110] oneDNN custom operations are on. You may see slightly different numerical results due to floating-point round-off errors from different computation orders. To turn them off, set the environment variable `TF_ENABLE_ONEDNN_OPTS=0`.\n",
            "2023-10-04 20:04:53.240404: I tensorflow/core/platform/cpu_feature_guard.cc:182] This TensorFlow binary is optimized to use available CPU instructions in performance-critical operations.\n",
            "To enable the following instructions: AVX2 AVX512F AVX512_VNNI FMA, in other operations, rebuild TensorFlow with the appropriate compiler flags.\n",
            "2023-10-04 20:04:54.209673: W tensorflow/compiler/tf2tensorrt/utils/py_utils.cc:38] TF-TRT Warning: Could not find TensorRT\n",
            "Epoch: 01 | Time: 1.0m 59.74s\n",
            "\tTrain Loss: 2.871 | Train PPL: 17.652\n",
            "Epoch: 02 | Time: 1.0m 58.70s\n",
            "\tTrain Loss: 2.086 | Train PPL: 8.051\n",
            "[100/1000]\n",
            "예측: ['a', 'brown', 'is', 'riding', 'a', 'train', 'through', 'the', 'snow', '.']\n",
            "정답: ['a', 'train', 'is', 'moving', 'on', 'tracks', 'next', 'to', 'some', 'snow', '.', '\\n']\n",
            "[200/1000]\n",
            "예측: ['the', 'man', 'with', 'a', 'bicycle', 'is', 'walking', 'down', 'the', 'street', 'with', 'the', 'street', '.']\n",
            "정답: ['a', 'man', 'with', 'his', 'bicycle', 'selling', 'his', 'products', 'on', 'a', 'street', '\\n']\n",
            "[300/1000]\n",
            "예측: ['this', 'is', 'a', 'young', 'boy', 'is', 'laying', 'on', 'the', 'water', 'with', 'his', 'hands', '.']\n",
            "정답: ['the', 'duck', 'flaps', 'its', 'wings', 'on', 'the', 'wet', 'rocks', 'by', 'the', 'water', '.', '\\n']\n",
            "[400/1000]\n",
            "예측: ['women', 'with', 'a', 'long', 'hair', 'stand', 'in', 'front', 'of', 'a', 'building', '.']\n",
            "정답: ['numerous', 'women', 'wearing', 'fur', 'coats', 'are', 'standing', 'outside', 'a', 'building', '.', '\\n']\n",
            "[500/1000]\n",
            "예측: ['a', 'soccer', 'player', 'is', 'trying', 'to', 'catch', 'the', 'ball', 'with', 'a', 'soccer', 'ball', '.']\n",
            "정답: ['a', 'soccer', 'player', 'is', 'pushed', 'as', 'he', 'tries', 'to', 'rebound', 'the', 'ball', 'with', 'his', 'head', '.', '\\n']\n",
            "[600/1000]\n",
            "예측: ['a', 'boy', 'dressed', 'in', 'blue', 'and', 'white', 'uniform', 'is', 'about', 'to', 'catch', 'a', 'soccer', 'ball', '.']\n",
            "정답: ['a', 'boy', 'in', 'blue', 'and', 'white', 'is', 'about', 'to', 'kick', 'a', 'soccer', 'ball', '.', '\\n']\n",
            "[700/1000]\n",
            "예측: ['a', 'little', 'couple', 'with', 'a', 'small', 'couple', 'and', 'a', 'small', 'couple', 'are', 'walking', 'on', 'the', 'ocean', '.']\n",
            "정답: ['a', 'small', 'pier', 'showing', 'the', 'sea', 'and', 'some', 'mountains', 'at', 'the', 'end', 'of', 'the', 'landscape', '\\n']\n",
            "[800/1000]\n",
            "예측: ['a', 'soccer', 'player', 'with', 'green', 'hair', 'is', 'riding', 'a', 'green', 'grass', 'with', 'trees', 'in', 'the', 'background', '.']\n",
            "정답: ['clear', 'view', 'of', 'a', 'reddish', 'desert', 'canyon', ',', 'with', 'a', 'green', 'canyon', 'floor', 'with', 'green', 'trees', ',', 'dark', 'sky', 'background', '.', '\\n']\n",
            "[900/1000]\n",
            "예측: ['a', 'motorcyclist', 'racing', 'in', 'a', 'race', ',', 'riding', 'a', 'race', ',', 'one', 'is', 'riding', 'a', 'race', '.']\n",
            "정답: ['a', 'moterbiker', 'is', 'making', 'a', 'sharp', 'turn', 'while', 'in', 'a', 'race', 'with', 'spectators', 'in', 'the', 'background', '.', '\\n']\n",
            "[1000/1000]\n",
            "예측: ['man', 'in', 'red', 'jacket', ',', 'red', 'jacket', ',', 'with', 'a', 'man', 'in', 'the']\n",
            "정답: ['man', 'with', 'gray', 'jacket', 'in', 'the', 'grass', 'surrounded', 'by', 'red', 'roses', '\\n']\n",
            "/usr/local/lib/python3.10/dist-packages/nltk/translate/bleu_score.py:552: UserWarning: \n",
            "The hypothesis contains 0 counts of 3-gram overlaps.\n",
            "Therefore the BLEU score evaluates to 0, independently of\n",
            "how many N-gram overlaps of lower order it contains.\n",
            "Consider using lower n-gram order or use SmoothingFunction()\n",
            "  warnings.warn(_msg)\n",
            "/usr/local/lib/python3.10/dist-packages/nltk/translate/bleu_score.py:552: UserWarning: \n",
            "The hypothesis contains 0 counts of 4-gram overlaps.\n",
            "Therefore the BLEU score evaluates to 0, independently of\n",
            "how many N-gram overlaps of lower order it contains.\n",
            "Consider using lower n-gram order or use SmoothingFunction()\n",
            "  warnings.warn(_msg)\n",
            "/usr/local/lib/python3.10/dist-packages/nltk/translate/bleu_score.py:552: UserWarning: \n",
            "The hypothesis contains 0 counts of 2-gram overlaps.\n",
            "Therefore the BLEU score evaluates to 0, independently of\n",
            "how many N-gram overlaps of lower order it contains.\n",
            "Consider using lower n-gram order or use SmoothingFunction()\n",
            "  warnings.warn(_msg)\n",
            "Average BLEU-4 Score = 8.41\n"
          ]
        }
      ]
    },
    {
      "cell_type": "code",
      "source": [
        "!python main.py --help"
      ],
      "metadata": {
        "colab": {
          "base_uri": "https://localhost:8080/"
        },
        "id": "i0IyRz0CN6h1",
        "outputId": "8d8edca7-0a53-4039-8183-7d45cb5f47d8"
      },
      "execution_count": 5,
      "outputs": [
        {
          "output_type": "stream",
          "name": "stdout",
          "text": [
            "2023-10-04 20:14:13.435204: I tensorflow/core/util/port.cc:110] oneDNN custom operations are on. You may see slightly different numerical results due to floating-point round-off errors from different computation orders. To turn them off, set the environment variable `TF_ENABLE_ONEDNN_OPTS=0`.\n",
            "2023-10-04 20:14:13.491286: I tensorflow/core/platform/cpu_feature_guard.cc:182] This TensorFlow binary is optimized to use available CPU instructions in performance-critical operations.\n",
            "To enable the following instructions: AVX2 AVX512F AVX512_VNNI FMA, in other operations, rebuild TensorFlow with the appropriate compiler flags.\n",
            "2023-10-04 20:14:14.464651: W tensorflow/compiler/tf2tensorrt/utils/py_utils.cc:38] TF-TRT Warning: Could not find TensorRT\n",
            "usage: main.py\n",
            "       [-h]\n",
            "       [--train_path_en TRAIN_PATH_EN]\n",
            "       [--train_path_de TRAIN_PATH_DE]\n",
            "       [--max_len MAX_LEN]\n",
            "       [--log_file LOG_FILE]\n",
            "       [--learning_rate LEARNING_RATE]\n",
            "       [--batch_size BATCH_SIZE]\n",
            "       [--n_epochs N_EPOCHS]\n",
            "       [--clip CLIP]\n",
            "\n",
            "Transformer\n",
            "Model for\n",
            "Machine\n",
            "Translation\n",
            "\n",
            "options:\n",
            "  -h, --help\n",
            "    show this\n",
            "    help\n",
            "    message and\n",
            "    exit\n",
            "  --train_path_en TRAIN_PATH_EN\n",
            "    Path to\n",
            "    English\n",
            "    training\n",
            "    data\n",
            "  --train_path_de TRAIN_PATH_DE\n",
            "    Path to\n",
            "    German\n",
            "    training\n",
            "    data\n",
            "  --max_len MAX_LEN\n",
            "    Maximum\n",
            "    translation\n",
            "    length\n",
            "  --log_file LOG_FILE\n",
            "    Log file\n",
            "    path\n",
            "  --learning_rate LEARNING_RATE\n",
            "    Learning\n",
            "    rate\n",
            "  --batch_size BATCH_SIZE\n",
            "    Dataloader\n",
            "    batch size\n",
            "  --n_epochs N_EPOCHS\n",
            "    Number of\n",
            "    training\n",
            "    epochs\n",
            "  --clip CLIP\n",
            "    Gradient\n",
            "    clipping\n",
            "    threshold\n"
          ]
        }
      ]
    },
    {
      "cell_type": "code",
      "source": [
        "!python main.py --n_epochs 4"
      ],
      "metadata": {
        "colab": {
          "base_uri": "https://localhost:8080/"
        },
        "id": "AuuFL_oKU9iK",
        "outputId": "aaf4cc13-e270-4a51-d3af-3f286fa7df07"
      },
      "execution_count": 7,
      "outputs": [
        {
          "output_type": "stream",
          "name": "stdout",
          "text": [
            "2023-10-04 20:16:02.720083: I tensorflow/core/util/port.cc:110] oneDNN custom operations are on. You may see slightly different numerical results due to floating-point round-off errors from different computation orders. To turn them off, set the environment variable `TF_ENABLE_ONEDNN_OPTS=0`.\n",
            "2023-10-04 20:16:02.774832: I tensorflow/core/platform/cpu_feature_guard.cc:182] This TensorFlow binary is optimized to use available CPU instructions in performance-critical operations.\n",
            "To enable the following instructions: AVX2 AVX512F AVX512_VNNI FMA, in other operations, rebuild TensorFlow with the appropriate compiler flags.\n",
            "2023-10-04 20:16:03.768943: W tensorflow/compiler/tf2tensorrt/utils/py_utils.cc:38] TF-TRT Warning: Could not find TensorRT\n",
            "Epoch: 01 | Time: 1.0m 59.70s\n",
            "\tTrain Loss: 2.871 | Train PPL: 17.656\n",
            "Epoch: 02 | Time: 1.0m 58.86s\n",
            "\tTrain Loss: 2.084 | Train PPL: 8.034\n",
            "Epoch: 03 | Time: 1.0m 57.63s\n",
            "\tTrain Loss: 1.783 | Train PPL: 5.945\n",
            "Epoch: 04 | Time: 1.0m 57.23s\n",
            "\tTrain Loss: 1.573 | Train PPL: 4.820\n",
            "[100/1000]\n",
            "예측: ['a', 'train', 'is', 'riding', 'something', 'through', 'the', 'snow', '.']\n",
            "정답: ['a', 'train', 'is', 'moving', 'on', 'tracks', 'next', 'to', 'some', 'snow', '.', '\\n']\n",
            "[200/1000]\n",
            "예측: ['man', 'with', 'backpack', 'selling', 'a', 'bicycle', 'on', 'the', 'street', '.']\n",
            "정답: ['a', 'man', 'with', 'his', 'bicycle', 'selling', 'his', 'products', 'on', 'a', 'street', '\\n']\n",
            "[300/1000]\n",
            "예측: ['the', 'beautiful', 'black', 'and', 'white', 'hard', 'hat', 'is', 'on', 'the', 'water', 'with', 'the', 'water', '.']\n",
            "정답: ['the', 'duck', 'flaps', 'its', 'wings', 'on', 'the', 'wet', 'rocks', 'by', 'the', 'water', '.', '\\n']\n",
            "[400/1000]\n",
            "예측: ['women', 'with', 'long', 'hair', 'stand', 'in', 'front', 'of', 'a', 'building', '.']\n",
            "정답: ['numerous', 'women', 'wearing', 'fur', 'coats', 'are', 'standing', 'outside', 'a', 'building', '.', '\\n']\n",
            "[500/1000]\n",
            "예측: ['a', 'soccer', 'player', 'is', 'trying', 'to', 'make', 'the', 'ball', 'as', 'he', 'tries', 'to', 'make', 'the', 'ball', '.']\n",
            "정답: ['a', 'soccer', 'player', 'is', 'pushed', 'as', 'he', 'tries', 'to', 'rebound', 'the', 'ball', 'with', 'his', 'head', '.', '\\n']\n",
            "[600/1000]\n",
            "예측: ['a', 'young', 'boy', 'in', 'yellow', 'is', 'about', 'to', 'hit', 'a', 'soccer', 'ball', '.']\n",
            "정답: ['a', 'boy', 'in', 'blue', 'and', 'white', 'is', 'about', 'to', 'kick', 'a', 'soccer', 'ball', '.', '\\n']\n",
            "[700/1000]\n",
            "예측: ['a', 'small', 'couple', 'of', 'people', 'are', 'walking', 'on', 'the', 'ocean', 'with', 'mountains', 'and', 'the', 'mountains', 'on', 'the', 'ocean']\n",
            "정답: ['a', 'small', 'pier', 'showing', 'the', 'sea', 'and', 'some', 'mountains', 'at', 'the', 'end', 'of', 'the', 'landscape', '\\n']\n",
            "[800/1000]\n",
            "예측: ['firefighters', 'are', 'walking', 'with', 'green', 'sky', ',', 'a', 'green', 'sky', ',', 'with', 'trees', 'in', 'the', 'background', '.']\n",
            "정답: ['clear', 'view', 'of', 'a', 'reddish', 'desert', 'canyon', ',', 'with', 'a', 'green', 'canyon', 'floor', 'with', 'green', 'trees', ',', 'dark', 'sky', 'background', '.', '\\n']\n",
            "[900/1000]\n",
            "예측: ['a', 'motorcycle', 'rider', 'is', 'riding', 'a', 'motorcycle', ',', 'a', 'track', ',', 'with', 'a', 'race', 'car', 'in', 'the', 'background']\n",
            "정답: ['a', 'moterbiker', 'is', 'making', 'a', 'sharp', 'turn', 'while', 'in', 'a', 'race', 'with', 'spectators', 'in', 'the', 'background', '.', '\\n']\n",
            "[1000/1000]\n",
            "예측: ['man', 'with', 'gray', 'jacket', ',', 'gray', 'jacket', ',', 'standing', 'in', 'the', 'grass', 'surrounded', 'by', 'red', 'jacket', '.']\n",
            "정답: ['man', 'with', 'gray', 'jacket', 'in', 'the', 'grass', 'surrounded', 'by', 'red', 'roses', '\\n']\n",
            "/usr/local/lib/python3.10/dist-packages/nltk/translate/bleu_score.py:552: UserWarning: \n",
            "The hypothesis contains 0 counts of 3-gram overlaps.\n",
            "Therefore the BLEU score evaluates to 0, independently of\n",
            "how many N-gram overlaps of lower order it contains.\n",
            "Consider using lower n-gram order or use SmoothingFunction()\n",
            "  warnings.warn(_msg)\n",
            "/usr/local/lib/python3.10/dist-packages/nltk/translate/bleu_score.py:552: UserWarning: \n",
            "The hypothesis contains 0 counts of 4-gram overlaps.\n",
            "Therefore the BLEU score evaluates to 0, independently of\n",
            "how many N-gram overlaps of lower order it contains.\n",
            "Consider using lower n-gram order or use SmoothingFunction()\n",
            "  warnings.warn(_msg)\n",
            "/usr/local/lib/python3.10/dist-packages/nltk/translate/bleu_score.py:552: UserWarning: \n",
            "The hypothesis contains 0 counts of 2-gram overlaps.\n",
            "Therefore the BLEU score evaluates to 0, independently of\n",
            "how many N-gram overlaps of lower order it contains.\n",
            "Consider using lower n-gram order or use SmoothingFunction()\n",
            "  warnings.warn(_msg)\n",
            "Average BLEU-4 Score = 10.52\n"
          ]
        }
      ]
    }
  ]
}
